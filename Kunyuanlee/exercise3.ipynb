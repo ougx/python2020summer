{
 "cells": [
  {
   "cell_type": "markdown",
   "metadata": {},
   "source": [
    "Exercise 4.1\n",
    "Write a Python program that prints all the numbers from 0 to 6 except 3 and 6"
   ]
  },
  {
   "cell_type": "code",
   "execution_count": 1,
   "metadata": {},
   "outputs": [
    {
     "name": "stdout",
     "output_type": "stream",
     "text": [
      "01245\n",
      "\n"
     ]
    }
   ],
   "source": [
    "for num in range(6):\n",
    "        if (num ==3 or num ==6): \n",
    "            continue\n",
    "        print(num, end = '')  \n",
    "print(\"\\n\")"
   ]
  },
  {
   "cell_type": "markdown",
   "metadata": {},
   "source": [
    "Exercise 4.2 Write a Python program to check the validity of password input by users."
   ]
  },
  {
   "cell_type": "code",
   "execution_count": 14,
   "metadata": {},
   "outputs": [
    {
     "name": "stdout",
     "output_type": "stream",
     "text": [
      "Please inpput your password: ej3f*#jS\n",
      "Valid Password\n"
     ]
    }
   ],
   "source": [
    "\n",
    "import re \n",
    "\n",
    "password = input(\"Please inpput your password: \")\n",
    "flag = 0\n",
    "while True:   \n",
    "    if (len(password)<8): \n",
    "        flag = -1\n",
    "        break\n",
    "    elif not re.search(\"[a-z]\", password): \n",
    "        flag = -1\n",
    "        break\n",
    "    elif not re.search(\"[A-Z]\", password): \n",
    "        flag = -1\n",
    "        break\n",
    "    elif not re.search(\"[0-9]\", password): \n",
    "        flag = -1\n",
    "        break\n",
    "    elif not re.search(\"[#@$]\", password): \n",
    "        flag = -1\n",
    "        break\n",
    "    elif re.search(\"\\s\", password): \n",
    "        flag = -1\n",
    "        break\n",
    "    else: \n",
    "        flag = 0\n",
    "        print(\"Valid Password\") \n",
    "        break\n",
    "  \n",
    "if flag ==-1: \n",
    "    print(\"Not a Valid Password\")"
   ]
  },
  {
   "cell_type": "markdown",
   "metadata": {},
   "source": [
    "Exercise 4.3 Write a Python program to construct the following pattern, using a nested for loop"
   ]
  },
  {
   "cell_type": "code",
   "execution_count": 3,
   "metadata": {},
   "outputs": [
    {
     "name": "stdout",
     "output_type": "stream",
     "text": [
      "\n",
      "* \n",
      "* * \n",
      "* * * \n",
      "* * * * \n",
      "* * * * * \n",
      "* * * * - \n",
      "* * * - - \n",
      "* * - - - \n",
      "* - - - - \n"
     ]
    }
   ],
   "source": [
    "#Question 4.3 \n",
    "n=5;\n",
    "for i in range(n):\n",
    "    for j in range(i):\n",
    "        print ('* ', end=\"\")\n",
    "    print('')\n",
    "\n",
    "for i in range(n,0,-1):\n",
    "    for j in range(i):\n",
    "        print('* ', end=\"\")\n",
    "    for k in range(n-i):\n",
    "        print('-', end = \" \")\n",
    "    print('')        \n",
    "            \n",
    "   \n",
    "    "
   ]
  },
  {
   "cell_type": "markdown",
   "metadata": {},
   "source": [
    "Exercise 4.4 There are 10 cars and their information are stored in four lists\n",
    "Based on the information above\n",
    "1. Find the brand and model of the safest car\n",
    "2. Find the safest brand for each vehicle type\n",
    "3. Calculate the total accidents for each brand and vehicle type, respectively"
   ]
  },
  {
   "cell_type": "code",
   "execution_count": 4,
   "metadata": {
    "scrolled": true
   },
   "outputs": [
    {
     "name": "stdout",
     "output_type": "stream",
     "text": [
      "The brand and model of the safest car is :  Chevy Silverado\n",
      "The  SUV  Model  of the safest brand is Honda\n",
      "The  Sedan  Model  of the safest brand is Honda\n",
      "The  Pickup  Model  of the safest brand is Chevy\n",
      "{'Ford': 212, 'Chevy': 147, 'Honda': 201}\n",
      "{'SUV': 339, 'Sedan': 165, 'Pickup': 56}\n"
     ]
    }
   ],
   "source": [
    "\n",
    "Brand = ['Ford', 'Ford', 'Chevy', 'Chevy', 'Honda', 'Ford', 'Honda', 'Honda', 'Ford', 'Chevy']\n",
    "Model = ['F150', 'Escape', 'Charger', 'Charger', 'Civic', 'Escape', 'CRV', 'CRV', 'F150', 'Silverado']\n",
    "Type = ['Pickup', 'SUV', 'Sedan', 'Sedan', 'Sedan', 'SUV', 'SUV', 'SUV', 'Pickup', 'Pickup']\n",
    "Accidents_each_year = [25, 79, 46, 90, 29, 88, 79, 93, 20, 11]\n",
    "\n",
    "\n",
    "Safe_index = Accidents_each_year.index(min(Accidents_each_year))\n",
    "print('The brand and model of the safest car is : ', Brand[Safe_index], Model[Safe_index])\n",
    "\n",
    "#Find the safest brand for each veicle type \n",
    "numaccident_Type = {t:{} for t in set(Type)}\n",
    "for b, t, n in zip(Brand, Type, Accidents_each_year):\n",
    "    \n",
    "    if b in numaccident_Type[t]:\n",
    "        numaccident_Type[t][b] += n\n",
    "    else:\n",
    "        numaccident_Type[t][b] = n\n",
    "for t in numaccident_Type:\n",
    "    minaccident = 10000\n",
    "    for b in numaccident_Type[t]:\n",
    "        if numaccident_Type[t][b] < minaccident:\n",
    "            minaccident = numaccident_Type[t][b]\n",
    "            safestbrand = b\n",
    "    numaccident_Type[t] = b\n",
    "    \n",
    "for t in numaccident_Type:\n",
    "    print( \"The \", t, \" Model\" , \" of the safest brand is \" + numaccident_Type[t])\n",
    "    \n",
    "Accidentbybrand = {b:0 for b in set(Brand)}\n",
    "Accidentbytype = {t:0 for t in set(Type)}\n",
    "for b, t, n in zip(Brand, Type, Accidents_each_year):\n",
    "    Accidentbybrand[b] += n \n",
    "    Accidentbytype[t] += n\n",
    "\n",
    "print(Accidentbybrand)\n",
    "print(Accidentbytype)\n",
    "    "
   ]
  },
  {
   "cell_type": "markdown",
   "metadata": {},
   "source": [
    "Exercise 4.5 Classify daily temperture (in degree Celsius) Stored in the temperatures list below into four different classes:\n",
    "Cold: Temperatures below -2 degrees\n",
    "Slippery: Temperatures equal to or warmer than -2 degrees and up to +2 degrees\n",
    "Comfortable: Temperatures equal to or warmer than +2 degrees and up to +15 degrees\n",
    "Warm: Temperatures warmer than +15 degrees\n",
    "1. Store the index of day for each of the classes\n",
    "2. Calculate the mean temperature in each class."
   ]
  },
  {
   "cell_type": "code",
   "execution_count": 9,
   "metadata": {},
   "outputs": [
    {
     "name": "stdout",
     "output_type": "stream",
     "text": [
      "Cold List [-5.4, -4.8, -4.4, -2.2, -3.9, -2.5, -4.6, -2.4, -3.3, -4.8, -2.8, -4.7, -5.6, -2.7, -4.6]\n",
      "Mean temperature for Cold day : -3.913333333333333 degree C\n",
      "Slippery List [1.0, -1.3, 0.1, 1.9, 1.0, -0.8, -0.1, -0.4, -0.9, 1.6, 1.8, 1.6, 1.5, 1.4, 1.6, -0.0]\n",
      "Mean temperature for Slippery day  0.625 degree C\n",
      "Comfortable List [3.9, 4.0, 4.4, 5.1, 2.1, 2.6, 3.4, 3.1, 2.4, 4.2, 3.5, 2.6, 3.1, 2.2, 3.3, 4.7, 4.0, 3.6, 4.9, 4.8, 5.3, 5.6, 4.1, 3.7, 7.6, 6.9, 5.1, 6.4, 3.8, 4.0, 8.6, 4.1, 8.9, 3.0, 8.5, 4.7, 6.6, 8.1, 4.5, 4.8, 11.3, 4.7, 5.2, 11.5, 6.2, 2.9, 4.3, 2.8, 2.8, 6.3, 2.6, 7.3, 3.4, 4.7, 9.3, 6.4, 5.4, 7.6, 5.2]\n",
      "Mean temperature for Comfortable day  5.01864406779661 degree C\n",
      "Warm List []\n",
      "Mean temperature for warm day = There are no data in this list\n"
     ]
    }
   ],
   "source": [
    "temperatures = [-5.4, 1.0, -1.3, -4.8, 3.9, 0.1, -4.4, 4.0, -2.2, -3.9, 4.4, -2.5, -4.6,5.1, 2.1, -2.4, 1.9, -3.3, -4.8, 1.0, -0.8, -2.8, -0.1, -4.7, -5.6, 2.6, -2.7, -4.6,3.4, -0.4, -0.9, 3.1, 2.4, 1.6, 4.2, 3.5, 2.6, 3.1, 2.2, 1.8, 3.3, 1.6, 1.5, 4.7, 4.0,3.6, 4.9, 4.8, 5.3, 5.6, 4.1, 3.7, 7.6, 6.9, 5.1, 6.4, 3.8, 4.0, 8.6, 4.1, 1.4, 8.9,3.0, 1.6, 8.5, 4.7, 6.6, 8.1, 4.5, 4.8, 11.3, 4.7, 5.2, 11.5, 6.2, 2.9, 4.3, 2.8, 2.8,6.3, 2.6, -0.0, 7.3, 3.4, 4.7, 9.3, 6.4, 5.4, 7.6, 5.2]\n",
    "\n",
    "coldlist = []\n",
    "slipperylist = []\n",
    "Comfortablelist = []\n",
    "warmlist = []\n",
    "\n",
    "for i in temperatures:\n",
    "    if i < -2:\n",
    "       # print( 'Temperature:', i,'c','Cold')\n",
    "        coldlist.append(i) \n",
    "    elif i >= -2 and i <= 2:\n",
    "      #  print('Temperature:', i, 'c', 'Slippery')\n",
    "        slipperylist.append(i)\n",
    "    elif i >= 2 and i <= 15:\n",
    "       # print('Temperature:', i, 'c', 'Confortable')\n",
    "        Comfortablelist.append(i)\n",
    "    else: \n",
    "      #  print('Temperature:', i, 'c', 'Warm')\n",
    "        warmlist.append(i)\n",
    "import statistics\n",
    "print(\"Cold List\", coldlist)\n",
    "print (\"Mean temperature for Cold day :\", statistics.mean(coldlist), \"degree C\")\n",
    "print(\"Slippery List\", slipperylist)\n",
    "print(\"Mean temperature for Slippery day \", statistics.mean(slipperylist), \"degree C\")\n",
    "print(\"Comfortable List\", Comfortablelist)\n",
    "print(\"Mean temperature for Comfortable day \", statistics.mean(Comfortablelist), \"degree C\")\n",
    "print(\"Warm List\", warmlist)\n",
    "print(\"Mean temperature for warm day = There are no data in this list\")"
   ]
  },
  {
   "cell_type": "markdown",
   "metadata": {},
   "source": [
    "Exercise 4.6 Giving a string, find the length of the longest substring without repeating characters"
   ]
  },
  {
   "cell_type": "code",
   "execution_count": 16,
   "metadata": {},
   "outputs": [
    {
     "name": "stdout",
     "output_type": "stream",
     "text": [
      "The input string is abcabcbb\n",
      "The length of the longest non-repeating character substring is 3\n",
      "The input string is bbbbb\n",
      "The length of the longest non-repeating character substring is 1\n",
      "The input string is pwwkew\n",
      "The length of the longest non-repeating character substring is 3\n"
     ]
    }
   ],
   "source": [
    "\n",
    "NO_OF_CHARS = 256  # This is number of characters \n",
    "  \n",
    "def longestUniqueSubsttr(string): \n",
    "  \n",
    "    # Initialize the last index array as -1, -1 is used to store \n",
    "    # last index of every character \n",
    "    lastIndex = [-1] * NO_OF_CHARS \n",
    "  \n",
    "    n = len(string) \n",
    "    res = 0   \n",
    "    i = 0\n",
    "  \n",
    "    for j in range(0, n): \n",
    "        # Find the last index of str[j] \n",
    "        # Update i (starting index of current window) \n",
    "        # as maximum of current value of i and last \n",
    "        # index plus 1 \n",
    "        i = max(i, lastIndex[ord(string[j])] + 1); \n",
    "  \n",
    "        # Update result if we get a larger window \n",
    "        res =  max(res, j - i + 1) \n",
    "  \n",
    "        # Update last index of j. \n",
    "        lastIndex[ord(string[j])] = j; \n",
    "  \n",
    "    return res \n",
    "  \n",
    "# Driver program to test the above function \n",
    "string = \"abcabcbb\"\n",
    "print (\"The input string is \" + string) \n",
    "length = longestUniqueSubsttr(string) \n",
    "print (\"The length of the longest non-repeating character\" +\n",
    "       \" substring is \" + str(length)) \n",
    "string1 = \"bbbbb\"\n",
    "print (\"The input string is \" + string1) \n",
    "length = longestUniqueSubsttr(string1) \n",
    "print (\"The length of the longest non-repeating character\" +\n",
    "       \" substring is \" + str(length))\n",
    "string2 = \"pwwkew\"\n",
    "length = longestUniqueSubsttr(string2) \n",
    "print (\"The input string is \" + string2) \n",
    "print (\"The length of the longest non-repeating character\" +\n",
    "       \" substring is \" + str(length))"
   ]
  },
  {
   "cell_type": "markdown",
   "metadata": {},
   "source": [
    "Exercise 4.7 Given an array nums of n integers, are there elements a, b, c in nums such that a + b + c = 0?\n",
    "\n",
    "Find all unique triplets in the array which gives the sum of zero. The solution setmust not contain duplicate triplets."
   ]
  },
  {
   "cell_type": "code",
   "execution_count": 27,
   "metadata": {},
   "outputs": [
    {
     "name": "stdout",
     "output_type": "stream",
     "text": [
      "The possible unique triplets in the arrary which gives the sum of zero : [[-1, 0, 1]]\n"
     ]
    }
   ],
   "source": [
    "\n",
    "def find_zerototal(num_list):\n",
    "    \n",
    "    negatives = list(filter(lambda x: x < 0, num_list))\n",
    "    positives = list(filter(lambda x: x > 0, num_list))\n",
    "    \n",
    "    \n",
    "    \n",
    "    zero_in = 0 in num_list\n",
    "    positives.sort(reverse=True)\n",
    "    negatives.sort()\n",
    "    \n",
    "    \n",
    "    possibletriplets = []\n",
    "    # first find variable, -variable, 0 if there is 0 in the list\n",
    "    if zero_in:\n",
    "        for var in set(negatives):\n",
    "            if -var in set(positives):\n",
    "                possibletriplets.append([var, 0, -var])\n",
    "                \n",
    "    # second find variable1, variable2, variable3: variable2 + variable3 = -variable1\n",
    "    for var1 in set(negatives):\n",
    "        for i, var2 in enumerate(positives):\n",
    "            if - var1 - var2 in positives[i+1:]:\n",
    "                if [var1, var2, - var1 - var2] not in possibletriplets:\n",
    "                    possibletriplets.append([var1, var2, - var1 - var2]) \n",
    "            \n",
    "    for v1 in set(positives):\n",
    "        for i, var2 in enumerate(negatives):\n",
    "            if - var1 - var2 in negatives[i+1:]:\n",
    "                if [var1, var2, - var1 - var2] not in possibletriplets:\n",
    "                    possibletriplets.append([var1, var2, - var1 - var2]) \n",
    "    \n",
    "    return possibletriplets    \n",
    "\n",
    "print(\"The possible unique triplets in the arrary which gives the sum of zero :\", find_zerototal([-1, 0, 1, 2, -1, -4]))\n"
   ]
  },
  {
   "cell_type": "code",
   "execution_count": null,
   "metadata": {},
   "outputs": [],
   "source": []
  }
 ],
 "metadata": {
  "kernelspec": {
   "display_name": "Python 3",
   "language": "python",
   "name": "python3"
  },
  "language_info": {
   "codemirror_mode": {
    "name": "ipython",
    "version": 3
   },
   "file_extension": ".py",
   "mimetype": "text/x-python",
   "name": "python",
   "nbconvert_exporter": "python",
   "pygments_lexer": "ipython3",
   "version": "3.7.6"
  }
 },
 "nbformat": 4,
 "nbformat_minor": 4
}
