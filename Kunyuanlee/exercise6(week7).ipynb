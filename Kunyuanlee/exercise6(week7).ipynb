{
 "cells": [
  {
   "cell_type": "markdown",
   "metadata": {},
   "source": [
    "**1. Use Pandas to repeat the Week 5 Exercise 5.7"
   ]
  },
  {
   "cell_type": "code",
   "execution_count": 22,
   "metadata": {},
   "outputs": [],
   "source": [
    "# 1. Use Pandas to repeat the Week 5 Exercise 5.7\n",
    "import pandas as pd\n",
    "import os\n",
    "\n",
    "\n",
    "# 1) generate the url for a given list of gage numbers\n",
    "\n",
    "myGageNums = ['06803495', '06803486']\n",
    "myDates = ['2000-10-10', '2019-09-30']\n",
    "\n",
    "# generate URL\n",
    "def myURL(gageList, Dates):\n",
    "    gages = ('&site_no={}' * len(gageList)).format(*gageList)\n",
    "    period = f'&period=&begin_date={Dates[0]}&end_date={Dates[1]}'\n",
    "    return f'https://waterdata.usgs.gov/nwis/dv?&cb_00060=on&format=rdb{gages}&referred_module=sw{period}'\n",
    "\n"
   ]
  },
  {
   "cell_type": "code",
   "execution_count": 23,
   "metadata": {
    "scrolled": true
   },
   "outputs": [
    {
     "name": "stdout",
     "output_type": "stream",
     "text": [
      "<class 'pandas.core.frame.DataFrame'>\n",
      "RangeIndex: 12315 entries, 0 to 12314\n",
      "Data columns (total 5 columns):\n",
      " #   Column         Non-Null Count  Dtype \n",
      "---  ------         --------------  ----- \n",
      " 0   Agency         12315 non-null  object\n",
      " 1   Site           12306 non-null  object\n",
      " 2   Date           12306 non-null  object\n",
      " 3   Discharge_cfs  12306 non-null  object\n",
      " 4   QualCode       12306 non-null  object\n",
      "dtypes: object(5)\n",
      "memory usage: 481.2+ KB\n",
      "/Users/jason/python2020summer/Kunyuanlee/USGS_Streamflow_Data.csv\n"
     ]
    }
   ],
   "source": [
    "# 2) read this url and download the data to csv file\n",
    "\n",
    "\n",
    "raw_df = pd.read_csv(myURL(myGageNums, myDates), skiprows=29, delimiter='\\t', header=0, names=['Agency','Site','Date','Discharge_cfs','QualCode'])\n",
    "\n",
    "raw_df.head(20)\n",
    "raw_df.info()\n",
    "\n",
    "# filter the dataframe so it includes only rows with 'USGS' data\n",
    "df = raw_df[(raw_df['Agency']=='USGS')].copy()\n",
    "df.head(20)\n",
    "\n",
    "# create file path to save .csv file in current working directory\n",
    "# dirPath = os.getcwd()\n",
    "dirPath = r'/Users/jason/python2020summer/Kunyuanlee'\n",
    "#dirPath = r'C:\\Users\\jason\\python2020summer\\Kunyuanlee'\n",
    "fileName = 'USGS_Streamflow_Data.csv'\n",
    "fullPath = os.path.join(dirPath, fileName)\n",
    "print(fullPath)\n",
    "\n",
    "\n",
    "# save fitered dataframe to .csv file\n",
    "df.to_csv(fullPath, index=False)"
   ]
  },
  {
   "cell_type": "code",
   "execution_count": 24,
   "metadata": {},
   "outputs": [
    {
     "name": "stdout",
     "output_type": "stream",
     "text": [
      "<class 'pandas.core.frame.DataFrame'>\n",
      "Int64Index: 12304 entries, 0 to 12314\n",
      "Data columns (total 5 columns):\n",
      " #   Column         Non-Null Count  Dtype         \n",
      "---  ------         --------------  -----         \n",
      " 0   Agency         12304 non-null  object        \n",
      " 1   Site           12304 non-null  object        \n",
      " 2   Date           12304 non-null  datetime64[ns]\n",
      " 3   Discharge_cfs  12304 non-null  object        \n",
      " 4   QualCode       12304 non-null  object        \n",
      "dtypes: datetime64[ns](1), object(4)\n",
      "memory usage: 576.8+ KB\n"
     ]
    }
   ],
   "source": [
    "# 3) based on the downloaded data calculate the monthly stasticstics including\n",
    "# maximum, minimum and average of the streamflow data and save it to another csv file.\n",
    "\n",
    "\n",
    "# convert Date to datetime data type\n",
    "df['Date']= pd.to_datetime(df['Date'])\n",
    "\n",
    "df.info()\n",
    "# change data frame index to 'Date'\n",
    "# https://www.dataquest.io/blog/tutorial-time-series-analysis-with-pandas/\n",
    "df = df.set_index(['Date'])\n",
    "\n",
    "#https://datatofish.com/convert-string-to-float-dataframe/\n",
    "df['Discharge_cfs'] = pd.to_numeric(df['Discharge_cfs'], errors='coerce')"
   ]
  },
  {
   "cell_type": "code",
   "execution_count": 25,
   "metadata": {},
   "outputs": [
    {
     "name": "stdout",
     "output_type": "stream",
     "text": [
      "/Users/jason/python2020summer/Kunyuanlee/monthlyStreamflowStats.csv\n"
     ]
    }
   ],
   "source": [
    "# Calculate monthly statistics & write to file\n",
    "# create dataframe for monthly statistics\n",
    "monthlyStats = pd.DataFrame(columns=['Min','Max','Mean'])\n",
    "\n",
    "monthlyStats.Min = df.Discharge_cfs.groupby(df['Site']).resample('M').min()\n",
    "monthlyStats.Max = df.Discharge_cfs.groupby(df['Site']).resample('M').max()\n",
    "monthlyStats.Mean = df.Discharge_cfs.groupby(df['Site']).resample('M').mean()\n",
    "\n",
    "\n",
    "# pd.options.display.float_format = '{:.2f}'.format\n",
    "\n",
    "\n",
    "monthlyStats.head(20)\n",
    "\n",
    "# create file path to save .csv file in current working directory\n",
    "# dirPath = os.getcwd()\n",
    "fileName = 'monthlyStreamflowStats.csv'\n",
    "fullPath = os.path.join(dirPath, fileName)\n",
    "\n",
    "print(fullPath)\n",
    "\n",
    "# save fitered dataframe to .csv file\n",
    "monthlyStats.to_csv(fullPath, float_format='%.2f')"
   ]
  },
  {
   "cell_type": "code",
   "execution_count": 26,
   "metadata": {},
   "outputs": [
    {
     "name": "stdout",
     "output_type": "stream",
     "text": [
      "/Users/jason/python2020summer/Kunyuanlee/annualAcreFeet.csv\n"
     ]
    }
   ],
   "source": [
    "# Calculate average annual runoff for each gage \n",
    "#convert from 'cubic feet per second' to 'acre feet per day'\n",
    "df['acreFeetPerDay'] = df['Discharge_cfs']*24*60*60/43560\n",
    "\n",
    "yearlyTotal = pd.DataFrame(columns=['acreFeet'])\n",
    "yearlyTotal.acreFeet = df.acreFeetPerDay.groupby(df['Site']).resample('A').sum()\n",
    "yearlyTotal\n",
    "\n",
    "# create file path to save .csv file in current working directory\n",
    "# dirPath = os.getcwd()\n",
    "fileName = 'annualAcreFeet.csv'\n",
    "fullPath = os.path.join(dirPath, fileName)\n",
    "\n",
    "print(fullPath)\n",
    "\n",
    "# save fitered dataframe to .csv file\n",
    "yearlyTotal.to_csv(fullPath, float_format='%.2f')"
   ]
  },
  {
   "cell_type": "markdown",
   "metadata": {},
   "source": [
    "2. Use Pandas to\n",
    "Read data in users.zip (using Pandas' the on-the-fly decompression cabability)\n",
    "\n",
    "Identify all the occupations and compare the user numbers between STEM-related occupations and non-STEM occupations.\n",
    "\n",
    "Identify the locations of the users that are programmers and above 35. How many male and female programmers, respectively? Is this ratio the same for the age under 35?\n",
    "\n",
    "Compare the numbers of male and female for each occupations\n",
    "\n",
    "Find the occupations with the youngest and oldest mean ages, respectively\n",
    "\n",
    "Based on the first two digits of the zip codes, find the area with the largest number of users"
   ]
  },
  {
   "cell_type": "code",
   "execution_count": 27,
   "metadata": {},
   "outputs": [
    {
     "name": "stdout",
     "output_type": "stream",
     "text": [
      "<class 'pandas.core.frame.DataFrame'>\n",
      "Int64Index: 943 entries, 1 to 943\n",
      "Data columns (total 4 columns):\n",
      " #   Column      Non-Null Count  Dtype \n",
      "---  ------      --------------  ----- \n",
      " 0   age         943 non-null    int64 \n",
      " 1   gender      943 non-null    object\n",
      " 2   occupation  943 non-null    object\n",
      " 3   zip_code    943 non-null    object\n",
      "dtypes: int64(1), object(3)\n",
      "memory usage: 36.8+ KB\n"
     ]
    }
   ],
   "source": [
    "import pandas as pd\n",
    "import os\n",
    "\n",
    "# 2. Use Pandas to:\n",
    "# 1. Read data in users.zip (using Pandas' the on-the-fly decompression capability)\n",
    "\n",
    "\n",
    "# create file path to save .csv file in current working directory\n",
    "dirPath = os.getcwd()\n",
    "fileName = 'users.zip'\n",
    "fullPath = os.path.join(dirPath, fileName)\n",
    "\n",
    "# read text file from zip file\n",
    "userData = pd.read_csv(fullPath, compression= 'zip', sep='|')\n",
    "userData = userData.set_index('user_id')\n",
    "\n",
    "userData.info()"
   ]
  },
  {
   "cell_type": "code",
   "execution_count": 28,
   "metadata": {},
   "outputs": [
    {
     "name": "stdout",
     "output_type": "stream",
     "text": [
      "engineer = 67\n",
      "programmer = 66\n",
      "scientist = 31\n",
      "technician = 27\n",
      "total =  943\n",
      "total STEM-related =  191\n",
      "non STEM-related =  752\n"
     ]
    }
   ],
   "source": [
    " # 2. Identify all the occupations and compare the user numbers between STEM-related occupations and non-STEM occupations.\n",
    "\n",
    "stemList = ('engineer','programmer','scientist','technician')\n",
    "\n",
    "stemTotal = 0\n",
    "for item in stemList:    \n",
    "    num = len(userData[userData[\"occupation\"] == item])\n",
    "    print(f'{item} = {num}')\n",
    "    stemTotal += num\n",
    "\n",
    "totalAll = len(userData.index)\n",
    "nonStemTotal = totalAll - stemTotal\n",
    "\n",
    "print('total = ', totalAll)  \n",
    "print('total STEM-related = ', stemTotal)\n",
    "print('non STEM-related = ', nonStemTotal)"
   ]
  },
  {
   "cell_type": "code",
   "execution_count": 29,
   "metadata": {},
   "outputs": [
    {
     "name": "stdout",
     "output_type": "stream",
     "text": [
      " The number of male programmers over 35 = 19\n",
      " The number of male programmers over 35 = 2\n",
      " The ratio of male to femail programmers over 35 = 9.50\n",
      "\n",
      " The number of male programmers 35 & under= 41\n",
      " The number of male programmers 35 & under = 4\n",
      " The ratio of male to femail programmers 35 & under = 10.25\n",
      "\n"
     ]
    }
   ],
   "source": [
    "# 3. Identify the lcoations of the user that are programmers and above 35. How many male and female programmers, respecively?\n",
    "#    Is this ratio the same for the age under 35?\n",
    "\n",
    "# create dataframe for monthly statistics\n",
    "programmerAgeHigh = userData.query('occupation == \"programmer\" & age > 35').groupby(userData['gender']).count()\n",
    "maleProgrammersAgeHigh = programmerAgeHigh['gender']['M']\n",
    "femaleProgrammersAgeHigh = programmerAgeHigh['gender']['F']\n",
    "programmersAgeHighRatio = f'{maleProgrammersAgeHigh/femaleProgrammersAgeHigh:.2f}'\n",
    "\n",
    "print(f\" The number of male programmers over 35 = {maleProgrammersAgeHigh}\")\n",
    "print(f\" The number of male programmers over 35 = {femaleProgrammersAgeHigh}\")\n",
    "print(f\" The ratio of male to femail programmers over 35 = {programmersAgeHighRatio}\\n\")\n",
    "\n",
    "\n",
    "programmerAgeLow = userData.query('occupation == \"programmer\" & age <= 35').groupby(userData['gender']).count()\n",
    "maleProgrammersAgeLow = programmerAgeLow['gender']['M']\n",
    "femaleProgrammersAgeLow = programmerAgeLow['gender']['F']\n",
    "programmersAgeLowRatio = f'{maleProgrammersAgeLow/femaleProgrammersAgeLow:.2f}'\n",
    "\n",
    "print(f\" The number of male programmers 35 & under= {maleProgrammersAgeLow}\")\n",
    "print(f\" The number of male programmers 35 & under = {femaleProgrammersAgeLow}\")\n",
    "print(f\" The ratio of male to femail programmers 35 & under = {programmersAgeLowRatio}\\n\")"
   ]
  },
  {
   "cell_type": "code",
   "execution_count": 30,
   "metadata": {},
   "outputs": [
    {
     "name": "stdout",
     "output_type": "stream",
     "text": [
      "occupation     gender\n",
      "administrator  F          36\n",
      "               M          43\n",
      "artist         F          13\n",
      "               M          15\n",
      "doctor         M           7\n",
      "educator       F          26\n",
      "               M          69\n",
      "engineer       F           2\n",
      "               M          65\n",
      "entertainment  F           2\n",
      "               M          16\n",
      "executive      F           3\n",
      "               M          29\n",
      "healthcare     F          11\n",
      "               M           5\n",
      "homemaker      F           6\n",
      "               M           1\n",
      "lawyer         F           2\n",
      "               M          10\n",
      "librarian      F          29\n",
      "               M          22\n",
      "marketing      F          10\n",
      "               M          16\n",
      "none           F           4\n",
      "               M           5\n",
      "other          F          36\n",
      "               M          69\n",
      "programmer     F           6\n",
      "               M          60\n",
      "retired        F           1\n",
      "               M          13\n",
      "salesman       F           3\n",
      "               M           9\n",
      "scientist      F           3\n",
      "               M          28\n",
      "student        F          60\n",
      "               M         136\n",
      "technician     F           1\n",
      "               M          26\n",
      "writer         F          19\n",
      "               M          26\n",
      "Name: gender, dtype: int64\n"
     ]
    }
   ],
   "source": [
    "# 4. Compare the numbers of male and female for each occupation\n",
    "\n",
    "programmerOccupationStats = userData.groupby(['occupation','gender'])['gender'].count()\n",
    "# programmerOccupationStats.rename(columns = {'age':'count'}, inplace=True)\n",
    "# programmerOccupationStats = programmerOccupationStats.drop(['zip_code'], axis='columns')\n",
    "print(programmerOccupationStats)"
   ]
  },
  {
   "cell_type": "code",
   "execution_count": 31,
   "metadata": {},
   "outputs": [
    {
     "name": "stdout",
     "output_type": "stream",
     "text": [
      "occupation\n",
      "student          22.08\n",
      "none             26.56\n",
      "entertainment    29.22\n",
      "artist           31.39\n",
      "homemaker        32.57\n",
      "programmer       33.12\n",
      "technician       33.15\n",
      "other            34.52\n",
      "scientist        35.55\n",
      "salesman         35.67\n",
      "writer           36.31\n",
      "engineer         36.39\n",
      "lawyer           36.75\n",
      "marketing        37.62\n",
      "executive        38.72\n",
      "administrator    38.75\n",
      "librarian        40.00\n",
      "healthcare       41.56\n",
      "educator         42.01\n",
      "doctor           43.57\n",
      "retired          63.07\n",
      "Name: age, dtype: float64 \n",
      "\n",
      "Answer: The student is the occupation with the youngest mean age of 22.1 years\n",
      "Answer: The retired is the occupation with the oldest mean age of 63.1 years\n",
      "\n"
     ]
    }
   ],
   "source": [
    "\n",
    "# 5. Find the occupations with the youngest and oldest 'mean' ages, respectively\n",
    "\n",
    "\n",
    "meanAges = userData.groupby(['occupation'])['age'].mean()\n",
    "print(meanAges.sort_values().round(decimals=2),'\\n')\n",
    "\n",
    "print(f'Answer: The {meanAges.idxmin()} is the occupation with the youngest mean age of {meanAges.min():.1f} years')\n",
    "print(f'Answer: The {meanAges.idxmax()} is the occupation with the oldest mean age of {meanAges.max():.1f} years\\n')"
   ]
  },
  {
   "cell_type": "code",
   "execution_count": 32,
   "metadata": {},
   "outputs": [
    {
     "name": "stdout",
     "output_type": "stream",
     "text": [
      " The largest number of users is in zip code prefix is '55'\n"
     ]
    }
   ],
   "source": [
    "# 6. Based on the first two digits of the zip codes, find the area with the largest numbers of users.\n",
    "userData['shortZip'] = userData['zip_code'].str[:2]\n",
    "numUsers = userData.groupby(['shortZip'])['occupation'].count()\n",
    "print(f\" The largest number of users is in zip code prefix is '{numUsers.idxmax()}'\")"
   ]
  },
  {
   "cell_type": "code",
   "execution_count": null,
   "metadata": {},
   "outputs": [],
   "source": []
  }
 ],
 "metadata": {
  "kernelspec": {
   "display_name": "Python 3",
   "language": "python",
   "name": "python3"
  },
  "language_info": {
   "codemirror_mode": {
    "name": "ipython",
    "version": 3
   },
   "file_extension": ".py",
   "mimetype": "text/x-python",
   "name": "python",
   "nbconvert_exporter": "python",
   "pygments_lexer": "ipython3",
   "version": "3.7.7"
  }
 },
 "nbformat": 4,
 "nbformat_minor": 4
}
