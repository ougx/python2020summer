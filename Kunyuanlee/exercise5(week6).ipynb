{
 "cells": [
  {
   "cell_type": "markdown",
   "metadata": {},
   "source": [
    "**1. Given two 1-d arrays of simulated values and observed values, Write a Pyhton function to calculate the mean error, coefficient of determination and nash coefficient. Not allowed to use loops."
   ]
  },
  {
   "cell_type": "code",
   "execution_count": 64,
   "metadata": {},
   "outputs": [
    {
     "name": "stdout",
     "output_type": "stream",
     "text": [
      "The simulated value = [[ 9.33 74.9  31.89  6.32 72.23 89.79 67.52 87.88 67.23 41.57]]\n",
      "The observed value = [[29.79 89.71 24.1  70.02 43.92 96.98 43.76 24.18 84.61 68.79]]\n",
      "The mean error = -2.72\n",
      "The nash coefficient = -0.3210\n",
      "The coefficient of determination = 0.0762\n"
     ]
    }
   ],
   "source": [
    "import numpy as np\n",
    "\n",
    "obsVals = np.random.rand(1,10)*100\n",
    "simVals = np.random.rand(1,10)*100\n",
    "\n",
    "\n",
    "def arraysMeanError(obsVals, simVals):\n",
    "    \"\"\" 'arraysMeanError' function calculates mean error between two arrays\"\"\"\n",
    "    \n",
    "    # convert lists to arrays\n",
    "    obsVals = np.asarray(obsVals)\n",
    "    simVals = np.asarray(simVals)\n",
    "   \n",
    "    return np.nanmean(simVals-obsVals)\n",
    "\n",
    "def coeffDetermination(obsVals, simVals):\n",
    "    \"\"\" 'coeffDetermination' function calculates coefficient of determination\n",
    "    for regression between two numbers in arrays\"\"\"\n",
    "    \n",
    "    # convert lists to arrays\n",
    "    obsVals = np.asarray(obsVals)\n",
    "    simVals = np.asarray(simVals)\n",
    "    numObs = obsVals.size\n",
    "    # r^2 value (i.e. coefficient of determination)\n",
    "    return (numObs * np.nansum(obsVals * simVals) - np.nansum(obsVals) * np.nansum(simVals)) ** 2 / \\\n",
    "            ((numObs * np.nansum(obsVals ** 2) - np.nansum(obsVals) ** 2) * (numObs * np.nansum(simVals ** 2) - np.nansum(simVals) ** 2))\n",
    "\n",
    "def nashCoefficient(obsVals, simVals):\n",
    "    \"\"\" function calculates Nash coefficient \"\"\"   \n",
    "    obsVals = np.array(obsVals)\n",
    "    simVals = np.array(simVals)\n",
    "    obs_mean = np.nanmean(obsVals)\n",
    "    return 1 - np.nansum((simVals - obsVals) ** 2) / np.nansum((simVals - obs_mean) ** 2)\n",
    "\n",
    "np.set_printoptions(precision=2)\n",
    "print(\"The simulated value =\", simVals)\n",
    "print(\"The observed value =\",obsVals)\n",
    "print(f'The mean error = {arraysMeanError(obsVals, simVals):.2f}')\n",
    "print(f'The nash coefficient = {nashCoefficient(obsVals,simVals):.4f}')\n",
    "print(f'The coefficient of determination = {coeffDetermination(obsVals,simVals):.4f}')"
   ]
  },
  {
   "cell_type": "markdown",
   "metadata": {},
   "source": [
    "**2. Given x and y, write a Python function to perform linear regression which returns a, c and sum of square errors where ax + c = y.\n",
    "\n",
    "\n",
    "    def linear_regression(x, y):\n",
    "\n",
    "        return a, c, ssqe"
   ]
  },
  {
   "cell_type": "code",
   "execution_count": 30,
   "metadata": {},
   "outputs": [
    {
     "name": "stdout",
     "output_type": "stream",
     "text": [
      "Generated X value: \n",
      "[[96.46985196 87.57832733 82.96445868 21.85511375 96.99230548 13.07532782\n",
      "  16.0729662  55.6187092  50.69298363 80.58538671]]\n",
      "Generated Y numbers:\n",
      "[[23.95739458 85.61753922 37.67015044 98.03500069 92.18280164 87.72122882\n",
      "  83.00051966 44.96714477 11.41593022 60.64100429]]\n",
      "  \n",
      "  \n",
      "=============Soluntion================ \n",
      "slope= -0.313\n",
      "intercept= 81.383\n",
      "sum of square error= 7764.99\n"
     ]
    }
   ],
   "source": [
    "import numpy as np\n",
    "def linearRegression(x,y):\n",
    "    \n",
    "    x = np.array(x)\n",
    "    y = np.array(y)\n",
    "    numObs = x.size\n",
    " \n",
    "    # slope\n",
    "    a = (numObs*np.sum(x*y)-np.sum(x)*np.sum(y))/(numObs*np.sum(x**2)-np.sum(x)**2)\n",
    "    \n",
    "    # intercept\n",
    "    c = (np.sum(y)*np.sum(x**2)-np.sum(x)*np.sum(x*y))/(numObs*np.sum(x**2)-np.sum(x)**2)\n",
    "    \n",
    "    # calculate predicted 'y' from linear equaiton for which we just found the slope & intercept (i.e. y=a*x+c)\n",
    "    # then find the error by getting the difference between the predicted value and the actual value at that 'x'\n",
    "    sqError = np.sum(((a*x+c)-y)**2)\n",
    "       \n",
    "    return a, c, sqError\n",
    "\n",
    "#x = [1,2,3,4,5,6,7,8,9,10]\n",
    "#y = [0,3,4,4,6,6,8,9,9,11]\n",
    "\n",
    "x = np.random.rand(1,10)*100\n",
    "y = np.random.rand(1,10)*100\n",
    "\n",
    "info = linearRegression(x,y)\n",
    "\n",
    "print(\"Generated X value: \")\n",
    "print(x)\n",
    "print(\"Generated Y numbers:\")\n",
    "print(y)\n",
    "print(\"  \")\n",
    "print(\"  \")\n",
    "print(\"=============Soluntion================ \")\n",
    "print(f'slope= {info[0]:.3f}')\n",
    "print(f'intercept= {info[1]:.3f}')\n",
    "print(f'sum of square error= {info[2]:.2f}')"
   ]
  },
  {
   "cell_type": "markdown",
   "metadata": {},
   "source": [
    "**3. Eestimate the mean precipitation on different land use types.\n",
    "\n",
    "landuse = np.random.randint(1, 5, [5, 5])\n",
    "precip  = np.random.random([5, 5])\n",
    "\n",
    "print('landuse\\n', landuse)\n",
    "print('precip \\n', precip)"
   ]
  },
  {
   "cell_type": "code",
   "execution_count": 41,
   "metadata": {},
   "outputs": [
    {
     "name": "stdout",
     "output_type": "stream",
     "text": [
      "landuse\n",
      " [[1 1 2 3 2]\n",
      " [2 2 3 4 2]\n",
      " [1 2 2 3 3]\n",
      " [2 3 3 4 1]\n",
      " [1 3 1 2 2]]\n",
      "precip \n",
      " [[0.473321   0.10179438 0.93992277 0.4312861  0.00999824]\n",
      " [0.86729161 0.24740058 0.75298454 0.74655215 0.83624566]\n",
      " [0.7118826  0.0835172  0.98199478 0.15844121 0.29466051]\n",
      " [0.62917781 0.01293452 0.58559527 0.92437493 0.7219941 ]\n",
      " [0.49894035 0.00487502 0.35521049 0.58363714 0.36950886]]\n",
      "  \n",
      "The mean precipitation on land 1,2,3,4.\n",
      "{1: 0.4771904861238539, 2: 0.554869464994352, 3: 0.32011102450957385, 4: 0.835463540734654}\n"
     ]
    }
   ],
   "source": [
    "landuse = np.random.randint(1, 5, [5, 5])\n",
    "precip  = np.random.random([5, 5])\n",
    "\n",
    "def meanPrecip(landuse, precip):\n",
    "    \n",
    "    landUseDictionary = {}\n",
    "    \n",
    "    for ii in np.unique(landuse):\n",
    "        landUseDictionary[ii] = precip[landuse == ii].mean()\n",
    "        \n",
    "    return landUseDictionary\n",
    "\n",
    "print('landuse\\n', landuse)\n",
    "print('precip \\n', precip)\n",
    "print(\"  \")\n",
    "print(\"The mean precipitation on land 1,2,3,4.\")\n",
    "print(meanPrecip(landuse, precip))"
   ]
  },
  {
   "cell_type": "markdown",
   "metadata": {},
   "source": [
    "**4. We have two array. The first array is the distribution of irrigated land.\n",
    "The second array is the precipitation.\n",
    "landuse = np.random.randint(0, 1, [6, 6])\n",
    "precip  = np.random.random([6, 6])\n",
    "\n",
    "print('landuse\\n', landuse)\n",
    "print('precip \\n', precip)\n",
    "A. Create a function to create the buffer zones of varied distances to the irrigated land.\n",
    "B. Calculate the mean precipitation in the buffer zones of different distance to the irrigated land."
   ]
  },
  {
   "cell_type": "code",
   "execution_count": 42,
   "metadata": {},
   "outputs": [
    {
     "data": {
      "text/plain": [
       "<matplotlib.image.AxesImage at 0x111ce2ad0>"
      ]
     },
     "execution_count": 42,
     "metadata": {},
     "output_type": "execute_result"
    },
    {
     "data": {
      "image/png": "[encoded data removed]",
      "text/plain": [
       "<Figure size 432x288 with 1 Axes>"
      ]
     },
     "metadata": {
      "needs_background": "light"
     },
     "output_type": "display_data"
    }
   ],
   "source": [
    "import numpy as np\n",
    "import matplotlib.pyplot as plt\n",
    "\n",
    "landuse = [\n",
    "    [0,0,0,0,0,0],\n",
    "    [0,0,0,0,0,0],\n",
    "    [0,0,1,0,0,0],\n",
    "    [0,0,1,1,1,0],\n",
    "    [0,0,1,0,0,0],\n",
    "    [0,0,0,0,0,0],\n",
    "    ]\n",
    "\n",
    "precip  = np.random.random([6, 6])\n",
    "plt.imshow(landuse)"
   ]
  },
  {
   "cell_type": "code",
   "execution_count": 45,
   "metadata": {
    "scrolled": true
   },
   "outputs": [
    {
     "data": {
      "image/png": "[encoded data removed]",
      "text/plain": [
       "<Figure size 432x288 with 2 Axes>"
      ]
     },
     "metadata": {
      "needs_background": "light"
     },
     "output_type": "display_data"
    }
   ],
   "source": [
    "import numpy as np\n",
    "import matplotlib.pyplot as plt\n",
    "\n",
    "landuse = [\n",
    "    [0,0,0,0,0,0],\n",
    "    [0,0,0,0,0,0],\n",
    "    [0,0,1,0,0,0],\n",
    "    [0,0,1,1,1,0],\n",
    "    [0,0,1,0,0,0],\n",
    "    [0,0,0,0,0,0],\n",
    "    ]\n",
    "\n",
    "precip  = np.random.random([6, 6])\n",
    "plt.imshow(landuse)\n",
    "\n",
    "# define an array with distance to the center\n",
    "\n",
    "distX = np.arange(13).reshape([1,13])\n",
    "distY = np.arange(13).reshape([13,1])\n",
    "distance = ((distX-6)**2+(distY-6)**2)**0.5\n",
    "plt.imshow(distance, cmap='jet'); plt.colorbar()\n",
    "\n",
    "def createBuffer(landuse, distance=distance):\n",
    "    \n",
    "    buffer = np.full_like(landuse, 1e9)\n",
    "    n,m = buffer.shape\n",
    "    index = np.nonzero(landuse)\n",
    "    for i,j in np.array(index).T:\n",
    "        distBuffer = distance[(6-i):(6-i+n), (6-j):(6-j+m)]\n",
    "        buffer = np.where(distBuffer < buffer, distBuffer, buffer)\n",
    "    return buffer\n",
    "\n",
    "buffer = createBuffer(landuse)\n",
    "plt.imshow(buffer, cmap='jet');\n",
    "\n",
    "# from problem #3\n",
    "def meanPrecip(landuse, precip):\n",
    "    \n",
    "    landUseDictionary = {}\n",
    "    \n",
    "    for ii in np.unique(landuse):\n",
    "        landUseDictionary[ii] = precip[landuse == ii].mean()\n",
    "    \n",
    "    return landUseDictionary\n"
   ]
  },
  {
   "cell_type": "code",
   "execution_count": 55,
   "metadata": {},
   "outputs": [
    {
     "name": "stdout",
     "output_type": "stream",
     "text": [
      "The mean precipitation in the buffer zones of different distance to the irrigated land.\n",
      "\n",
      "{0.0: 0.6831187556110593,\n",
      " 1.0: 0.35866687499823485,\n",
      " 1.4142135623730951: 0.5194283128534763,\n",
      " 2.0: 0.3445058207176655,\n",
      " 2.23606797749979: 0.5009065663798871,\n",
      " 2.8284271247461903: 0.5556950797364587,\n",
      " 3.1622776601683795: 0.5070115446689977}\n"
     ]
    }
   ],
   "source": [
    "print(\"The mean precipitation in the buffer zones of different distance to the irrigated land.\")\n",
    "print(\"\")\n",
    "from pprint import pprint\n",
    "pprint(meanPrecip(buffer, precip))\n",
    "#print(meanPrecip(buffer, precip))"
   ]
  },
  {
   "cell_type": "markdown",
   "metadata": {},
   "source": [
    "5. Write a Python function to find the nearest point of a list of given points.\n",
    "You are not allowed to use any type of loops.\n",
    "e. g. points = [(3, 4), (1, 2), (7, 8), (9, 4), (6, 5), (8, 7), (4, 7)]\n",
    "Hint: using numpy to create a N x N array which contain the distances between each ith an jth point pair; where N is the numer of points.\n"
   ]
  },
  {
   "cell_type": "code",
   "execution_count": 63,
   "metadata": {},
   "outputs": [
    {
     "name": "stdout",
     "output_type": "stream",
     "text": [
      "The nearest point of a list of given point => [1 0 5 4 5 2 4]\n"
     ]
    }
   ],
   "source": [
    "points = [(3, 4), (1, 2), (7, 8), (9, 4), (6, 5), (8, 7), (4, 7)]\n",
    "points = np.array(points)\n",
    "\n",
    "# use method from the solution\n",
    "distances = ((points.reshape(7, 1, 2) - points.reshape(1, 7, 2)) ** 2).sum(axis=2)\n",
    "distances[np.arange(7), np.arange(7)] = 1e9\n",
    "\n",
    "closestPoints = np.argmin(distances, axis=0)\n",
    "\n",
    "oneLine = np.sum((points[None,:] - points[:,None])**2, -1)\n",
    "oneLine[np.arange(7), np.arange(7)] = 1e9\n",
    "\n",
    "closestPt = np.argmin(oneLine, axis=0)\n",
    "print('The nearest point of a list of given point =>',closestPt)"
   ]
  }
 ],
 "metadata": {
  "kernelspec": {
   "display_name": "Python 3",
   "language": "python",
   "name": "python3"
  },
  "language_info": {
   "codemirror_mode": {
    "name": "ipython",
    "version": 3
   },
   "file_extension": ".py",
   "mimetype": "text/x-python",
   "name": "python",
   "nbconvert_exporter": "python",
   "pygments_lexer": "ipython3",
   "version": "3.7.6"
  }
 },
 "nbformat": 4,
 "nbformat_minor": 4
}
