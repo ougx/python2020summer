{
 "cells": [
  {
   "cell_type": "code",
   "execution_count": 1,
   "metadata": {},
   "outputs": [
    {
     "name": "stdout",
     "output_type": "stream",
     "text": [
      "lenghth of the longest word is 6 letters\n"
     ]
    }
   ],
   "source": [
    "#3.1 Write a Python function that takes a list of words and returns the length of the longest one.\n",
    "words=['hello', 'plus', 'one','equals','one']\n",
    "print('lenghth of the longest word is', max(len(w)for w in words), 'letters')"
   ]
  },
  {
   "cell_type": "code",
   "execution_count": 2,
   "metadata": {},
   "outputs": [
    {
     "name": "stdout",
     "output_type": "stream",
     "text": [
      "sameletters\n",
      "unique characters: {'e', 'r', 'm', 't', 'l', 's', 'a'}\n",
      "number of unique characters is 7\n"
     ]
    }
   ],
   "source": [
    "#3.2 Write a Python program to count the number of unique characters in a string.\n",
    "string='sameletters'\n",
    "print(string)\n",
    "print('unique characters:', set(string))\n",
    "print('number of unique characters is', len(set(string)))"
   ]
  },
  {
   "cell_type": "code",
   "execution_count": 3,
   "metadata": {},
   "outputs": [
    {
     "name": "stdout",
     "output_type": "stream",
     "text": [
      "Dictionary values {'Green': 5, 'Blue': 7, 'Yellow': 12, 'Orange': 15}\n",
      "Ascending order is [('Blue', 7), ('Green', 5), ('Orange', 15), ('Yellow', 12)]\n",
      "descending order is [('Yellow', 12), ('Orange', 15), ('Green', 5), ('Blue', 7)]\n"
     ]
    }
   ],
   "source": [
    "#3.3 Write a Python program to sort (ascending and descending) a dictionary by value.\n",
    "aliens= {'Green': 5, 'Blue': 7, 'Yellow': 12,'Orange': 15}\n",
    "print('Dictionary values', aliens)\n",
    "asc=list(aliens.items())\n",
    "asc.sort()\n",
    "print('Ascending order is', asc)\n",
    "\n",
    "dsc=list(aliens.items())\n",
    "dsc.sort(reverse=True)\n",
    "print('descending order is', dsc)"
   ]
  },
  {
   "cell_type": "code",
   "execution_count": 4,
   "metadata": {},
   "outputs": [
    {
     "name": "stdout",
     "output_type": "stream",
     "text": [
      "dreF\n"
     ]
    }
   ],
   "source": [
    "#3.4 Write a Python program to change a given string to a new string where the first and last chars have been exchanged.\n",
    "string='Fred'\n",
    "newString=(string[1:len(string)-1])\n",
    "print(string[len(string)-1]+newString+string[0])"
   ]
  },
  {
   "cell_type": "code",
   "execution_count": 5,
   "metadata": {},
   "outputs": [
    {
     "name": "stdout",
     "output_type": "stream",
     "text": [
      "True\n"
     ]
    }
   ],
   "source": [
    "#3.5 Write a Python function that takes two lists and returns True if they have at least one common member.\n",
    "def common_data(list1, list2):\n",
    "    result = False\n",
    "    for x in list1:\n",
    "        for y in list2:\n",
    "            if x == y:\n",
    "                    result=True\n",
    "                    return result\n",
    "a=[1,2,3]\n",
    "b=[3,4,5]\n",
    "print(common_data(a,b))"
   ]
  },
  {
   "cell_type": "code",
   "execution_count": 6,
   "metadata": {},
   "outputs": [
    {
     "name": "stdout",
     "output_type": "stream",
     "text": [
      "Minimum number of coins to change 1.22  is: 5\n"
     ]
    }
   ],
   "source": [
    "#3.6 Write a Python function that return the minimum number of coins ($0.01, $0.1, $0.25, $1) that make a given value.\n",
    "Amount=1.22\n",
    "Value=Amount\n",
    "Value=int(round(Value*100))\n",
    "Dollars=0\n",
    "Quarters=0\n",
    "Dimes=0\n",
    "Pennies=0\n",
    "\n",
    "Dollars=Value/100\n",
    "Value = Value % 100  #calculates the remainder of the value\n",
    "Quarters=Value/25\n",
    "Value=Value % 25\n",
    "Dimes=Value/10\n",
    "Value=Value % 10\n",
    "Pennies=Value\n",
    "#print(int(Dollars), int(Quarters), int(Dimes), int(Pennies))\n",
    "min_coins=(int(Dollars), int(Quarters), int(Dimes), int(Pennies))\n",
    "print('Minimum number of coins to change', Amount, ' is:', sum(min_coins))"
   ]
  },
  {
   "cell_type": "code",
   "execution_count": null,
   "metadata": {},
   "outputs": [],
   "source": []
  }
 ],
 "metadata": {
  "kernelspec": {
   "display_name": "Python 3",
   "language": "python",
   "name": "python3"
  },
  "language_info": {
   "codemirror_mode": {
    "name": "ipython",
    "version": 3
   },
   "file_extension": ".py",
   "mimetype": "text/x-python",
   "name": "python",
   "nbconvert_exporter": "python",
   "pygments_lexer": "ipython3",
   "version": "3.7.6"
  }
 },
 "nbformat": 4,
 "nbformat_minor": 4
}
