{
 "cells": [
  {
   "cell_type": "code",
   "execution_count": 6,
   "metadata": {},
   "outputs": [
    {
     "name": "stdout",
     "output_type": "stream",
     "text": [
      "Using str.format():\n",
      "file_002: 123.46, 1.00e+04, 1.23e+04\n",
      "Using f String:\n",
      "file_002: 123.46, 1.00e+04, 1.23e+04\n"
     ]
    }
   ],
   "source": [
    "# 1. Write a format string (using str.format() and f'string') that will take the following four element tuple:\n",
    "#   (2, 123.4567, 10000, 12345.67)\n",
    "#   and produce:\n",
    "#   'file_002 :   123.46, 1.00e+04, 1.23e+04'\n",
    "\n",
    "print('Using str.format():')\n",
    "print('file_{:>03}: {:.5}, {:.2e}, {:.2e}'.format(2, 123.4567, 10000, 12345.67))\n",
    "print('Using f String:')\n",
    "tup=(2, 123.4567, 10000, 12345.67)\n",
    "print(f'file_{tup[0]:>03}: {tup[1]:.5}, {tup[2]:.2e}, {tup[3]:.2e}')"
   ]
  },
  {
   "cell_type": "code",
   "execution_count": 2,
   "metadata": {},
   "outputs": [
    {
     "name": "stdout",
     "output_type": "stream",
     "text": [
      "The 3 numbers are: 1,2,3\n",
      "The 4 numbers are: 6,7,8,9\n"
     ]
    }
   ],
   "source": [
    "#  2. Write a python function that output the following formatted string based on the input iterable:\n",
    "#   'The n numbers are: i1, i2, i3, ...'\n",
    "#    where n is the number in the iterable and i1, i2 ... are the items inside the iterable.\n",
    "#   for example:\n",
    "#   func([1, 2, 3]) will return 'The 3 numbers are: 1, 2, 3'\n",
    "#   func((6, 7, 8, 9)) will return 'The 4 numbers are: 6, 7, 8, 9'\n",
    "\n",
    "#input_iterable=[1,2,3]\n",
    "def iterable(input_iterable):\n",
    "    length=len(input_iterable)\n",
    "    print(f'The {length} numbers are: {input_iterable[0]},{input_iterable[1]},{input_iterable[2]}')\n",
    "iterable([1,2,3])\n",
    "def iterable(input_iterable):\n",
    "    length=len(input_iterable)\n",
    "    print(f'The {length} numbers are: {input_iterable[0]},{input_iterable[1]},{input_iterable[2]},{input_iterable[3]}')\n",
    "    \n",
    "iterable([6,7,8,9])\n"
   ]
  },
  {
   "cell_type": "code",
   "execution_count": 8,
   "metadata": {},
   "outputs": [
    {
     "name": "stdout",
     "output_type": "stream",
     "text": [
      "The 3 numbers are: 1, 2, 3\n",
      "The 4 numbers are: 6, 7, 8, 9\n"
     ]
    }
   ],
   "source": [
    "#  3. Write a python function that output the following formatted string based on the input iterable:\n",
    "#   'The n numbers are: i1, i2, i3, ...'\n",
    "#    where n is the number in the iterable and i1, i2 ... are the items inside the iterable.\n",
    "#   for example:\n",
    "#   func([1, 2, 3]) will return 'The 3 numbers are: 1, 2, 3'\n",
    "#   func((6, 7, 8, 9)) will return 'The 4 numbers are: 6, 7, 8, 9'\n",
    "\n",
    "#input_iterable=[1,2,3]\n",
    "def iterable(input_iterable):\n",
    "    length=len(input_iterable)\n",
    "    print(f'The {length} numbers are: {str(input_iterable)[1:-1]}')\n",
    "iterable([1,2,3])    \n",
    "iterable([6,7,8,9])"
   ]
  },
  {
   "cell_type": "code",
   "execution_count": 9,
   "metadata": {},
   "outputs": [
    {
     "name": "stdout",
     "output_type": "stream",
     "text": [
      "The input is: (4, 30, 2017, 2, 27)\n",
      "The output is: 2 27 2017 4 30\n"
     ]
    }
   ],
   "source": [
    "#  4. Write a format string (f'string') that will take the following tuple and return the formatted string below:\n",
    "#     Tuple: (4, 30, 2017, 2, 27)\n",
    "#     Return: '02 27 2017 04 30'\n",
    "\n",
    "tup=(4, 30, 2017, 2, 27)\n",
    "print('The input is:', tup)\n",
    "print(f'The output is: {tup[0]-2} {tup[1]-3} {tup[2]} {tup[3]+2} {tup[4]+3}')"
   ]
  },
  {
   "cell_type": "code",
   "execution_count": 10,
   "metadata": {},
   "outputs": [
    {
     "name": "stdout",
     "output_type": "stream",
     "text": [
      "The weight of an orange is 1.3 and the weight of a lemon is 1.1 and the total weight is 2.4\n"
     ]
    }
   ],
   "source": [
    "# 5. Write a format string (f'string') that will take the following input and return the formatted string below:\n",
    "#   Input: ['oranges', 1.3, 'lemons', 1.1]\n",
    "#   Return: 'The weight of an orange is 1.3 and the weight of a lemon is 1.1 and the total weight is 2.4'\n",
    "\n",
    "ind=['oranges', 1.3, 'lemons', 1.1]\n",
    "print(f'The weight of an {ind[0]:.6} is {ind[1]} and the weight of a {ind[2]:.5} is {ind[3]} and the total weight is {(ind[1]+ind[3]):.2}')"
   ]
  },
  {
   "cell_type": "code",
   "execution_count": 11,
   "metadata": {},
   "outputs": [
    {
     "ename": "SyntaxError",
     "evalue": "invalid syntax (<ipython-input-11-ccf5452063e6>, line 7)",
     "output_type": "error",
     "traceback": [
      "\u001b[1;36m  File \u001b[1;32m\"<ipython-input-11-ccf5452063e6>\"\u001b[1;36m, line \u001b[1;32m7\u001b[0m\n\u001b[1;33m    print(f'{iterable[0:-1]:>{width}s}'})\u001b[0m\n\u001b[1;37m                                       ^\u001b[0m\n\u001b[1;31mSyntaxError\u001b[0m\u001b[1;31m:\u001b[0m invalid syntax\n"
     ]
    }
   ],
   "source": [
    "# 6. Write a function that will format each item in an input iterable object into a customized width\n",
    "# syntax: func(iterable, width\n",
    "# for example:\n",
    "# func([1, 2, 3, 4, 5], 3) return '  1  2  3  4  5'\n",
    "# func([1, 2, 3, 4, 5], 2) return ' 1 2 3 4 5'\n",
    "def input_variables(iterable, width): \n",
    "    myString = \"\"\n",
    "    seperator = \"\"\n",
    "    for i in range(width):\n",
    "        seperator += \" \"\n",
    "    for ii in myList:\n",
    "        myString += seperator + str(ii)\n",
    "    return myString\n",
    "\n",
    "width = 5\n",
    "print(input_variables(iterable,width))  \n",
    "input_variables([1,2,3,4,5],2)\n",
    "input_variables([1,2,3,4,5],3)\n",
    "\n",
    "###################\n",
    "#I know that the number for the width needs to inserted into the index spacing, but couldn't come up with the correct syntax to do so.\n",
    "###################"
   ]
  },
  {
   "cell_type": "code",
   "execution_count": null,
   "metadata": {},
   "outputs": [],
   "source": [
    "# 7. The USGS Water Data service provides retrival of streamflow data at the USGS stream gages. \n",
    "#The download url follows the pattern below. Write a Python program \n",
    "#   1) generate the url for a given list of gage numbers; \n",
    "#   2) read this url and download the data to csv file (do not use numpy or pandas); \n",
    "#   3) based on the downloaded data calculate the monthly stasticstics including maximum, minimum and average of \n",
    "#      the streamflow data and save it to another csv file. The data need to be formatted to 2 decimal digits. \n",
    "#   4) calculate the average annual runoff of each gage (expressed in acre-feet)\n",
    "\n",
    "# url: https://waterdata.usgs.gov/nwis/dv?&cb_00060=on&format=rdb&site_no=06803495&referred_module=sw&period=&begin_date=2019-02-11&end_date=2020-02-11\n",
    "\n",
    "# where &site_no=06803495 define which gages are included in this data retrieval; for multiple gages, simply repeat it, e.g. &site_no=06803495&site_no=06803486;\n",
    "# the datas are specified by &period=&begin_date=2018-02-11&end_date=2020-02-11\n",
    "# You could test your program using the gages ['06803495', '06803486'] for the period between 2000-10-1 and 2019-9-30\n",
    "# Hint 1: using the str.format() method to construct the url.\n",
    "# Hint 2: use the urllib.request.urlopen() to download the url:\n",
    "# from urllib.request import urlopen\n",
    "#     f = urlopen(a_url)\n",
    "#     lines = f.readlines()\n",
    "# Hint 3: skip the lines starts with # in the downloaded data.\n",
    "# Hint 4: print some of the downloaded lines and identify the elements in each line.\n",
    "# Hint 5: using the str.format() or f-string method to write csv file.\n",
    "# Hint 6: the monthly stasticstics refer to the time series of monthly stasticstics.\n",
    "# Hint 7: for the average annual runoff, you need to calculate the total runoff for each year and then calculate average of these annual runoff.\n",
    "\n",
    "GageNums = ['06803495', '06803486']\n",
    "dateRange = ['2000-10-10', '2019-9-30']\n",
    "\n",
    "gageString = ''\n",
    "for gage in GageNums:\n",
    "    gageString += \"&site_no=\" + gage\n",
    "\n",
    "webURL = ('https://waterdata.usgs.gov/nwis/dv?&cb_00060=on&format=rdb{}&referred_module=sw&period=&begin_date={}&end_date={}').format(gageString,dateRange[0],dateRange[1])\n",
    "print(webURL, '\\n')\n",
    "\n",
    "from urllib.request import urlopen\n",
    "URLdata = urlopen(webURL).readlines()\n",
    "\n",
    "for i in range(40):\n",
    "    print(URLdata[i])\n",
    "\n",
    "print('\\n')\n",
    "\n",
    "FlowFile = open(\"StreamFlowFile.csv\",'w')    \n",
    "FlowFileHeaders = ['agency','site_no','dateTime','discharge_cfs','qualification']\n",
    "FlowFile.write( ','.join(FlowFileHeaders)+'\\n') \n",
    "\n",
    "\n",
    "i=0\n",
    "for line in URLdata:\n",
    "    strLine = line.decode('utf8').split()\n",
    "    if strLine[0] != \"#\" and strLine[0] == 'USGS':\n",
    "        Agency = FlowFileHeaders.index('agency')\n",
    "        SiteNo = FlowFileHeaders.index('site_no')\n",
    "        DateTime = FlowFileHeaders.index('dateTime')\n",
    "        Discharge = FlowFileHeaders.index('discharge_cfs')\n",
    "        Qualification = FlowFileHeaders.index('qualification')\n",
    "        FlowFile.write(f'{strLine[Agency]},{strLine[SiteNo]},{strLine[DateTime]},{strLine[Discharge]},{strLine[Qualification]}\\n')\n",
    "        if i<=10:\n",
    "            i+=1\n",
    "            print(strLine)\n",
    "FlowFile.close()\n",
    "#######################\n",
    "#Monthly Stats\n",
    "\n",
    "def MonthlyStats(FlowFile):\n",
    "    site = ''\n",
    "    date = ''\n",
    "    begin = True\n",
    "    with open(FlowFile) as f:\n",
    "        f.readline()\n",
    "        siteIndex = 1\n",
    "        dateIndex = 2\n",
    "        dischargeIndex = 3\n",
    "        \n",
    "        for j, dataLine in enumerate(f):\n",
    "            dataItems = dataLine.split(',')\n",
    "            if dataItems[dateIndex][:7] != date or dataItems[siteIndex] != site:\n",
    "                site = dataItems[siteIndex]\n",
    "                date = dataItems[dateIndex][:7]\n",
    "                key = f'{site},{date}'\n",
    "                if begin:\n",
    "                    siteMonth = {key:[]}\n",
    "                    begin = False\n",
    "                else:\n",
    "                    siteMonth[key] = []\n",
    "                \n",
    "            if dataItems[dischargeIndex].replace('.','0').isnumeric():\n",
    "                siteMonth[key].append(float(dataItems[dischargeIndex]))\n",
    "            else:\n",
    "                print(dataItems)\n",
    "\n",
    "    with open('MonthlyStats.csv', 'w') as fw:\n",
    "        fw.write('siteNumber,month,min,max,mean\\n')\n",
    "        for i in siteMonth:\n",
    "            if siteMonth[i] == []:\n",
    "                print(i, siteMonth[i])\n",
    "            else:\n",
    "                minVal = min(siteMonth[i])\n",
    "                maxVal = max(siteMonth[i])\n",
    "                meanVal = sum(siteMonth[i])/len(siteMonth[i])\n",
    "                fw.write(f'{i}-01,{minVal:.2f},{maxVal:.2f},{meanVal:.2f}\\n')\n",
    "\n",
    "MonthlyStats('StreamFlowFile.csv')\n",
    "##############################\n",
    "#Annual\n",
    "def AnnualTotal(StreamFlowData):\n",
    "    currentSite = ''\n",
    "    currentYear = ''\n",
    "    begin = True\n",
    "    with open(StreamFlowData) as f:\n",
    "        f.readline()\n",
    "        siteIndex = 1\n",
    "        dateIndex = 2\n",
    "        dischargeIndex = 3\n",
    "        for k, dataLine in enumerate(f):\n",
    "            dataItems = dataLine.split(',')\n",
    "            \n",
    "            if dataItems[dateIndex][:4] != currentYear or dataItems[siteIndex] != currentSite:\n",
    "                currentYear = dataItems[dateIndex][:4]\n",
    "                currentSite = dataItems[siteIndex]\n",
    "                key = f'{currentSite},{currentYear}'\n",
    "                if begin:\n",
    "                    siteYear = {key:[]}\n",
    "                    begin = False\n",
    "                else:\n",
    "                    siteYear[key] = []\n",
    "            \n",
    "            if dataItems[dischargeIndex].replace('.','0').isnumeric():\n",
    "                acreFeet = float(dataItems[dischargeIndex])*24*60*60/43560\n",
    "                siteYear[key].append(float(acreFeet))\n",
    "                \n",
    "    with open('AnnualTotal.csv', 'w') as fw:\n",
    "        fw.write('siteNumber,year,annual runoff (ac/ft)\\n')\n",
    "        for key in siteYear:\n",
    "            totalRunoff = sum(siteYear[key])\n",
    "            fw.write(f'{key}-01-01,{totalRunoff:.2f}\\n')\n",
    "        \n",
    "AnnualTotal('StreamFlowFile.csv') "
   ]
  }
 ],
 "metadata": {
  "kernelspec": {
   "display_name": "Python 3",
   "language": "python",
   "name": "python3"
  },
  "language_info": {
   "codemirror_mode": {
    "name": "ipython",
    "version": 3
   },
   "file_extension": ".py",
   "mimetype": "text/x-python",
   "name": "python",
   "nbconvert_exporter": "python",
   "pygments_lexer": "ipython3",
   "version": "3.7.6"
  }
 },
 "nbformat": 4,
 "nbformat_minor": 4
}
