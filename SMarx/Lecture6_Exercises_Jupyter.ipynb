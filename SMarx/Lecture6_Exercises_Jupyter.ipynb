{
 "cells": [
  {
   "cell_type": "code",
   "execution_count": 1,
   "metadata": {},
   "outputs": [
    {
     "name": "stdout",
     "output_type": "stream",
     "text": [
      "Simulated: [1 2 3] Observed: [1.1 2.1 3.3]\n",
      "Error: [0.1 0.1 0.3]\n",
      "Mean Error is: 0.07990620490620493\n",
      "R^2: 0.9972527472527473\n"
     ]
    }
   ],
   "source": [
    "#6.1 Given two 1-d arrays of simulated values and observed values, Write a Pyhton function\n",
    "#    to calculate the mean error, coefficient of determination and nash coefficient. \n",
    "#    Loops are NOT allowed.\n",
    "\n",
    "import numpy as np\n",
    "As=[1,2,3]\n",
    "Ao=[1.1,2.1,3.3]\n",
    "np.As=(As)\n",
    "np.Ao=(Ao)\n",
    "print('Simulated:', np.array(As),'Observed:', np.array(Ao))\n",
    "Error=np.array(Ao)-np.array(As)\n",
    "print('Error:', Error)\n",
    "Mean_Error=np.mean(Error/(np.array(Ao),np.array(As)))\n",
    "print('Mean Error is:', Mean_Error)\n",
    "\n",
    "correlation_matrix=np.corrcoef(As,Ao)\n",
    "correlation_AsAo=correlation_matrix[0,1]\n",
    "R_Squared=correlation_AsAo**2\n",
    "print('R^2:', R_Squared)"
   ]
  },
  {
   "cell_type": "code",
   "execution_count": 2,
   "metadata": {},
   "outputs": [
    {
     "name": "stdout",
     "output_type": "stream",
     "text": [
      "slope: 1.0999999999999999 intercept: -0.033333333333333215 R^2 Error: 0.9972527472527473\n"
     ]
    }
   ],
   "source": [
    "# 6.2 Given x and y, write a Python function to perform linear regression\n",
    "#     which returns a, c and sum of square errors where ax + c = y\n",
    "#         def linear_regression(x, y):\n",
    "#           return a, c, ssqe\n",
    "\n",
    "import numpy as np\n",
    "from scipy import stats\n",
    "def linear_regression(x,y):\n",
    "    x=np.As\n",
    "    y=np.Ao\n",
    "    slope, intercept, r_value, p_value, std_err = stats.linregress(x,y)\n",
    "    print(\"slope:\", slope, \"intercept:\", intercept, \"R^2 Error:\", r_value**2)\n",
    "\n",
    "linear_regression([1,2,3], [1.1,2.1,3.3])"
   ]
  },
  {
   "cell_type": "code",
   "execution_count": 3,
   "metadata": {},
   "outputs": [
    {
     "name": "stdout",
     "output_type": "stream",
     "text": [
      "landuse\n",
      " [[4 4 3 4 1]\n",
      " [4 1 2 4 1]\n",
      " [2 1 1 3 2]\n",
      " [4 3 3 4 3]\n",
      " [2 2 1 1 3]]\n",
      "precip \n",
      " [[0.35929721 0.10195484 0.07585201 0.9625314  0.27651179]\n",
      " [0.51684093 0.99309002 0.04125755 0.81989639 0.16767848]\n",
      " [0.42247525 0.97754159 0.43343766 0.79228485 0.98791963]\n",
      " [0.11837126 0.91954529 0.63220043 0.88960664 0.72067849]\n",
      " [0.86313098 0.86349638 0.26427342 0.10869762 0.03669322]]\n",
      "Mean precip for type 1 is 0.40690526678141004\n",
      "Mean precip for type 2 is 0.36690526678141006\n",
      "Mean precip for type 3 is 0.3869052667814101\n",
      "Mean precip for type 4 is 0.40690526678141004\n",
      "Mean precip for type 5 is 0.2669052667814101\n"
     ]
    }
   ],
   "source": [
    "# 6.3 Eestimate the mean precipitation on different land use types.\n",
    "#     landuse = np.random.randint(1, 5, [5, 5])\n",
    "#     precip  = np.random.random([5, 5])\n",
    "#     print('landuse\\n', landuse)\n",
    "#     print('precip \\n', precip)\n",
    "\n",
    "import numpy as np\n",
    "landuse = np.random.randint(1, 5, [5, 5])\n",
    "precip  = np.random.random([5, 5])\n",
    "print('landuse\\n', landuse)\n",
    "print('precip \\n', precip)\n",
    "\n",
    "landuse1=np.dstack((landuse ==1, precip))\n",
    "mean1=np.mean(landuse1)\n",
    "print('Mean precip for type 1 is', mean1)\n",
    "landuse2=np.dstack((landuse ==2, precip))\n",
    "mean2=np.mean(landuse2)\n",
    "print('Mean precip for type 2 is', mean2)\n",
    "landuse3=np.dstack((landuse ==3, precip))\n",
    "mean3=np.mean(landuse3)\n",
    "print('Mean precip for type 3 is', mean3)\n",
    "landuse4=np.dstack((landuse ==4, precip))\n",
    "mean4=np.mean(landuse4)\n",
    "print('Mean precip for type 4 is', mean4)\n",
    "landuse5=np.dstack((landuse ==5, precip))\n",
    "mean5=np.mean(landuse5)\n",
    "print('Mean precip for type 5 is', mean5)\n",
    "\n",
    "# for i in range(1,5):\n",
    "#     landuse[i]=np.dstack((landuse ==i, precip))\n",
    "#     {mean[i]}=np.mean(landuse[i])\n",
    "#     print(f'Mean precip for type {[i]}  is {mean[i]}')\n"
   ]
  },
  {
   "cell_type": "code",
   "execution_count": 7,
   "metadata": {},
   "outputs": [
    {
     "name": "stdout",
     "output_type": "stream",
     "text": [
      "[[0, 0, 0, 0, 0, 0], [0, 0, 0, 0, 0, 0], [0, 0, 1, 0, 0, 0], [0, 0, 1, 1, 1, 0], [0, 0, 1, 0, 0, 0], [0, 0, 0, 0, 0, 0]]\n",
      "{0.0: 0.46649935169981527, 1.0: 0.5747211295026247, 1.4142135623730951: 0.5749149049677919, 2.0: 0.5510733964523311, 2.23606797749979: 0.48132153350762463, 2.8284271247461903: 0.5804451768089496, 3.1622776601683795: 0.8538235972800718}\n"
     ]
    },
    {
     "data": {
      "image/png": "[encoded data removed]",
      "text/plain": [
       "<Figure size 432x288 with 3 Axes>"
      ]
     },
     "metadata": {
      "needs_background": "light"
     },
     "output_type": "display_data"
    }
   ],
   "source": [
    "# 4. We have two array. The first array is the distribution of irrigated land.\n",
    "#    The second array is the precipitation.\n",
    "#       landuse = np.random.randint(0, 1, [6, 6])\n",
    "#       precip  = np.random.random([6, 6])\n",
    "\n",
    "#       print('landuse\\n', landuse)\n",
    "#       print('precip \\n', precip)\n",
    "#   A. Create a function to create the buffer zones of varied distances to the irrigated land.\n",
    "\n",
    "#   B. Calculate the mean precipitation in the buffer zones of different distance to the irrigated land.\n",
    "import numpy as np\n",
    "import matplotlib.pyplot as plt\n",
    "\n",
    "\n",
    "#landuse = np.random.randint(0, 1, [6, 6])\n",
    "landuse = [\n",
    "    [0,0,0,0,0,0],\n",
    "    [0,0,0,0,0,0],\n",
    "    [0,0,1,0,0,0],\n",
    "    [0,0,1,1,1,0],\n",
    "    [0,0,1,0,0,0],\n",
    "    [0,0,0,0,0,0],\n",
    "    ]\n",
    "print(landuse)\n",
    "precip  = np.random.random([6, 6])\n",
    "plt.imshow(landuse)\n",
    "\n",
    "distX = np.arange(13).reshape([1,13])\n",
    "distY = np.arange(13).reshape([13,1])\n",
    "distance = ((distX-6)**2+(distY-6)**2)**0.5\n",
    "plt.imshow(distance, cmap='jet'); plt.colorbar()\n",
    "\n",
    "def createBuffer(landuse, distance=distance):\n",
    "    \n",
    "    buffer = np.full_like(landuse, 1e9)\n",
    "    n,m = buffer.shape\n",
    "    index = np.nonzero(landuse)\n",
    "    for i,j in np.array(index).T:\n",
    "        distBuffer = distance[(6-i):(6-i+n), (6-j):(6-j+m)]\n",
    "        buffer = np.where(distBuffer < buffer, distBuffer, buffer)\n",
    "    return buffer\n",
    "\n",
    "buffer = createBuffer(landuse)\n",
    "plt.imshow(buffer, cmap='jet'); plt.colorbar()\n",
    "\n",
    "# from problem #3\n",
    "def meanPrecip(landuse, precip):\n",
    "    \n",
    "    landUseDictionary = {}\n",
    "    \n",
    "    for ii in np.unique(landuse):\n",
    "        landUseDictionary[ii] = precip[landuse == ii].mean()\n",
    "    \n",
    "    return landUseDictionary\n",
    "\n",
    "print(meanPrecip(buffer, precip))"
   ]
  },
  {
   "cell_type": "code",
   "execution_count": 1,
   "metadata": {},
   "outputs": [
    {
     "name": "stdout",
     "output_type": "stream",
     "text": [
      "[1 0 5 4 5 2 4]\n"
     ]
    },
    {
     "data": {
      "image/png": "[encoded data removed]",
      "text/plain": [
       "<Figure size 432x288 with 1 Axes>"
      ]
     },
     "metadata": {
      "needs_background": "light"
     },
     "output_type": "display_data"
    }
   ],
   "source": [
    "# 5. Write a Python function to find the nearest point of a list given points.\n",
    "# You are not allowed to use any type of loops.\n",
    "\n",
    "# e. g. points = [(3, 4), (1, 2), (7, 8), (9, 4), (6, 5), (8, 7), (4, 7)]\n",
    "# Hint: using numpy to create a N x N array which contain the distances between each ith an jth point pair; where N is the numer of points.\n",
    "\n",
    "import numpy as np\n",
    "points=[(3, 4), (1, 2), (7, 8), (9, 4), (6, 5), (8, 7), (4, 7)]\n",
    "points=np.array(points)\n",
    "#print(points)\n",
    "\n",
    "distances=((points.reshape(7,1,2)-points.reshape(1,7,2))**2).sum(axis=2)\n",
    "distances[np.arange(7), np.arange(7)]=1e9\n",
    "print(np.argmin(distances,axis=0))\n",
    "\n",
    "import matplotlib.pyplot as plt\n",
    "for x,y in [(3, 4), (1, 2), (7, 8), (9, 4), (6, 5), (8, 7), (4, 7)]:\n",
    "    plt.scatter(x,y,5)\n"
   ]
  },
  {
   "cell_type": "code",
   "execution_count": null,
   "metadata": {},
   "outputs": [],
   "source": []
  }
 ],
 "metadata": {
  "kernelspec": {
   "display_name": "Python 3",
   "language": "python",
   "name": "python3"
  },
  "language_info": {
   "codemirror_mode": {
    "name": "ipython",
    "version": 3
   },
   "file_extension": ".py",
   "mimetype": "text/x-python",
   "name": "python",
   "nbconvert_exporter": "python",
   "pygments_lexer": "ipython3",
   "version": "3.7.6"
  }
 },
 "nbformat": 4,
 "nbformat_minor": 4
}
