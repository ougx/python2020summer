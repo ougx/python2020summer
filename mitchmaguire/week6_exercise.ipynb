{
 "cells": [
  {
   "cell_type": "markdown",
   "metadata": {},
   "source": [
    "### 1. Given two 1-d arrays of simulated values and observed values, Write a Pyhton function \n",
    "\n",
    "### to calculate the mean error, coefficient of determination and nash coefficient. Loops are NOT allowed."
   ]
  },
  {
   "cell_type": "code",
   "execution_count": 1,
   "metadata": {},
   "outputs": [
    {
     "data": {
      "text/plain": [
       "(0.04752270892241794, -1.8990670284789455, 0.7174738976223225)"
      ]
     },
     "execution_count": 1,
     "metadata": {},
     "output_type": "execute_result"
    }
   ],
   "source": [
    "from sklearn.metrics import r2_score\n",
    "import numpy as np\n",
    "\n",
    "sim = np.random.normal(size=100)\n",
    "obs = np.random.normal(size=100)\n",
    "\n",
    "def cal_stats(sim, obs):\n",
    "    mean_error = np.mean(sim - obs)\n",
    "    r2 = r2_score(obs, sim)\n",
    "    nash = 1- sum((sim-obs))**2/sum((obs-np.mean(obs))**2)\n",
    "    return mean_error, r2, nash\n",
    "\n",
    "cal_stats(sim, obs)\n"
   ]
  },
  {
   "cell_type": "markdown",
   "metadata": {},
   "source": [
    "### 2. Given `x` and `y`, write a Python function to perform linear regression \n",
    "\n",
    "### which returns `a`, `c` and `sum of square errors` where `ax + c = y` \n",
    "```python\n",
    "def linear_regression(x, y):\n",
    "    \n",
    "    return a, c, ssqe\n",
    "```"
   ]
  },
  {
   "cell_type": "code",
   "execution_count": 3,
   "metadata": {},
   "outputs": [
    {
     "data": {
      "text/plain": [
       "(array([-0.02554579]), array([[0.15426348]]), 85.91996887000056)"
      ]
     },
     "execution_count": 3,
     "metadata": {},
     "output_type": "execute_result"
    }
   ],
   "source": [
    "import numpy as np\n",
    "from sklearn.linear_model import LinearRegression\n",
    "x = np.random.normal(size=100).reshape((-1,1))\n",
    "y = np.random.normal(size=100).reshape((-1,1))\n",
    "\n",
    "def linear_regression(x, y):\n",
    "    model = LinearRegression()  \n",
    "    model.fit(x, y)\n",
    "    model.coef_\n",
    "    model.intercept_\n",
    "    ypred=model.predict(x)\n",
    "    ssqe = np.nansum((ypred - y) ** 2)\n",
    "    return model.intercept_,model.coef_, ssqe\n",
    "\n",
    "linear_regression(x,y)"
   ]
  },
  {
   "cell_type": "markdown",
   "metadata": {},
   "source": [
    "### 3. Eestimate the mean precipitation on different land use types.\n",
    "\n",
    "```python\n",
    "landuse = np.random.randint(1, 5, [5, 5])\n",
    "precip  = np.random.random([5, 5])\n",
    "\n",
    "print('landuse\\n', landuse)\n",
    "print('precip \\n', precip)\n",
    "```\n",
    "\n"
   ]
  },
  {
   "cell_type": "code",
   "execution_count": 5,
   "metadata": {},
   "outputs": [
    {
     "name": "stdout",
     "output_type": "stream",
     "text": [
      "landuse\n",
      " [[4 3 4 1 3]\n",
      " [3 4 3 3 3]\n",
      " [4 1 4 3 4]\n",
      " [1 4 1 4 4]\n",
      " [4 2 1 2 2]]\n",
      "precip \n",
      " [[0.13956057 0.13170398 0.64879198 0.86610155 0.08358115]\n",
      " [0.45583411 0.96379207 0.61475809 0.96043678 0.21268919]\n",
      " [0.78333151 0.38791185 0.88954787 0.30928568 0.38204765]\n",
      " [0.87797658 0.22834222 0.88179052 0.30436437 0.3531927 ]\n",
      " [0.65574984 0.89077848 0.62114708 0.04568525 0.72361433]]\n",
      "landuse 1, 0.726985514445117\n",
      "landuse 2, 0.5533593527391808\n",
      "landuse 3, 0.39546985482749075\n",
      "landuse 4, 0.5348720779150672\n"
     ]
    }
   ],
   "source": [
    "import numpy as np\n",
    "import numpy.ma as ma\n",
    "\n",
    "landuse = np.random.randint(1, 5, [5, 5])\n",
    "precip  = np.random.random([5, 5])\n",
    "print('landuse\\n', landuse)\n",
    "print('precip \\n', precip)\n",
    "\n",
    "def precip_landuse(landuse, precip):\n",
    "    for i in np.unique(landuse):\n",
    "        mask_precip = ma.masked_equal(landuse == i , precip)*precip\n",
    "        mask_precip[mask_precip == 0] = np.nan\n",
    "        mean = np.nanmean(mask_precip)\n",
    "        print('landuse {}, {}'.format(i, mean))\n",
    "\n",
    "precip_landuse(landuse, precip)"
   ]
  },
  {
   "cell_type": "markdown",
   "metadata": {},
   "source": [
    "### 4. We have two array. The first array is the distribution of irrigated land. \n",
    "\n",
    "### The second array is the precipitation. \n",
    "\n",
    "```python\n",
    "landuse = np.random.randint(0, 1, [6, 6])\n",
    "precip  = np.random.random([6, 6])\n",
    "\n",
    "print('landuse\\n', landuse)\n",
    "print('precip \\n', precip)\n",
    "```\n",
    "\n",
    "A. Create a function to create the buffer zones of varied distances to the irrigated land.\n",
    "\n",
    "B. Calculate the mean precipitation in the buffer zones of different distance to the irrigated land.\n"
   ]
  },
  {
   "cell_type": "code",
   "execution_count": 16,
   "metadata": {},
   "outputs": [
    {
     "name": "stdout",
     "output_type": "stream",
     "text": [
      "landuse\n",
      " [[1 0 1 1 0 1]\n",
      " [1 1 1 0 1 1]\n",
      " [0 1 1 1 1 0]\n",
      " [0 0 1 0 1 1]\n",
      " [0 0 1 0 1 0]\n",
      " [0 1 0 1 1 1]]\n",
      "precip \n",
      " [[0.82206669 0.1772973  0.71554812 0.19513944 0.3825238  0.15615117]\n",
      " [0.03790047 0.29156669 0.4786294  0.85060319 0.36984696 0.36672524]\n",
      " [0.98600773 0.11066053 0.76710075 0.02706888 0.01608522 0.98654576]\n",
      " [0.17785347 0.87445072 0.41194891 0.25361201 0.28773077 0.4044735 ]\n",
      " [0.99095469 0.13856097 0.3722214  0.91659866 0.85251971 0.10793312]\n",
      " [0.80573076 0.79741788 0.52538301 0.39866006 0.83794545 0.26159857]]\n",
      "0.0, 0.40813662890226365\n",
      "1.0, 0.5837705848508413\n",
      "1.4142135623730951, 0.5844040765232468\n"
     ]
    },
    {
     "data": {
      "image/png": "[encoded data removed]",
      "text/plain": [
       "<Figure size 432x288 with 2 Axes>"
      ]
     },
     "metadata": {
      "needs_background": "light"
     },
     "output_type": "display_data"
    }
   ],
   "source": [
    "import numpy as np\n",
    "import matplotlib.pyplot as plt\n",
    "import numpy.ma as ma\n",
    "landuse = np.random.randint(0, 2, [6, 6])\n",
    "precip  = np.random.random([6, 6])\n",
    "plt.imshow(landuse)\n",
    "plt.imshow(precip)\n",
    "\n",
    "print('landuse\\n', landuse)\n",
    "print('precip \\n', precip)\n",
    " \n",
    "distance_x = np.arange(13).reshape([1, 13])\n",
    "distance_y = np.arange(13).reshape([13, 1])\n",
    "distance = np.sqrt((distance_x - 6) ** 2 + (distance_y - 6) ** 2) \n",
    "#plt.imshow(distance); plt.colorbar()    \n",
    "\n",
    "def precip_landuse2(landuse, precip):\n",
    "    for i in np.unique(landuse):\n",
    "        mask_precip = ma.masked_equal(landuse == i , precip)*precip\n",
    "        mask_precip[mask_precip == 0] = np.nan\n",
    "        mean = np.nanmean(mask_precip)\n",
    "        print('{}, {}'.format(i, mean))\n",
    "\n",
    "def buffer(landuse, distance=distance):\n",
    "    buf = np.full_like(landuse, 100000)\n",
    "    n, m = buf.shape\n",
    "    index = np.nonzero(landuse)\n",
    "    for i, j in np.array(index).T:\n",
    "        distance_buf = distance[(6-i):(6-i+n), (6-j):(6-j+m)]\n",
    "        buf = np.where(distance_buf < buf, distance_buf, buf)\n",
    "    return buf\n",
    "\n",
    "buf = buffer(landuse)\n",
    "plt.imshow(buf);plt.colorbar()\n",
    "precip_landuse2(buf, precip)"
   ]
  },
  {
   "cell_type": "markdown",
   "metadata": {},
   "source": [
    "### 5. Write a Python function to find the nearest point of a list of given points. \n",
    "\n",
    "### You are not allowed to use any type of loops.\n",
    "\n",
    "e. g. points = [(3, 4), (1, 2), (7, 8), (9, 4), (6, 5), (8, 7), (4, 7)]\n",
    "\n",
    "Hint: using numpy to create a N x N array which contain the distances between each ith an jth point pair; where N is the numer of points."
   ]
  },
  {
   "cell_type": "code",
   "execution_count": 9,
   "metadata": {},
   "outputs": [
    {
     "name": "stdout",
     "output_type": "stream",
     "text": [
      "The nearest points are [7 8] and [8 7]\n"
     ]
    }
   ],
   "source": [
    "import numpy as np\n",
    "points = [(3, 4), (1, 2), (7, 8), (9, 4), (6, 5), (8, 7), (4, 7)]\n",
    "\n",
    "def find_nearest_points(listOfPoints):\n",
    "    points = np.array(listOfPoints)\n",
    "    distances = ((points.reshape(7, 1, 2) - points.reshape(1, 7, 2)) ** 2).sum(axis=2)\n",
    "    distances[np.arange(7), np.arange(7)] = 100000\n",
    "    min_dist = np.min(np.min(distances))\n",
    "    nearest_points = np.where(distances==min_dist)\n",
    "    print('The nearest points are {} and {}'.format(points[nearest_points[0][0]],points[nearest_points[0][1]]))\n",
    "\n",
    "find_nearest_points(points)"
   ]
  },
  {
   "cell_type": "code",
   "execution_count": null,
   "metadata": {},
   "outputs": [],
   "source": []
  }
 ],
 "metadata": {
  "kernelspec": {
   "display_name": "Python 3",
   "language": "python",
   "name": "python3"
  },
  "language_info": {
   "codemirror_mode": {
    "name": "ipython",
    "version": 3
   },
   "file_extension": ".py",
   "mimetype": "text/x-python",
   "name": "python",
   "nbconvert_exporter": "python",
   "pygments_lexer": "ipython3",
   "version": "3.7.4"
  }
 },
 "nbformat": 4,
 "nbformat_minor": 4
}
