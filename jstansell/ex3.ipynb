{
 "cells": [
  {
   "cell_type": "markdown",
   "metadata": {},
   "source": [
    "# Exercise Set 3\n",
    "\n",
    "This exercise set corresponds to the exercises presented at the end of Lecture 4."
   ]
  },
  {
   "cell_type": "markdown",
   "metadata": {},
   "source": [
    "## Exercise 1"
   ]
  },
  {
   "cell_type": "code",
   "execution_count": 43,
   "metadata": {},
   "outputs": [
    {
     "output_type": "stream",
     "name": "stdout",
     "text": "01245"
    }
   ],
   "source": [
    "for i in range(6):\n",
    "    if i == 3:\n",
    "        continue\n",
    "    print(i,end = '')\n"
   ]
  },
  {
   "cell_type": "markdown",
   "metadata": {},
   "source": [
    "## Exercise 2"
   ]
  },
  {
   "cell_type": "code",
   "execution_count": 61,
   "metadata": {},
   "outputs": [
    {
     "output_type": "stream",
     "name": "stdout",
     "text": "New password needs at least one lowercase letter.\n"
    }
   ],
   "source": [
    "import string\n",
    "\n",
    "def passwordcheck(password):\n",
    "    numbers = [str(i) for i in range(10)]\n",
    "    chars = ['$','#','@']\n",
    "    lowercase = list(string.ascii_lowercase)\n",
    "    uppercase = list(string.ascii_uppercase)\n",
    "    max_length = 16\n",
    "    min_length = 6\n",
    "    if len(password) >= 6 and len(password) <= 16:\n",
    "        if any(character in password for character in chars):\n",
    "            if any(num in password for num in numbers):\n",
    "                if any(letter in password for letter in lowercase):\n",
    "                    if any(letter in password for letter in uppercase):\n",
    "                        return print('New password is acceptable.')\n",
    "                    else:\n",
    "                        return print('New password needs at least one uppercase letter.')\n",
    "                else:\n",
    "                    return print('New password needs at least one lowercase letter.')\n",
    "            else:\n",
    "                return print('New password needs at least one number between 0 and 9.')\n",
    "        else:\n",
    "            return print('New password needs at least one character of',chars)\n",
    "    else:\n",
    "        return print('Password must be between 6 and 16 characters long.')\n",
    "\n",
    "password = input('Enter your new password: ')\n",
    "passwordcheck(password)\n"
   ]
  },
  {
   "cell_type": "markdown",
   "metadata": {},
   "source": [
    "## Exercise 3"
   ]
  },
  {
   "cell_type": "code",
   "execution_count": 11,
   "metadata": {},
   "outputs": [
    {
     "output_type": "stream",
     "name": "stdout",
     "text": "* \n* * \n* * * \n* * * * \n* * * * * \n* * * * - \n* * * - - \n* * - - - \n* - - - - \n* \n* * \n* * * \n* * * * \n* * * * * \n* * * * - \n* * * - - \n* * - - - \n* - - - - \n"
    }
   ],
   "source": [
    "for i in range(9):\n",
    "    if i < 5:\n",
    "        for j in range(i+1):\n",
    "            print('* ', end = '')\n",
    "    else:\n",
    "        for j in range(abs(9-i)):\n",
    "            print('* ', end = '')\n",
    "        for k in range(i-4):\n",
    "            print('- ', end = '')\n",
    "    print('')  \n",
    "\n",
    "### Alternative without nested for loop.\n",
    "# for i in range(9):\n",
    "#    if i < 5:\n",
    "#       multiplier = i + 1\n",
    "#        print('* ' * multiplier)\n",
    "#    else:\n",
    "#        multiplier2 = i - 4\n",
    "#        multiplier1 = 5 - multiplier2\n",
    "#        print('* ' * multiplier1 + '- ' * multiplier2)\n",
    "        \n"
   ]
  },
  {
   "cell_type": "markdown",
   "metadata": {},
   "source": [
    "## Exercise 4"
   ]
  },
  {
   "cell_type": "code",
   "execution_count": 53,
   "metadata": {},
   "outputs": [
    {
     "output_type": "stream",
     "name": "stdout",
     "text": "The safest vehicle is a Chevy Silverado with only 11 accidents per year.\n\nThe average number of annual accidents and safest brands for each vehicle type are shown below.\n[{'Type': 'Pickup', 'Safest Brand': 'Chevy', 'Average Accidents': 11.0}, {'Type': 'SUV', 'Safest Brand': 'Ford', 'Average Accidents': 83.5}, {'Type': 'Sedan', 'Safest Brand': 'Honda', 'Average Accidents': 29.0}]\n\nThe total annual accidents by type of vehicle are shown below.\n[{'Type': 'Pickup', 'Total Accidents': 56}, {'Type': 'SUV', 'Total Accidents': 339}, {'Type': 'Sedan', 'Total Accidents': 165}]\n\nThe total annual accidents by brand are shown below.\n[{'Brand': 'Ford', 'Total Accidents': 212}, {'Brand': 'Chevy', 'Total Accidents': 147}, {'Brand': 'Honda', 'Total Accidents': 201}]\n"
    }
   ],
   "source": [
    "Brand = ['Ford', 'Ford', 'Chevy', 'Chevy', 'Honda', 'Ford', 'Honda', 'Honda', 'Ford', 'Chevy']\n",
    "Model = ['F150', 'Escape', 'Charger', 'Charger', 'Civic', 'Escape', 'CRV', 'CRV', 'F150', 'Silverado']\n",
    "Type = ['Pickup', 'SUV', 'Sedan', 'Sedan', 'Sedan', 'SUV', 'SUV', 'SUV', 'Pickup', 'Pickup']\n",
    "Accidents = [25, 79, 46, 90, 29, 88, 79, 93, 20, 11]\n",
    "\n",
    "min_index = Accidents.index(min(Accidents))\n",
    "safest_brand = Brand[min_index]\n",
    "safest_model = Model[min_index]\n",
    "least_accidents = Accidents[min_index]\n",
    "print('The safest vehicle is a',safest_brand,safest_model,'with only',least_accidents,'accidents per year.')\n",
    "print('')\n",
    "\n",
    "\n",
    "unique_types = list(set(Type))\n",
    "type_data = []\n",
    "for i in range(len(unique_types)):\n",
    "    brands = []\n",
    "    for j in range(len(Type)):\n",
    "        if Type[j] == unique_types[i]:\n",
    "            if Brand[j] not in brands:\n",
    "                brands.append(Brand[j])\n",
    "    for k in range(len(brands)):\n",
    "        num_accidents = 0\n",
    "        count = 0\n",
    "        mean_accidents = 0\n",
    "        for m in range(len(Brand)):\n",
    "            if Brand[m] == brands[k] and Type[m] == unique_types[i]:\n",
    "                num_accidents = num_accidents + Accidents[m]\n",
    "                count = count + 1\n",
    "        mean_accidents = num_accidents/count\n",
    "        if k == 0:\n",
    "            min_accidents = mean_accidents\n",
    "            min_brand = brands[k]\n",
    "        elif mean_accidents < min_accidents:\n",
    "            min_accidents = mean_accidents\n",
    "            min_brand = brands[k]\n",
    "    type_data.append({'Type': unique_types[i],'Safest Brand': min_brand,'Average Accidents': min_accidents})\n",
    "print('The average number of annual accidents and safest brands for each vehicle type are shown below.')\n",
    "print(type_data)\n",
    "print('')\n",
    "\n",
    "type_accidents = []\n",
    "for i in range(len(unique_types)):\n",
    "    total_accidents = 0\n",
    "    for j in range(len(Type)):\n",
    "        if Type[j] == unique_types[i]:\n",
    "            total_accidents = total_accidents + Accidents[j]\n",
    "    type_accidents.append({'Type': unique_types[i],'Total Accidents': total_accidents})\n",
    "print('The total annual accidents by type of vehicle are shown below.')\n",
    "print(type_accidents)\n",
    "print('')\n",
    "\n",
    "unique_brands = list(set(Brand))\n",
    "\n",
    "brand_accidents = []\n",
    "for i in range(len(unique_brands)):\n",
    "    total_accidents = 0\n",
    "    for j in range(len(Type)):\n",
    "        if Brand[j] == unique_brands[i]:\n",
    "            total_accidents = total_accidents + Accidents[j]\n",
    "    brand_accidents.append({'Brand': unique_brands[i],'Total Accidents': total_accidents})\n",
    "print('The total annual accidents by brand are shown below.')\n",
    "print(brand_accidents)"
   ]
  },
  {
   "cell_type": "markdown",
   "metadata": {},
   "source": [
    "## Exercise 5"
   ]
  },
  {
   "cell_type": "code",
   "execution_count": 74,
   "metadata": {},
   "outputs": [
    {
     "output_type": "stream",
     "name": "stdout",
     "text": "The average cold conditions temperature was -3.9 degrees.\nThe average slippery conditions temperature was 0.6 degrees.\nThe average comfortable conditions temperature was 5.0 degrees.\nThere were no warm days during this interval - must not be summer!\n"
    }
   ],
   "source": [
    "import math\n",
    "import statistics\n",
    "\n",
    "temperatures = [-5.4, 1.0, -1.3, -4.8, 3.9, 0.1, -4.4, 4.0, -2.2, -3.9, 4.4, -2.5, -4.6,5.1, 2.1, -2.4, 1.9, -3.3, -4.8, 1.0, -0.8, -2.8, -0.1, -4.7, -5.6, 2.6, -2.7, -4.6,3.4, -0.4, -0.9, 3.1, 2.4, 1.6, 4.2, 3.5, 2.6, 3.1, 2.2, 1.8, 3.3, 1.6, 1.5, 4.7, 4.0,3.6, 4.9, 4.8, 5.3, 5.6, 4.1, 3.7, 7.6, 6.9, 5.1, 6.4, 3.8, 4.0, 8.6, 4.1, 1.4, 8.9,3.0, 1.6, 8.5, 4.7, 6.6, 8.1, 4.5, 4.8, 11.3, 4.7, 5.2, 11.5, 6.2, 2.9, 4.3, 2.8, 2.8,6.3, 2.6, -0.0, 7.3, 3.4, 4.7, 9.3, 6.4, 5.4, 7.6, 5.2]\n",
    "\n",
    "cold_index = []\n",
    "slippery_index = []\n",
    "comf_index = []\n",
    "warm_index = []\n",
    "cold_temps = []\n",
    "slippery_temps = []\n",
    "comf_temps = []\n",
    "warm_temps = []\n",
    "for i in range(len(temperatures)):\n",
    "    if temperatures[i] < -2:\n",
    "        cold_index.append(i)\n",
    "        cold_temps.append(temperatures[i])\n",
    "    if temperatures[i] >= -2 and temperatures[i] < 2:\n",
    "        slippery_index.append(i)\n",
    "        slippery_temps.append(temperatures[i])\n",
    "    if temperatures[i] >= 2 and temperatures[i] < 15:\n",
    "        comf_index.append(i)\n",
    "        comf_temps.append(temperatures[i])\n",
    "    if temperatures[i] >= 15:\n",
    "        warm_index.append(i)\n",
    "        warm_temps.append(temperatures[i])\n",
    "\n",
    "if not len(cold_temps) == 0:\n",
    "    cold_average = round(statistics.mean(cold_temps),1)\n",
    "    print('The average cold conditions temperature was',cold_average,'degrees.')\n",
    "else:\n",
    "    print('There were no cold days during this interval.')\n",
    "\n",
    "if not len(slippery_temps) == 0:\n",
    "    slippery_average = round(statistics.mean(slippery_temps),1)\n",
    "    print('The average slippery conditions temperature was',slippery_average,'degrees.')\n",
    "else:\n",
    "    print('There were no slippery conditions days during this interval.')\n",
    "\n",
    "if not len(comf_temps) == 0:\n",
    "    comf_average = round(statistics.mean(comf_temps),1)\n",
    "    print('The average comfortable conditions temperature was',comf_average,'degrees.')\n",
    "else:\n",
    "    print('There were no comfortable conditions days during this interval.')\n",
    "\n",
    "if not len(warm_temps) == 0:\n",
    "    warm_average = round(statistics.mean(warm_temps),1)\n",
    "    print('The average warm conditions temperature was',warm_average,'degrees.')\n",
    "else:\n",
    "    print('There were no warm days during this interval - must not be summer!')\n",
    "\n",
    "\n",
    "\n",
    "\n"
   ]
  },
  {
   "cell_type": "markdown",
   "metadata": {},
   "source": [
    "## Exercise 6"
   ]
  },
  {
   "cell_type": "code",
   "execution_count": 27,
   "metadata": {},
   "outputs": [
    {
     "output_type": "stream",
     "name": "stdout",
     "text": "The longest non-continuous substring is 5 characters long.\n"
    }
   ],
   "source": [
    "def repeating(input_string):\n",
    "    L = len(input_string)\n",
    "    reps = []\n",
    "    reps.append(1)\n",
    "    max_length = 0\n",
    "    for i in range(1,L):\n",
    "        if input_string[i] != input_string[i-1]:\n",
    "            reps.append(reps[i-1] + 1)\n",
    "            if reps[i] > max_length:\n",
    "                max_length = reps[i]\n",
    "        else:\n",
    "            reps.append(1)\n",
    "    return print('The longest non-continuous substring is',max_length,'characters long.')\n",
    "\n",
    "repeating(input('Please enter a string of characters: '))\n"
   ]
  },
  {
   "cell_type": "markdown",
   "metadata": {},
   "source": [
    "## Exercise 7"
   ]
  },
  {
   "cell_type": "code",
   "execution_count": 29,
   "metadata": {},
   "outputs": [
    {
     "output_type": "stream",
     "name": "stdout",
     "text": "[[5, -5, 0], [5, -1, -4], [5, -6, 1], [2, -2, 0], [2, -5, 3], [2, -4, 2], [-2, -5, 7], [-2, -1, 3], [-2, 0, 2], [-5, 3, 2], [-1, 7, -6], [-1, 0, 1], [3, -4, 1]]\n"
    }
   ],
   "source": [
    "def zerosumfinder(input_array):\n",
    "    zerosumsets = []\n",
    "    for i in range(len(input_array) - 2):\n",
    "        for j in range(i+1,len(input_array) - 1):\n",
    "            for k in range(j+1,len(input_array)):\n",
    "                if input_array[i] + input_array[j] + input_array[k] == 0:\n",
    "                    zerosumsets.append([input_array[i],input_array[j],input_array[k]])\n",
    "    return print(zerosumsets)\n",
    "\n",
    "zerosumfinder([5,2,-2,-5,-1,7,3,-4,0,2,-6,1])"
   ]
  }
 ],
 "metadata": {
  "language_info": {
   "codemirror_mode": {
    "name": "ipython",
    "version": 3
   },
   "file_extension": ".py",
   "mimetype": "text/x-python",
   "name": "python",
   "nbconvert_exporter": "python",
   "pygments_lexer": "ipython3",
   "version": "3.7.6-final"
  },
  "orig_nbformat": 2,
  "kernelspec": {
   "name": "python3",
   "display_name": "Python 3"
  }
 },
 "nbformat": 4,
 "nbformat_minor": 2
}