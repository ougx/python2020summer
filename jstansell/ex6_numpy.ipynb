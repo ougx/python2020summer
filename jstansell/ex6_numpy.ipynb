{
 "cells": [
  {
   "cell_type": "markdown",
   "metadata": {},
   "source": [
    "# Exercise Set 6\n",
    "This exercise set corresponds to the numpy exercises provided by 06 numpy.ipynb on GitHub."
   ]
  },
  {
   "cell_type": "markdown",
   "metadata": {},
   "source": [
    "## Exercise 1"
   ]
  },
  {
   "cell_type": "code",
   "execution_count": 1,
   "metadata": {
    "tags": []
   },
   "outputs": [
    {
     "output_type": "stream",
     "name": "stdout",
     "text": "The mean error is 1.11\nThe coefficient of determination is 0.984\nThe Nash coefficient is 0.979\n"
    }
   ],
   "source": [
    "import matplotlib.pyplot as plt\n",
    "import numpy as np\n",
    "\n",
    "simulated = [55,31,22,86,63,61,62,81,73]\n",
    "observed = [51,29,23,89,58,58,59,84,73]\n",
    "sim = np.array(simulated)\n",
    "obs = np.array(observed)\n",
    "\n",
    "### Calculating the mean error.\n",
    "error = sim - obs\n",
    "mean_error = np.mean(error)\n",
    "print(f'The mean error is {mean_error:.2f}')\n",
    "\n",
    "### Calculating the coefficient of determination\n",
    "sim_mean = np.mean(sim)\n",
    "obs_mean = np.mean(obs)\n",
    "sim_diffs = sim - sim_mean\n",
    "obs_diffs = obs - obs_mean\n",
    "sim_diffs_squared = np.square(sim_diffs)\n",
    "obs_diffs_squared = np.square(obs_diffs)\n",
    "sim_stddev = np.sqrt((1/len(sim))*np.sum(sim_diffs_squared))\n",
    "obs_stddev = np.sqrt((1/len(obs))*np.sum(obs_diffs_squared))\n",
    "diffs = sim_diffs*obs_diffs\n",
    "coeff_det = np.square((1/len(sim))*np.sum(diffs)/(sim_stddev*obs_stddev))\n",
    "print(f'The coefficient of determination is {coeff_det:.3f}')\n",
    "\n",
    "### Calculating the Nash Coefficient\n",
    "NSE = 1 - ((np.sum(np.square(error)))/(np.sum(np.square(obs_diffs))))\n",
    "print(f'The Nash coefficient is {NSE:.3f}')"
   ]
  },
  {
   "cell_type": "markdown",
   "metadata": {},
   "source": [
    "## Exercise 2"
   ]
  },
  {
   "cell_type": "code",
   "execution_count": 16,
   "metadata": {},
   "outputs": [
    {
     "output_type": "execute_result",
     "data": {
      "text/plain": "(0.9443823677300406, -2.317777712045178, 58.585032683391546)"
     },
     "metadata": {},
     "execution_count": 16
    }
   ],
   "source": [
    "import matplotlib.pyplot as plt\n",
    "import numpy as np\n",
    "\n",
    "def linear_regression(x,y):\n",
    "    x = np.array(x)\n",
    "    y = np.array(y)\n",
    "    x_mean = np.mean(x)\n",
    "    y_mean = np.mean(y)\n",
    "    x_diff = x - x_mean\n",
    "    y_diff = y - y_mean\n",
    "    SSx = np.sum(np.square(x_diff))\n",
    "    SSy = np.sum(np.square(y_diff))\n",
    "    SSxy = np.sum(x_diff*y_diff)\n",
    "    c = y_mean - ((SSx/SSxy)*x_mean)\n",
    "    a = SSxy/SSx\n",
    "    ssqe = SSy - a*SSxy\n",
    "    return a,c,ssqe\n",
    "\n",
    "simulated = [55,31,22,86,63,61,62,81,73]\n",
    "observed = [51,29,23,89,58,58,59,84,73]\n",
    "linear_regression(observed,simulated)"
   ]
  },
  {
   "cell_type": "markdown",
   "metadata": {},
   "source": [
    "## Exercise 3"
   ]
  },
  {
   "cell_type": "code",
   "execution_count": 20,
   "metadata": {},
   "outputs": [
    {
     "output_type": "stream",
     "name": "stdout",
     "text": "landuse\n [[3 2 1 3 3]\n [4 4 3 2 2]\n [1 4 4 4 4]\n [4 4 2 3 3]\n [2 4 3 4 3]]\nprecip \n [[0.90174689 0.96481514 0.67059595 0.97434665 0.64928633]\n [0.07149246 0.79133547 0.57059913 0.03729607 0.34166356]\n [0.01447465 0.4700988  0.5567051  0.8899186  0.86577559]\n [0.91658436 0.36589098 0.86417662 0.18152204 0.17726156]\n [0.59433059 0.38811159 0.81589748 0.80212363 0.59427104]]\nThe average precipitation for land use type 1 is 0.34 inches.\nThe average precipitation for land use type 2 is 0.56 inches.\nThe average precipitation for land use type 3 is 0.61 inches.\nThe average precipitation for land use type 4 is 0.61 inches.\n"
    }
   ],
   "source": [
    "import matplotlib.pyplot as plt\n",
    "import numpy as np\n",
    "\n",
    "landuse = np.random.randint(1, 5, [5, 5])\n",
    "precip  = np.random.random([5, 5])\n",
    "\n",
    "print('landuse\\n', landuse)\n",
    "print('precip \\n', precip)\n",
    "\n",
    "landuse_types = np.unique(landuse)\n",
    "avg_precip_usetype = np.zeros([len(landuse_types)])\n",
    "for i in range(len(landuse_types)):\n",
    "    precip_usetype = precip[landuse == landuse_types[i]]\n",
    "    avg_precip_usetype[i] = np.mean(precip_usetype)\n",
    "    print(f'The average precipitation for land use type {landuse_types[i]} is {avg_precip_usetype[i]:.2f} inches.')\n",
    "\n"
   ]
  },
  {
   "cell_type": "markdown",
   "metadata": {},
   "source": [
    "## Exercise 4"
   ]
  },
  {
   "cell_type": "code",
   "execution_count": 21,
   "metadata": {},
   "outputs": [
    {
     "output_type": "stream",
     "name": "stdout",
     "text": "landuse\n [[1 1 1 1 0 1]\n [0 0 0 0 0 1]\n [0 1 1 1 1 1]\n [0 0 1 1 0 0]\n [0 1 0 1 0 0]\n [0 1 0 1 0 1]]\nprecip \n [[0.96932066 0.25875787 0.80011724 0.53490778 0.7983298  0.55775873]\n [0.09231181 0.49349008 0.29328782 0.45140232 0.60825706 0.76006699]\n [0.10947631 0.91750643 0.79679411 0.09166039 0.06736005 0.74605915]\n [0.50682529 0.1682477  0.50776528 0.80147912 0.68113728 0.57919153]\n [0.47328601 0.22138341 0.27222982 0.55014675 0.29971439 0.43586762]\n [0.98823655 0.75520248 0.43923412 0.22592703 0.67370577 0.94751432]]\n[[1 1 1 1 2 1]\n [2 2 2 2 2 1]\n [2 1 1 1 1 1]\n [2 2 1 1 2 2]\n [2 1 2 1 2 2]\n [2 1 2 1 2 1]]\nThe average precipitation in the buffered region around the irrigated areas is 0.46\n"
    }
   ],
   "source": [
    "import matplotlib.pyplot as plt\n",
    "import numpy as np\n",
    "\n",
    "landuse = np.random.randint(0,2,[6,6])\n",
    "#landuse = np.random.randint(0, 1, [6, 6])\n",
    "precip  = np.random.random([6, 6])\n",
    "\n",
    "print('landuse\\n', landuse)\n",
    "print('precip \\n', precip)\n",
    "\n",
    "def bufferzones(landuse,buffer):\n",
    "    irr_indices = np.where(landuse == 1)\n",
    "    for i in range(len(irr_indices[0])):\n",
    "        row = irr_indices[0][i]\n",
    "        col = irr_indices[1][i]\n",
    "        lower_rowbound = row - buffer\n",
    "        upper_rowbound = row + buffer\n",
    "        lower_colbound = col - buffer\n",
    "        upper_colbound = col + buffer\n",
    "        if lower_rowbound < 0:\n",
    "            lower_rowbound = 0\n",
    "        if upper_rowbound > len(landuse) + 1:\n",
    "            upper_rowbound = len(landuse) + 1\n",
    "        if lower_colbound < 0:\n",
    "            lower_colbound = 0\n",
    "        if upper_colbound > landuse.shape[1]:\n",
    "            upper_colbound = landuse.shape[1] + 1\n",
    "        extraction = landuse[lower_rowbound:upper_rowbound+1][lower_colbound:upper_colbound+1]\n",
    "        extraction[extraction != 1] = 2\n",
    "        landuse[lower_rowbound:upper_rowbound+1][lower_colbound:upper_colbound+1] = extraction\n",
    "    landuse_buffered = landuse\n",
    "    return landuse_buffered\n",
    "\n",
    "landuse_buffered = bufferzones(landuse,1)\n",
    "print(landuse_buffered)\n",
    "mean_precip1 = np.mean(precip[landuse_buffered == 2])\n",
    "print(f'The average precipitation in the buffered region around the irrigated areas is {mean_precip1:.2f}.')"
   ]
  },
  {
   "cell_type": "markdown",
   "metadata": {},
   "source": [
    "## Exercise 5"
   ]
  },
  {
   "cell_type": "code",
   "execution_count": 32,
   "metadata": {},
   "outputs": [
    {
     "output_type": "stream",
     "name": "stdout",
     "text": "[[0.         2.82842712 5.65685425 6.         3.16227766 5.83095189\n  3.16227766]\n [2.82842712 0.         8.48528137 8.24621125 5.83095189 8.60232527\n  5.83095189]\n [5.65685425 8.48528137 0.         4.47213595 3.16227766 1.41421356\n  3.16227766]\n [6.         8.24621125 4.47213595 0.         3.16227766 3.16227766\n  5.83095189]\n [3.16227766 5.83095189 3.16227766 3.16227766 0.         2.82842712\n  2.82842712]\n [5.83095189 8.60232527 1.41421356 3.16227766 2.82842712 0.\n  4.        ]\n [3.16227766 5.83095189 3.16227766 5.83095189 2.82842712 4.\n  0.        ]]\n"
    }
   ],
   "source": [
    "def distmatrix(points):\n",
    "    points = np.array(points)\n",
    "    x1 = points[:,0]\n",
    "    x2 = np.reshape(points[:,0],(len(points[:,0]),1))\n",
    "    diff_x = x2 - x1\n",
    "    y1 = points[:,1]\n",
    "    y2 = np.reshape(points[:,1],(len(points[:,1]),1))\n",
    "    diff_y = y2 - y1\n",
    "    dist = np.sqrt(np.square(diff_x) + np.square(diff_y))\n",
    "    return print(dist)\n",
    "\n",
    "points = [(3, 4), (1, 2), (7, 8), (9, 4), (6, 5), (8, 7), (4, 7)]\n",
    "distmatrix(points)"
   ]
  }
 ],
 "metadata": {
  "language_info": {
   "codemirror_mode": {
    "name": "ipython",
    "version": 3
   },
   "file_extension": ".py",
   "mimetype": "text/x-python",
   "name": "python",
   "nbconvert_exporter": "python",
   "pygments_lexer": "ipython3",
   "version": "3.7.6-final"
  },
  "orig_nbformat": 2,
  "kernelspec": {
   "name": "python3",
   "display_name": "Python 3"
  }
 },
 "nbformat": 4,
 "nbformat_minor": 2
}