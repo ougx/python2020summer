{
 "cells": [
  {
   "cell_type": "markdown",
   "metadata": {},
   "source": [
    "# Exercise Set 4\n",
    "This exercise set corresponds to the set presented on GitHub as specified in Lecture 5."
   ]
  },
  {
   "cell_type": "markdown",
   "metadata": {},
   "source": [
    "## Exercise 1"
   ]
  },
  {
   "cell_type": "code",
   "execution_count": 16,
   "metadata": {},
   "outputs": [
    {
     "output_type": "stream",
     "name": "stdout",
     "text": "file_002 :    123.46, 1.00e+04, 1.23e+04\nfile_002 :    123.46, 1.00e+04, 1.23e+04\n"
    }
   ],
   "source": [
    "elements = (2,123.4567,10000,12345.67)\n",
    "output_string = 'file_00{:1d} :    {:.2f}, {:.2e}, {:.2e}'.format(elements[0],elements[1],elements[2],elements[3])\n",
    "print(output_string)\n",
    "\n",
    "print(f'file_00{elements[0]:1d} :    {elements[1]:.2f}, {elements[2]:.2e}, {elements[3]:.2e}')"
   ]
  },
  {
   "cell_type": "markdown",
   "metadata": {},
   "source": [
    "## Exercise 2"
   ]
  },
  {
   "cell_type": "code",
   "execution_count": 20,
   "metadata": {},
   "outputs": [
    {
     "output_type": "stream",
     "name": "stdout",
     "text": "The 3 numbers are: 1, 3, 8\n"
    }
   ],
   "source": [
    "def iterablestring(input_iterable):\n",
    "    length = len(input_iterable)\n",
    "    str1 = f'The {length:d} numbers are: '\n",
    "    for i in range(length):\n",
    "        if i < length - 1:\n",
    "            str1 = str1 + f'{input_iterable[i]:d}, '\n",
    "        else:\n",
    "            str1 = str1 + f'{input_iterable[i]:d}'\n",
    "    return print(str1)\n",
    "\n",
    "iterablestring([1,3,8])"
   ]
  },
  {
   "cell_type": "markdown",
   "metadata": {},
   "source": [
    "## Exercise 3"
   ]
  },
  {
   "cell_type": "code",
   "execution_count": 28,
   "metadata": {},
   "outputs": [
    {
     "output_type": "stream",
     "name": "stdout",
     "text": "The 4 numbers are: 1, 2, 5, 6\n"
    }
   ],
   "source": [
    "def variterstring(*nums):\n",
    "    length = len(nums)\n",
    "    str1 = f'The {length:d} numbers are: '\n",
    "    for i in range(length):\n",
    "        str1 = str1 + f'{nums[i]:d}'\n",
    "        if i < length - 1:\n",
    "            str1 = str1 + ', '\n",
    "    return print(str1)\n",
    "\n",
    "variterstring(1,2,5,6)"
   ]
  },
  {
   "cell_type": "markdown",
   "metadata": {},
   "source": [
    "## Exercise 4"
   ]
  },
  {
   "cell_type": "code",
   "execution_count": 31,
   "metadata": {},
   "outputs": [
    {
     "output_type": "stream",
     "name": "stdout",
     "text": "02 27 2017 04 30\n"
    }
   ],
   "source": [
    "date_parameters = (4,30,2017,2,27)\n",
    "print(f'0{date_parameters[3]:d} {date_parameters[4]:d} {date_parameters[2]:d} 0{date_parameters[0]:d} {date_parameters[1]:d}')"
   ]
  },
  {
   "cell_type": "markdown",
   "metadata": {},
   "source": [
    "## Exercise 5"
   ]
  },
  {
   "cell_type": "code",
   "execution_count": 51,
   "metadata": {},
   "outputs": [
    {
     "output_type": "stream",
     "name": "stdout",
     "text": "The weight of an orange is 1.3 and the weight of a lemon is 1.1 and the total weight is 2.4\n"
    }
   ],
   "source": [
    "input_list = ['oranges',1.3,'lemons',1.1]\n",
    "input_weights = {input_list[i]:input_list[i+1] for i in range(0,len(input_list),2)}\n",
    "total_weight = input_weights['oranges'] + input_weights['lemons']\n",
    "print(f'The weight of an orange is {input_weights[\"oranges\"]:.1f} and the weight of a lemon is {input_weights[\"lemons\"]:.1f} and the total weight is {total_weight:.1f}')"
   ]
  },
  {
   "cell_type": "markdown",
   "metadata": {},
   "source": [
    "## Exercise 6"
   ]
  },
  {
   "cell_type": "code",
   "execution_count": 108,
   "metadata": {},
   "outputs": [
    {
     "output_type": "stream",
     "name": "stdout",
     "text": "8   2   4   1   3   3\n"
    }
   ],
   "source": [
    "def separator(input_iterable,width):   \n",
    "    #str1 = ' ' * width\n",
    "    for i in range(len(input_iterable)):\n",
    "        if i == 0:\n",
    "            str1 = ' '*width + f'{input_iterable[i]:d}'\n",
    "        else:\n",
    "            str1 = str1 + f'{input_iterable[i]:{width+1}d}'\n",
    "    return print(str1)\n",
    "\n",
    "separator([8,2,4,1,3,3],3)"
   ]
  },
  {
   "cell_type": "markdown",
   "metadata": {},
   "source": [
    "## Exercise 7"
   ]
  },
  {
   "cell_type": "code",
   "execution_count": 227,
   "metadata": {
    "tags": [
     "outputPrepend"
    ]
   },
   "outputs": [
    {
     "output_type": "stream",
     "name": "stdout",
     "text": "The annual mean runoff for site number 06803495 was 163168.81 acre-feet.\nThe annual mean runoff for site number 06803486 was 45205.67 acre-feet.\n"
    }
   ],
   "source": [
    "from urllib.request import urlopen\n",
    "import math\n",
    "import string\n",
    "import statistics\n",
    "\n",
    "gages = ['06803495','06803486']\n",
    "start_date = '2000-10-1'\n",
    "end_date = '2019-9-30'\n",
    "starts = start_date.split('-')\n",
    "ends = end_date.split('-')\n",
    "start = int(starts[0])\n",
    "end = int(ends[0])\n",
    "years = range(start,end+1,1)\n",
    "\n",
    "url = 'https://waterdata.usgs.gov/nwis/dv?&cb_00060=on&format=rdb&'\n",
    "\n",
    "for i in range(len(gages)):\n",
    "    str1 = 'site_no={}&'.format(gages[i])\n",
    "    url = url + str1\n",
    "\n",
    "period = 'period=&begin_date={}&end_date={}'.format(start_date,end_date)\n",
    "url = url + period\n",
    "\n",
    "#datafile = urlopen(url)\n",
    "with urlopen(url) as datafile:\n",
    "    lines = datafile.readlines()\n",
    "\n",
    "#print(lines[0:20])\n",
    "\n",
    "pound_index = []\n",
    "for i in range(len(lines)):\n",
    "    lines[i] = lines[i].decode('utf-8')\n",
    "    if lines[i].startswith('#'):\n",
    "        pound_index.append(i)\n",
    "\n",
    "for i in range(len(pound_index)):\n",
    "    del lines[pound_index[i]]\n",
    "\n",
    "for i in range(len(lines)):\n",
    "    lines[i] = lines[i].replace('-','\\t')\n",
    "    lines[i] = lines[i].split('\\t')\n",
    "\n",
    "with open('runoff_data.csv','w') as csv_file:\n",
    "    header = 'Organization,Site_No,Year,Month,Day,Runoff,Authorization\\n'\n",
    "    csv_file.write(header)\n",
    "    for i in range(len(lines)):\n",
    "        line_out = []\n",
    "        for j in range(len(lines[i])):\n",
    "            line_out.append(lines[i][j])\n",
    "        if len(lines[i]) < 6:\n",
    "            for m in range(len(lines[i]),6):\n",
    "                line_out.append('NA')\n",
    "                lines[i].append('NA')\n",
    "            line_out.append('NA\\n')\n",
    "            lines[i].append('NA\\n')\n",
    "        string_line = '{},{},{},{},{},{},{}'.format(line_out[0],line_out[1],line_out[2],line_out[3],line_out[4],line_out[5],line_out[6])\n",
    "        csv_file.write(string_line)\n",
    "\n",
    "for i in range(len(gages)):\n",
    "    gage = gages[i]\n",
    "    csv_name = 'site{}_runoffdata.csv'.format(gage)\n",
    "    with open(csv_name,'w') as csv_file:\n",
    "        header = 'Month,Max_Runoff,Min_Runoff,Avg_Runoff\\n'\n",
    "        csv_file.write(header)\n",
    "        monthly_vals = []\n",
    "        for k in range(1,13,1):\n",
    "            values = []\n",
    "            for j in range(len(lines)):\n",
    "                if lines[j][1] == gage and int(lines[j][3]) == k:\n",
    "                    values.append(float(lines[j][5]))\n",
    "            monthly_vals.append(values)\n",
    "        for k in range(12):\n",
    "            month = k+1\n",
    "            maximum = max(monthly_vals[k])\n",
    "            minimum = min(monthly_vals[k])\n",
    "            average = statistics.mean(monthly_vals[k])\n",
    "            csv_file.write('{},{:.2f},{:.2f},{:.2f}\\n'.format(month,maximum,minimum,average))\n",
    "    annual_vals = []\n",
    "    for k in range(len(years)):\n",
    "        values = []\n",
    "        for j in range(len(lines)):\n",
    "            if lines[j][1] == gage and lines[j][2] == str(years[k]):\n",
    "                values.append(float(lines[j][5])*3600*24)\n",
    "        annual_vals.append(values)\n",
    "        annual_vals[k] = annual_vals[k]\n",
    "    total_runoff = []\n",
    "    for k in range(len(years)):\n",
    "        if len(annual_vals[k]) > 0:\n",
    "            year = years[k]\n",
    "            total_runoff.append(sum(annual_vals[k]))\n",
    "    avg_annual_runoff = (statistics.mean(total_runoff)/43560)\n",
    "    # Converting cubic feet per second averaged per day as given in the metadata for the file to acre-feet per\n",
    "    print(f'The annual mean runoff for site number {gage} was {avg_annual_runoff:.2f} acre-feet.' )\n",
    "    \n"
   ]
  }
 ],
 "metadata": {
  "language_info": {
   "codemirror_mode": {
    "name": "ipython",
    "version": 3
   },
   "file_extension": ".py",
   "mimetype": "text/x-python",
   "name": "python",
   "nbconvert_exporter": "python",
   "pygments_lexer": "ipython3",
   "version": "3.7.6-final"
  },
  "orig_nbformat": 2,
  "kernelspec": {
   "name": "python3",
   "display_name": "Python 3"
  }
 },
 "nbformat": 4,
 "nbformat_minor": 2
}