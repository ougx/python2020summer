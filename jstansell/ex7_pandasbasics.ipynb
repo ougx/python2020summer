{
 "cells": [
  {
   "cell_type": "markdown",
   "metadata": {},
   "source": [
    "# Exercise Set 7\n",
    "\n",
    "This exercise set covers Pandas basics."
   ]
  },
  {
   "cell_type": "markdown",
   "metadata": {},
   "source": [
    "## Exercise 1"
   ]
  },
  {
   "cell_type": "code",
   "execution_count": 105,
   "metadata": {
    "tags": []
   },
   "outputs": [
    {
     "output_type": "stream",
     "name": "stdout",
     "text": "Site_No    DateTime  Flow\n2   06803486  2000-10-01  3.30\n3   06803486  2000-10-02  3.80\n4   06803486  2000-10-03  4.10\n5   06803486  2000-10-04  3.50\n6   06803486  2000-10-05  6.30\n7   06803486  2000-10-06  6.10\n8   06803486  2000-10-07  7.00\n9   06803486  2000-10-08  8.00\n10  06803486  2000-10-09  9.00\n11  06803486  2000-10-10  10.0\n             Site_No  Flow\nDateTime                  \n2000-10-01  06803486  3.30\n2000-10-02  06803486  3.80\n2000-10-03  06803486  4.10\n2000-10-04  06803486  3.50\n2000-10-05  06803486  6.30\n2000-10-06  06803486  6.10\n2000-10-07  06803486  7.00\n2000-10-08  06803486  8.00\n2000-10-09  06803486  9.00\n2000-10-10  06803486  10.0\n                       Flow\nSite_No  DateTime          \n06803486 2000-12-31   12.06\n         2001-12-31   47.57\n         2002-12-31   18.64\n         2003-12-31   15.00\n         2004-12-31   12.25\n         2005-12-31   15.78\n         2006-12-31   17.37\n         2007-12-31   86.75\n         2008-12-31  132.08\n         2009-12-31   42.96\n         2010-12-31   99.17\n         2011-12-31   61.77\n         2012-12-31   23.19\n         2013-12-31   22.15\n         2014-12-31   97.27\n         2015-12-31   95.13\n         2016-12-31  109.95\n         2017-12-31   98.87\n         2018-12-31   73.72\n         2019-12-31  234.97\n06803495 2005-12-31   66.25\n         2006-12-31   61.21\n         2007-12-31  234.62\n         2008-12-31  347.85\n         2009-12-31  103.39\n         2010-12-31  295.62\n         2011-12-31  197.62\n         2012-12-31   91.89\n         2013-12-31  108.68\n         2014-12-31  203.67\n         2015-12-31  458.33\n         2016-12-31  279.10\n         2017-12-31  245.76\n         2018-12-31  242.00\n         2019-12-31  599.20\n                  Mean      Max    Min\nSite_No  Month                        \n06803486 1       34.36    210.0   3.65\n         2       40.39    370.0   5.23\n         3       78.02   4680.0   8.68\n         4       49.15    638.0   9.42\n         5      155.81   3740.0   7.58\n         6      157.11   2530.0   6.93\n         7       61.04   1620.0   3.86\n         8       57.08   2250.0   5.01\n         9       44.29   1150.0   3.50\n         10      42.05   1570.0   3.30\n         11      27.89    106.0   6.42\n         12      39.53   1090.0   5.86\n06803495 1       98.19    636.0  31.30\n         2      111.73    673.0  30.00\n         3      223.71  12600.0  32.00\n         4      168.59   2640.0  34.50\n         5      610.54  27800.0  36.10\n         6      584.89  10200.0  30.80\n         7      207.50   3140.0  23.60\n         8      147.01   2550.0  23.80\n         9      174.88   7190.0  21.40\n         10     180.18  10500.0  22.70\n         11      82.52    398.0  27.60\n         12     138.25   3230.0  26.50\n"
    }
   ],
   "source": [
    "from urllib.request import urlopen\n",
    "import pandas as pd\n",
    "import math\n",
    "import string\n",
    "import statistics\n",
    "\n",
    "gages = ['06803495','06803486']\n",
    "start_date = '2000-10-1'\n",
    "end_date = '2019-9-30'\n",
    "starts = start_date.split('-')\n",
    "ends = end_date.split('-')\n",
    "start = int(starts[0])\n",
    "end = int(ends[0])\n",
    "years = range(start,end+1,1)\n",
    "\n",
    "url = 'https://waterdata.usgs.gov/nwis/dv?&cb_00060=on&format=rdb&'\n",
    "\n",
    "for i in range(len(gages)):\n",
    "    str1 = 'site_no={}&'.format(gages[i])\n",
    "    url = url + str1\n",
    "\n",
    "period = 'period=&begin_date={}&end_date={}'.format(start_date,end_date)\n",
    "url = url + period\n",
    "\n",
    "data = pd.read_csv(url,sep = '\\t',names = ['Agency','Site_No','DateTime','Flow','Value'],comment = '#')\n",
    "data = data.drop(data[data['DateTime'] == '20d'].index)\n",
    "data = data.drop(data[data['DateTime'] == 'datetime'].index)\n",
    "data.to_csv('Site_Runoff_Data.csv',sep = ',')\n",
    "data = data.drop('Agency',axis = 1)\n",
    "data = data.drop('Value', axis = 1)\n",
    "# data = data.drop('Site_No',axis = 1)\n",
    "print(data[0:10])\n",
    "\n",
    "data['DateTime'] = pd.to_datetime(data['DateTime'])\n",
    "time_index_data = data.set_index('DateTime')\n",
    "print(time_index_data[0:10])\n",
    "\n",
    "time_index_data['Flow'] = time_index_data['Flow'].apply(pd.to_numeric,errors = 'coerce')\n",
    "# time_index_data['Site_No'] = time_index_data['Site_No'].apply(pd.to_numeric,errors = 'coerce')\n",
    "annual_means_bysite = time_index_data.groupby('Site_No').resample('A').mean()\n",
    "print(annual_means_bysite.round(2))\n",
    "\n",
    "monthly_mean_bysite = time_index_data.groupby(by = ['Site_No',time_index_data.index.month]).mean()\n",
    "monthly_mean_bysite.rename(columns={'Flow':'Mean'},inplace=True)\n",
    "monthly_max_bysite = time_index_data.groupby(by = ['Site_No',time_index_data.index.month]).max()\n",
    "monthly_max_bysite.rename(columns={'Flow':'Max'},inplace=True)\n",
    "monthly_min_bysite = time_index_data.groupby(by = ['Site_No',time_index_data.index.month]).min()\n",
    "monthly_min_bysite.rename(columns={'Flow':'Min'},inplace=True)\n",
    "monthly_stats_bysite = pd.concat([monthly_mean_bysite,monthly_max_bysite,monthly_min_bysite],axis = 1)\n",
    "monthly_stats_bysite.index.names = ['Site_No','Month']\n",
    "monthly_stats_bysite = monthly_stats_bysite.round(2)\n",
    "monthly_stats_bysite.to_csv('Monthly_Runoff_Data.csv',sep = ',')\n",
    "print(monthly_stats_bysite)"
   ]
  },
  {
   "cell_type": "markdown",
   "metadata": {},
   "source": [
    "## Exercise 2"
   ]
  },
  {
   "cell_type": "code",
   "execution_count": 190,
   "metadata": {
    "tags": []
   },
   "outputs": [
    {
     "output_type": "stream",
     "name": "stdout",
     "text": "There are 214 people in STEM professions and 729 people in non-STEM professions.\nThe ratio of male to female programmers over 35 is less than that for the under 35 age group, at 7.0 and 10.25, respectively.\noccupation     gender\nadministrator  F          36\n               M          43\nartist         F          13\n               M          15\ndoctor         M           7\neducator       F          26\n               M          69\nengineer       F           2\n               M          65\nentertainment  F           2\n               M          16\nexecutive      F           3\n               M          29\nhealthcare     F          11\n               M           5\nhomemaker      F           6\n               M           1\nlawyer         F           2\n               M          10\nlibrarian      F          29\n               M          22\nmarketing      F          10\n               M          16\nnone           F           4\n               M           5\nother          F          36\n               M          69\nprogrammer     F           6\n               M          60\nretired        F           1\n               M          13\nsalesman       F           3\n               M           9\nscientist      F           3\n               M          28\nstudent        F          60\n               M         136\ntechnician     F           1\n               M          26\nwriter         F          19\n               M          26\nName: age, dtype: int64\noccupation\nadministrator    38.746835\nartist           31.392857\ndoctor           43.571429\neducator         42.010526\nengineer         36.388060\nentertainment    29.222222\nexecutive        38.718750\nhealthcare       41.562500\nhomemaker        32.571429\nlawyer           36.750000\nlibrarian        40.000000\nmarketing        37.615385\nnone             26.555556\nother            34.523810\nprogrammer       33.121212\nretired          63.071429\nsalesman         35.666667\nscientist        35.548387\nstudent          22.081633\ntechnician       33.148148\nwriter           36.311111\nName: age, dtype: float64\nThe occupation with the oldest mean age is retired and the occupation with the youngest mean age is student.\nThe region with the largest number of users has zipcodes beginning with the first two digits 55.\n"
    }
   ],
   "source": [
    "import pandas as pd\n",
    "import numpy as np\n",
    "\n",
    "user_list = pd.read_csv('C:/Users/jstansell2/Box/M.S/Coursework/Summer 2020/NRES 898/python2020summer/jstansell/users.zip', sep = '|', compression = 'zip')\n",
    "user_list.set_index('user_id',inplace = True)\n",
    "\n",
    "occupation_counts = user_list.groupby('occupation')['occupation'].count()\n",
    "stem_occupations = ['doctor','engineer','healthcare','programmer','scientist','technician']\n",
    "idx = occupation_counts.index\n",
    "stem_inds = idx.isin(stem_occupations)\n",
    "stem_total = occupation_counts.where(stem_inds).sum()\n",
    "nonstem_inds = ~idx.isin(stem_occupations)\n",
    "nonstem_total = occupation_counts.where(nonstem_inds).sum()\n",
    "print(f'There are {stem_total:.0f} people in STEM professions and {nonstem_total:.0f} people in non-STEM professions.' )\n",
    "\n",
    "programmers_under35 = user_list[(user_list['occupation'] == 'programmer') & (user_list['age'] <= 35)]\n",
    "male_prog_under35 = programmers_under35[programmers_under35['gender'] == 'M']\n",
    "under35_males = len(male_prog_under35)\n",
    "female_prog_under35 = programmers_under35[programmers_under35['gender'] == 'F']\n",
    "under35_females = len(female_prog_under35)\n",
    "ratio_MF_under35 = under35_males/under35_females\n",
    "programmers_over35 = user_list[(user_list['occupation'] == 'programmer') & (user_list['age'] >= 35)]\n",
    "male_prog_over35 = programmers_over35[programmers_over35['gender'] == 'M']\n",
    "over35_males = len(male_prog_over35)\n",
    "female_prog_over35 = programmers_over35[programmers_over35['gender'] == 'F']\n",
    "over35_females = len(female_prog_over35)\n",
    "ratio_MF_over35 = over35_males/over35_females\n",
    "\n",
    "if ratio_MF_over35 > ratio_MF_under35:\n",
    "    print(f'The ratio of male to female programmers over 35 is greater than that for the under 35 age group, at {ratio_MF_over35} and {ratio_MF_under35}, respectively.')\n",
    "elif ratio_MF_over35 < ratio_MF_under35:\n",
    "    print(f'The ratio of male to female programmers over 35 is less than that for the under 35 age group, at {ratio_MF_over35} and {ratio_MF_under35}, respectively.')\n",
    "else:\n",
    "    print(f'The ratio of male to female programmers is equal for both the over 35 and under 35 age groups at {ratio_MF_over35}.')\n",
    "\n",
    "occupation_MF_counts = user_list.groupby(['occupation','gender']).count()['age']\n",
    "occupation_MF_counts.rename('Male Female Counts')\n",
    "print(occupation_MF_counts)\n",
    "\n",
    "occupation_ages = user_list.groupby('occupation').mean()['age']\n",
    "print(occupation_ages)\n",
    "occupation_max_age = occupation_ages.idxmax()\n",
    "occupation_min_age = occupation_ages.idxmin()\n",
    "print(f'The occupation with the oldest mean age is {occupation_max_age} and the occupation with the youngest mean age is {occupation_min_age}.')\n",
    "\n",
    "user_list['zip_initial'] = user_list['zip_code'].str[:2]\n",
    "zipcode_counts = user_list.groupby('zip_initial').count()['zip_code']\n",
    "zipcode_counts.rename('Area Counts')\n",
    "max_user_region = zipcode_counts.idxmax()\n",
    "print(f'The region with the largest number of users has zipcodes beginning with the first two digits {max_user_region}.')"
   ]
  }
 ],
 "metadata": {
  "language_info": {
   "codemirror_mode": {
    "name": "ipython",
    "version": 3
   },
   "file_extension": ".py",
   "mimetype": "text/x-python",
   "name": "python",
   "nbconvert_exporter": "python",
   "pygments_lexer": "ipython3",
   "version": "3.7.6-final"
  },
  "orig_nbformat": 2,
  "kernelspec": {
   "name": "python3",
   "display_name": "Python 3"
  }
 },
 "nbformat": 4,
 "nbformat_minor": 2
}