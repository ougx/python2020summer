{
 "cells": [
  {
   "cell_type": "markdown",
   "metadata": {},
   "source": [
    "# Exercise Set 2\n",
    "This exercise set corresponds to the exercises provided in lecture 3."
   ]
  },
  {
   "cell_type": "markdown",
   "metadata": {},
   "source": [
    "## Exercise 1"
   ]
  },
  {
   "cell_type": "code",
   "execution_count": 7,
   "metadata": {},
   "outputs": [
    {
     "output_type": "execute_result",
     "data": {
      "text/plain": "(6, 'Bottle')"
     },
     "metadata": {},
     "execution_count": 7
    }
   ],
   "source": [
    "def maxfinder(input_list):\n",
    "    lengths = []\n",
    "    for i in input_list:\n",
    "        lengths.append(len(i))\n",
    "            \n",
    "    maximum_length = max(lengths)\n",
    "    word_index = lengths.index(max(lengths))\n",
    "\n",
    "    return maximum_length, input_list[word_index]\n",
    "\n",
    "maxfinder(['Table','Bottle','Rain'])"
   ]
  },
  {
   "cell_type": "markdown",
   "metadata": {},
   "source": [
    "## Exercise 2"
   ]
  },
  {
   "cell_type": "code",
   "execution_count": 10,
   "metadata": {},
   "outputs": [
    {
     "output_type": "stream",
     "name": "stdout",
     "text": "There are 8 unique characters in the input string.\n"
    }
   ],
   "source": [
    "def countuniques(input_string):\n",
    "    uniques = len(set(input_string))\n",
    "    return print('There are',uniques,'unique characters in the input string.')\n",
    "\n",
    "countuniques('Massachusetts')"
   ]
  },
  {
   "cell_type": "markdown",
   "metadata": {},
   "source": [
    "## Exercise 3"
   ]
  },
  {
   "cell_type": "code",
   "execution_count": 21,
   "metadata": {},
   "outputs": [
    {
     "output_type": "stream",
     "name": "stdout",
     "text": "{'Windspeed': 11, 'Rainfall': 15.5, 'Temperature': 73}\n"
    }
   ],
   "source": [
    "def valuesorter(input_dict):\n",
    "    sorted_list = sorted(input_dict.items(),key = lambda x: x[1])\n",
    "    sorted_dict = dict(sorted_list)\n",
    "    return print(sorted_dict)\n",
    "    \n",
    "weather_data = {'Rainfall': 4.1,'Temperature': 73,'Windspeed': 11}\n",
    "valuesorter(weather_data)"
   ]
  },
  {
   "cell_type": "markdown",
   "metadata": {},
   "source": [
    "## Exercise 4"
   ]
  },
  {
   "cell_type": "code",
   "execution_count": 27,
   "metadata": {},
   "outputs": [
    {
     "output_type": "execute_result",
     "data": {
      "text/plain": "'!o HuskersG'"
     },
     "metadata": {},
     "execution_count": 27
    }
   ],
   "source": [
    "def rearrange(input_string):\n",
    "    charlist = list(input_string)\n",
    "    first = list(charlist[0])\n",
    "    last = list(charlist[-1])\n",
    "    newlist = last + charlist[1:-1] + first\n",
    "    output_string = ''\n",
    "    return output_string.join(newlist)\n",
    "\n",
    "rearrange('Go Huskers!')\n"
   ]
  },
  {
   "cell_type": "markdown",
   "metadata": {},
   "source": [
    "## Exercise 5"
   ]
  },
  {
   "cell_type": "code",
   "execution_count": 29,
   "metadata": {},
   "outputs": [
    {
     "output_type": "execute_result",
     "data": {
      "text/plain": "False"
     },
     "metadata": {},
     "execution_count": 29
    }
   ],
   "source": [
    "def commonmember(list1,list2):\n",
    "    commons = []\n",
    "    for item in list1:\n",
    "        if item in list2:\n",
    "            list3 = commons.append(item)\n",
    "    if len(commons) == 0:\n",
    "        return False\n",
    "    else:\n",
    "        return True\n",
    "\n",
    "commonmember([1,3,2,9,7],[7,0,6,5,10])"
   ]
  },
  {
   "cell_type": "markdown",
   "metadata": {},
   "source": [
    "## Exercise 6"
   ]
  },
  {
   "cell_type": "code",
   "execution_count": 40,
   "metadata": {},
   "outputs": [
    {
     "output_type": "execute_result",
     "data": {
      "text/plain": "4"
     },
     "metadata": {},
     "execution_count": 40
    }
   ],
   "source": [
    "import math\n",
    "\n",
    "def coins(amount):\n",
    "    values = [1.0,0.25,0.10,0.01]\n",
    "    new_amount = amount\n",
    "    coin_count = 0\n",
    "    for value in values:\n",
    "        if value <= new_amount:\n",
    "            number = math.floor(new_amount/value)\n",
    "            new_amount = round(new_amount % value,2)\n",
    "            coin_count = coin_count + number\n",
    "    return coin_count\n",
    "\n",
    "coins(0.61)"
   ]
  }
 ],
 "metadata": {
  "language_info": {
   "codemirror_mode": {
    "name": "ipython",
    "version": 3
   },
   "file_extension": ".py",
   "mimetype": "text/x-python",
   "name": "python",
   "nbconvert_exporter": "python",
   "pygments_lexer": "ipython3",
   "version": "3.7.6-final"
  },
  "orig_nbformat": 2,
  "kernelspec": {
   "name": "python3",
   "display_name": "Python 3"
  }
 },
 "nbformat": 4,
 "nbformat_minor": 2
}