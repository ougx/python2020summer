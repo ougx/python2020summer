{
 "cells": [
  {
   "cell_type": "code",
   "execution_count": 1,
   "metadata": {
    "colab": {},
    "colab_type": "code",
    "id": "5u-GzKmNhzJt"
   },
   "outputs": [],
   "source": [
    "import pandas as pd\n",
    "import matplotlib.pyplot as plt\n",
    "import numpy as np"
   ]
  },
  {
   "cell_type": "markdown",
   "metadata": {
    "colab_type": "text",
    "id": "yfDA9HJtGw-4"
   },
   "source": [
    "# Hierarchical indexing (MultiIndex)"
   ]
  },
  {
   "cell_type": "code",
   "execution_count": 2,
   "metadata": {
    "colab": {
     "base_uri": "https://localhost:8080/",
     "height": 328
    },
    "colab_type": "code",
    "executionInfo": {
     "elapsed": 278,
     "status": "ok",
     "timestamp": 1583872355582,
     "user": {
      "displayName": "Michael Ou",
      "photoUrl": "https://lh3.googleusercontent.com/a-/AOh14GgO-l_Fq06ZN3gFRQv8LHB7ZNu6bvTk2yjjMwA9hw=s64",
      "userId": "02505320695703925391"
     },
     "user_tz": 300
    },
    "id": "TdYF0V_hewvF",
    "outputId": "fc4b8aa5-18a9-40b0-e42b-642cfe74ea45"
   },
   "outputs": [
    {
     "data": {
      "text/html": [
       "<div>\n",
       "<style scoped>\n",
       "    .dataframe tbody tr th:only-of-type {\n",
       "        vertical-align: middle;\n",
       "    }\n",
       "\n",
       "    .dataframe tbody tr th {\n",
       "        vertical-align: top;\n",
       "    }\n",
       "\n",
       "    .dataframe thead th {\n",
       "        text-align: right;\n",
       "    }\n",
       "</style>\n",
       "<table border=\"1\" class=\"dataframe\">\n",
       "  <thead>\n",
       "    <tr style=\"text-align: right;\">\n",
       "      <th></th>\n",
       "      <th>col1</th>\n",
       "      <th>col2</th>\n",
       "      <th>col3</th>\n",
       "    </tr>\n",
       "  </thead>\n",
       "  <tbody>\n",
       "    <tr>\n",
       "      <th>0</th>\n",
       "      <td>a</td>\n",
       "      <td>d</td>\n",
       "      <td>1</td>\n",
       "    </tr>\n",
       "    <tr>\n",
       "      <th>1</th>\n",
       "      <td>a</td>\n",
       "      <td>e</td>\n",
       "      <td>2</td>\n",
       "    </tr>\n",
       "    <tr>\n",
       "      <th>2</th>\n",
       "      <td>a</td>\n",
       "      <td>f</td>\n",
       "      <td>3</td>\n",
       "    </tr>\n",
       "    <tr>\n",
       "      <th>3</th>\n",
       "      <td>b</td>\n",
       "      <td>d</td>\n",
       "      <td>4</td>\n",
       "    </tr>\n",
       "    <tr>\n",
       "      <th>4</th>\n",
       "      <td>b</td>\n",
       "      <td>e</td>\n",
       "      <td>5</td>\n",
       "    </tr>\n",
       "    <tr>\n",
       "      <th>5</th>\n",
       "      <td>b</td>\n",
       "      <td>f</td>\n",
       "      <td>6</td>\n",
       "    </tr>\n",
       "    <tr>\n",
       "      <th>6</th>\n",
       "      <td>c</td>\n",
       "      <td>d</td>\n",
       "      <td>7</td>\n",
       "    </tr>\n",
       "    <tr>\n",
       "      <th>7</th>\n",
       "      <td>c</td>\n",
       "      <td>e</td>\n",
       "      <td>8</td>\n",
       "    </tr>\n",
       "    <tr>\n",
       "      <th>8</th>\n",
       "      <td>c</td>\n",
       "      <td>f</td>\n",
       "      <td>9</td>\n",
       "    </tr>\n",
       "  </tbody>\n",
       "</table>\n",
       "</div>"
      ],
      "text/plain": [
       "  col1 col2  col3\n",
       "0    a    d     1\n",
       "1    a    e     2\n",
       "2    a    f     3\n",
       "3    b    d     4\n",
       "4    b    e     5\n",
       "5    b    f     6\n",
       "6    c    d     7\n",
       "7    c    e     8\n",
       "8    c    f     9"
      ]
     },
     "execution_count": 2,
     "metadata": {},
     "output_type": "execute_result"
    }
   ],
   "source": [
    "A = pd.DataFrame({'col1': ['a', 'a', 'a', 'b', 'b', 'b', 'c', 'c', 'c'],\n",
    "                  'col2': ['d', 'e', 'f', 'd', 'e', 'f', 'd', 'e', 'f'],\n",
    "                  'col3': [1, 2, 3, 4, 5, 6, 7, 8, 9]})\n",
    "A"
   ]
  },
  {
   "cell_type": "code",
   "execution_count": 3,
   "metadata": {
    "colab": {
     "base_uri": "https://localhost:8080/",
     "height": 355
    },
    "colab_type": "code",
    "executionInfo": {
     "elapsed": 346,
     "status": "ok",
     "timestamp": 1583694743263,
     "user": {
      "displayName": "Michael Ou",
      "photoUrl": "https://lh3.googleusercontent.com/a-/AOh14GgO-l_Fq06ZN3gFRQv8LHB7ZNu6bvTk2yjjMwA9hw=s64",
      "userId": "02505320695703925391"
     },
     "user_tz": 300
    },
    "id": "k72acytPfIVs",
    "outputId": "e48efcee-733b-4b90-97fe-9df23e3cbe19"
   },
   "outputs": [
    {
     "data": {
      "text/html": [
       "<div>\n",
       "<style scoped>\n",
       "    .dataframe tbody tr th:only-of-type {\n",
       "        vertical-align: middle;\n",
       "    }\n",
       "\n",
       "    .dataframe tbody tr th {\n",
       "        vertical-align: top;\n",
       "    }\n",
       "\n",
       "    .dataframe thead th {\n",
       "        text-align: right;\n",
       "    }\n",
       "</style>\n",
       "<table border=\"1\" class=\"dataframe\">\n",
       "  <thead>\n",
       "    <tr style=\"text-align: right;\">\n",
       "      <th></th>\n",
       "      <th></th>\n",
       "      <th>col3</th>\n",
       "    </tr>\n",
       "    <tr>\n",
       "      <th>col1</th>\n",
       "      <th>col2</th>\n",
       "      <th></th>\n",
       "    </tr>\n",
       "  </thead>\n",
       "  <tbody>\n",
       "    <tr>\n",
       "      <th rowspan=\"3\" valign=\"top\">a</th>\n",
       "      <th>d</th>\n",
       "      <td>1</td>\n",
       "    </tr>\n",
       "    <tr>\n",
       "      <th>e</th>\n",
       "      <td>2</td>\n",
       "    </tr>\n",
       "    <tr>\n",
       "      <th>f</th>\n",
       "      <td>3</td>\n",
       "    </tr>\n",
       "    <tr>\n",
       "      <th rowspan=\"3\" valign=\"top\">b</th>\n",
       "      <th>d</th>\n",
       "      <td>4</td>\n",
       "    </tr>\n",
       "    <tr>\n",
       "      <th>e</th>\n",
       "      <td>5</td>\n",
       "    </tr>\n",
       "    <tr>\n",
       "      <th>f</th>\n",
       "      <td>6</td>\n",
       "    </tr>\n",
       "    <tr>\n",
       "      <th rowspan=\"3\" valign=\"top\">c</th>\n",
       "      <th>d</th>\n",
       "      <td>7</td>\n",
       "    </tr>\n",
       "    <tr>\n",
       "      <th>e</th>\n",
       "      <td>8</td>\n",
       "    </tr>\n",
       "    <tr>\n",
       "      <th>f</th>\n",
       "      <td>9</td>\n",
       "    </tr>\n",
       "  </tbody>\n",
       "</table>\n",
       "</div>"
      ],
      "text/plain": [
       "           col3\n",
       "col1 col2      \n",
       "a    d        1\n",
       "     e        2\n",
       "     f        3\n",
       "b    d        4\n",
       "     e        5\n",
       "     f        6\n",
       "c    d        7\n",
       "     e        8\n",
       "     f        9"
      ]
     },
     "execution_count": 3,
     "metadata": {},
     "output_type": "execute_result"
    }
   ],
   "source": [
    "B = A.set_index(['col1', 'col2'])\n",
    "B"
   ]
  },
  {
   "cell_type": "code",
   "execution_count": 4,
   "metadata": {
    "colab": {
     "base_uri": "https://localhost:8080/",
     "height": 171
    },
    "colab_type": "code",
    "executionInfo": {
     "elapsed": 342,
     "status": "ok",
     "timestamp": 1583694772406,
     "user": {
      "displayName": "Michael Ou",
      "photoUrl": "https://lh3.googleusercontent.com/a-/AOh14GgO-l_Fq06ZN3gFRQv8LHB7ZNu6bvTk2yjjMwA9hw=s64",
      "userId": "02505320695703925391"
     },
     "user_tz": 300
    },
    "id": "gJGfJjXPfYmG",
    "outputId": "b1d7ea64-e206-4f35-a31f-3d6297ced61d"
   },
   "outputs": [
    {
     "data": {
      "text/html": [
       "<div>\n",
       "<style scoped>\n",
       "    .dataframe tbody tr th:only-of-type {\n",
       "        vertical-align: middle;\n",
       "    }\n",
       "\n",
       "    .dataframe tbody tr th {\n",
       "        vertical-align: top;\n",
       "    }\n",
       "\n",
       "    .dataframe thead th {\n",
       "        text-align: right;\n",
       "    }\n",
       "</style>\n",
       "<table border=\"1\" class=\"dataframe\">\n",
       "  <thead>\n",
       "    <tr style=\"text-align: right;\">\n",
       "      <th></th>\n",
       "      <th>col3</th>\n",
       "    </tr>\n",
       "    <tr>\n",
       "      <th>col2</th>\n",
       "      <th></th>\n",
       "    </tr>\n",
       "  </thead>\n",
       "  <tbody>\n",
       "    <tr>\n",
       "      <th>d</th>\n",
       "      <td>1</td>\n",
       "    </tr>\n",
       "    <tr>\n",
       "      <th>e</th>\n",
       "      <td>2</td>\n",
       "    </tr>\n",
       "    <tr>\n",
       "      <th>f</th>\n",
       "      <td>3</td>\n",
       "    </tr>\n",
       "  </tbody>\n",
       "</table>\n",
       "</div>"
      ],
      "text/plain": [
       "      col3\n",
       "col2      \n",
       "d        1\n",
       "e        2\n",
       "f        3"
      ]
     },
     "execution_count": 4,
     "metadata": {},
     "output_type": "execute_result"
    }
   ],
   "source": [
    "# indexing is similar to regular index\n",
    "B.loc['a']"
   ]
  },
  {
   "cell_type": "code",
   "execution_count": 5,
   "metadata": {
    "colab": {
     "base_uri": "https://localhost:8080/",
     "height": 52
    },
    "colab_type": "code",
    "executionInfo": {
     "elapsed": 474,
     "status": "ok",
     "timestamp": 1583694803748,
     "user": {
      "displayName": "Michael Ou",
      "photoUrl": "https://lh3.googleusercontent.com/a-/AOh14GgO-l_Fq06ZN3gFRQv8LHB7ZNu6bvTk2yjjMwA9hw=s64",
      "userId": "02505320695703925391"
     },
     "user_tz": 300
    },
    "id": "fec5SvzKf8qY",
    "outputId": "3c3655d9-cd47-44fd-fb6c-0ed5a3aafc48"
   },
   "outputs": [
    {
     "data": {
      "text/plain": [
       "col3    5\n",
       "Name: (b, e), dtype: int64"
      ]
     },
     "execution_count": 5,
     "metadata": {},
     "output_type": "execute_result"
    }
   ],
   "source": [
    "# tuple to index an item\n",
    "B.loc[('b', 'e')]"
   ]
  },
  {
   "cell_type": "code",
   "execution_count": 6,
   "metadata": {
    "colab": {
     "base_uri": "https://localhost:8080/",
     "height": 263
    },
    "colab_type": "code",
    "executionInfo": {
     "elapsed": 346,
     "status": "ok",
     "timestamp": 1583696521379,
     "user": {
      "displayName": "Michael Ou",
      "photoUrl": "https://lh3.googleusercontent.com/a-/AOh14GgO-l_Fq06ZN3gFRQv8LHB7ZNu6bvTk2yjjMwA9hw=s64",
      "userId": "02505320695703925391"
     },
     "user_tz": 300
    },
    "id": "dH0HD6VCqf3w",
    "outputId": "feac1169-0d7c-48e8-fefa-ebc9947ede7d"
   },
   "outputs": [
    {
     "data": {
      "text/html": [
       "<div>\n",
       "<style scoped>\n",
       "    .dataframe tbody tr th:only-of-type {\n",
       "        vertical-align: middle;\n",
       "    }\n",
       "\n",
       "    .dataframe tbody tr th {\n",
       "        vertical-align: top;\n",
       "    }\n",
       "\n",
       "    .dataframe thead th {\n",
       "        text-align: right;\n",
       "    }\n",
       "</style>\n",
       "<table border=\"1\" class=\"dataframe\">\n",
       "  <thead>\n",
       "    <tr style=\"text-align: right;\">\n",
       "      <th></th>\n",
       "      <th></th>\n",
       "      <th>col3</th>\n",
       "    </tr>\n",
       "    <tr>\n",
       "      <th>col1</th>\n",
       "      <th>col2</th>\n",
       "      <th></th>\n",
       "    </tr>\n",
       "  </thead>\n",
       "  <tbody>\n",
       "    <tr>\n",
       "      <th rowspan=\"3\" valign=\"top\">b</th>\n",
       "      <th>d</th>\n",
       "      <td>4</td>\n",
       "    </tr>\n",
       "    <tr>\n",
       "      <th>e</th>\n",
       "      <td>5</td>\n",
       "    </tr>\n",
       "    <tr>\n",
       "      <th>f</th>\n",
       "      <td>6</td>\n",
       "    </tr>\n",
       "    <tr>\n",
       "      <th rowspan=\"3\" valign=\"top\">c</th>\n",
       "      <th>d</th>\n",
       "      <td>7</td>\n",
       "    </tr>\n",
       "    <tr>\n",
       "      <th>e</th>\n",
       "      <td>8</td>\n",
       "    </tr>\n",
       "    <tr>\n",
       "      <th>f</th>\n",
       "      <td>9</td>\n",
       "    </tr>\n",
       "  </tbody>\n",
       "</table>\n",
       "</div>"
      ],
      "text/plain": [
       "           col3\n",
       "col1 col2      \n",
       "b    d        4\n",
       "     e        5\n",
       "     f        6\n",
       "c    d        7\n",
       "     e        8\n",
       "     f        9"
      ]
     },
     "execution_count": 6,
     "metadata": {},
     "output_type": "execute_result"
    }
   ],
   "source": [
    "# slicing\n",
    "B.loc['b':'c']"
   ]
  },
  {
   "cell_type": "code",
   "execution_count": 7,
   "metadata": {
    "colab": {
     "base_uri": "https://localhost:8080/",
     "height": 171
    },
    "colab_type": "code",
    "executionInfo": {
     "elapsed": 330,
     "status": "ok",
     "timestamp": 1583696916876,
     "user": {
      "displayName": "Michael Ou",
      "photoUrl": "https://lh3.googleusercontent.com/a-/AOh14GgO-l_Fq06ZN3gFRQv8LHB7ZNu6bvTk2yjjMwA9hw=s64",
      "userId": "02505320695703925391"
     },
     "user_tz": 300
    },
    "id": "88GIlmzCrK-7",
    "outputId": "7233af38-ce83-4ac3-aca4-2c7045e2e113"
   },
   "outputs": [
    {
     "data": {
      "text/html": [
       "<div>\n",
       "<style scoped>\n",
       "    .dataframe tbody tr th:only-of-type {\n",
       "        vertical-align: middle;\n",
       "    }\n",
       "\n",
       "    .dataframe tbody tr th {\n",
       "        vertical-align: top;\n",
       "    }\n",
       "\n",
       "    .dataframe thead th {\n",
       "        text-align: right;\n",
       "    }\n",
       "</style>\n",
       "<table border=\"1\" class=\"dataframe\">\n",
       "  <thead>\n",
       "    <tr style=\"text-align: right;\">\n",
       "      <th></th>\n",
       "      <th></th>\n",
       "      <th>col3</th>\n",
       "    </tr>\n",
       "    <tr>\n",
       "      <th>col1</th>\n",
       "      <th>col2</th>\n",
       "      <th></th>\n",
       "    </tr>\n",
       "  </thead>\n",
       "  <tbody>\n",
       "    <tr>\n",
       "      <th>a</th>\n",
       "      <th>f</th>\n",
       "      <td>3</td>\n",
       "    </tr>\n",
       "    <tr>\n",
       "      <th>b</th>\n",
       "      <th>f</th>\n",
       "      <td>6</td>\n",
       "    </tr>\n",
       "    <tr>\n",
       "      <th>c</th>\n",
       "      <th>f</th>\n",
       "      <td>9</td>\n",
       "    </tr>\n",
       "  </tbody>\n",
       "</table>\n",
       "</div>"
      ],
      "text/plain": [
       "           col3\n",
       "col1 col2      \n",
       "a    f        3\n",
       "b    f        6\n",
       "c    f        9"
      ]
     },
     "execution_count": 7,
     "metadata": {},
     "output_type": "execute_result"
    }
   ],
   "source": [
    "# to check out all 'f'\n",
    "B.loc[B.index.get_level_values('col2') == 'f']"
   ]
  },
  {
   "cell_type": "code",
   "execution_count": 8,
   "metadata": {
    "colab": {
     "base_uri": "https://localhost:8080/",
     "height": 171
    },
    "colab_type": "code",
    "executionInfo": {
     "elapsed": 381,
     "status": "ok",
     "timestamp": 1583696988830,
     "user": {
      "displayName": "Michael Ou",
      "photoUrl": "https://lh3.googleusercontent.com/a-/AOh14GgO-l_Fq06ZN3gFRQv8LHB7ZNu6bvTk2yjjMwA9hw=s64",
      "userId": "02505320695703925391"
     },
     "user_tz": 300
    },
    "id": "cYF9JRpvsB1V",
    "outputId": "62416948-e272-4b17-b991-63296987c0b6"
   },
   "outputs": [
    {
     "data": {
      "text/html": [
       "<div>\n",
       "<style scoped>\n",
       "    .dataframe tbody tr th:only-of-type {\n",
       "        vertical-align: middle;\n",
       "    }\n",
       "\n",
       "    .dataframe tbody tr th {\n",
       "        vertical-align: top;\n",
       "    }\n",
       "\n",
       "    .dataframe thead th {\n",
       "        text-align: right;\n",
       "    }\n",
       "</style>\n",
       "<table border=\"1\" class=\"dataframe\">\n",
       "  <thead>\n",
       "    <tr style=\"text-align: right;\">\n",
       "      <th></th>\n",
       "      <th></th>\n",
       "      <th>col3</th>\n",
       "    </tr>\n",
       "    <tr>\n",
       "      <th>col1</th>\n",
       "      <th>col2</th>\n",
       "      <th></th>\n",
       "    </tr>\n",
       "  </thead>\n",
       "  <tbody>\n",
       "    <tr>\n",
       "      <th>a</th>\n",
       "      <th>f</th>\n",
       "      <td>3</td>\n",
       "    </tr>\n",
       "    <tr>\n",
       "      <th>b</th>\n",
       "      <th>f</th>\n",
       "      <td>6</td>\n",
       "    </tr>\n",
       "    <tr>\n",
       "      <th>c</th>\n",
       "      <th>f</th>\n",
       "      <td>9</td>\n",
       "    </tr>\n",
       "  </tbody>\n",
       "</table>\n",
       "</div>"
      ],
      "text/plain": [
       "           col3\n",
       "col1 col2      \n",
       "a    f        3\n",
       "b    f        6\n",
       "c    f        9"
      ]
     },
     "execution_count": 8,
     "metadata": {},
     "output_type": "execute_result"
    }
   ],
   "source": [
    "# or your can use index slicer\n",
    "B.loc[pd.IndexSlice[:, 'f'], :]"
   ]
  },
  {
   "cell_type": "code",
   "execution_count": 9,
   "metadata": {
    "colab": {
     "base_uri": "https://localhost:8080/",
     "height": 171
    },
    "colab_type": "code",
    "executionInfo": {
     "elapsed": 344,
     "status": "ok",
     "timestamp": 1583702475382,
     "user": {
      "displayName": "Michael Ou",
      "photoUrl": "https://lh3.googleusercontent.com/a-/AOh14GgO-l_Fq06ZN3gFRQv8LHB7ZNu6bvTk2yjjMwA9hw=s64",
      "userId": "02505320695703925391"
     },
     "user_tz": 300
    },
    "id": "wdLGUgnzBDsA",
    "outputId": "772494b8-12c9-46e5-b38e-1a2e69514730"
   },
   "outputs": [
    {
     "data": {
      "text/html": [
       "<div>\n",
       "<style scoped>\n",
       "    .dataframe tbody tr th:only-of-type {\n",
       "        vertical-align: middle;\n",
       "    }\n",
       "\n",
       "    .dataframe tbody tr th {\n",
       "        vertical-align: top;\n",
       "    }\n",
       "\n",
       "    .dataframe thead th {\n",
       "        text-align: right;\n",
       "    }\n",
       "</style>\n",
       "<table border=\"1\" class=\"dataframe\">\n",
       "  <thead>\n",
       "    <tr style=\"text-align: right;\">\n",
       "      <th></th>\n",
       "      <th></th>\n",
       "      <th>col3</th>\n",
       "    </tr>\n",
       "    <tr>\n",
       "      <th>col1</th>\n",
       "      <th>col2</th>\n",
       "      <th></th>\n",
       "    </tr>\n",
       "  </thead>\n",
       "  <tbody>\n",
       "    <tr>\n",
       "      <th>a</th>\n",
       "      <th>f</th>\n",
       "      <td>3</td>\n",
       "    </tr>\n",
       "    <tr>\n",
       "      <th>b</th>\n",
       "      <th>f</th>\n",
       "      <td>6</td>\n",
       "    </tr>\n",
       "    <tr>\n",
       "      <th>c</th>\n",
       "      <th>f</th>\n",
       "      <td>9</td>\n",
       "    </tr>\n",
       "  </tbody>\n",
       "</table>\n",
       "</div>"
      ],
      "text/plain": [
       "           col3\n",
       "col1 col2      \n",
       "a    f        3\n",
       "b    f        6\n",
       "c    f        9"
      ]
     },
     "execution_count": 9,
     "metadata": {},
     "output_type": "execute_result"
    }
   ],
   "source": [
    "# or you can use cross-section method xs\n",
    "B.xs('f', level=1, drop_level=False)"
   ]
  },
  {
   "cell_type": "code",
   "execution_count": 10,
   "metadata": {
    "colab": {
     "base_uri": "https://localhost:8080/",
     "height": 325
    },
    "colab_type": "code",
    "executionInfo": {
     "elapsed": 358,
     "status": "ok",
     "timestamp": 1583696161099,
     "user": {
      "displayName": "Michael Ou",
      "photoUrl": "https://lh3.googleusercontent.com/a-/AOh14GgO-l_Fq06ZN3gFRQv8LHB7ZNu6bvTk2yjjMwA9hw=s64",
      "userId": "02505320695703925391"
     },
     "user_tz": 300
    },
    "id": "EViUlWQjo3j4",
    "outputId": "6a35c0f5-0191-43ec-d7ba-7f4c9dde8ced"
   },
   "outputs": [
    {
     "data": {
      "text/html": [
       "<div>\n",
       "<style scoped>\n",
       "    .dataframe tbody tr th:only-of-type {\n",
       "        vertical-align: middle;\n",
       "    }\n",
       "\n",
       "    .dataframe tbody tr th {\n",
       "        vertical-align: top;\n",
       "    }\n",
       "\n",
       "    .dataframe thead th {\n",
       "        text-align: right;\n",
       "    }\n",
       "</style>\n",
       "<table border=\"1\" class=\"dataframe\">\n",
       "  <thead>\n",
       "    <tr style=\"text-align: right;\">\n",
       "      <th></th>\n",
       "      <th>col1</th>\n",
       "      <th>col2</th>\n",
       "      <th>col3</th>\n",
       "    </tr>\n",
       "  </thead>\n",
       "  <tbody>\n",
       "    <tr>\n",
       "      <th>0</th>\n",
       "      <td>a</td>\n",
       "      <td>d</td>\n",
       "      <td>1</td>\n",
       "    </tr>\n",
       "    <tr>\n",
       "      <th>1</th>\n",
       "      <td>a</td>\n",
       "      <td>e</td>\n",
       "      <td>2</td>\n",
       "    </tr>\n",
       "    <tr>\n",
       "      <th>2</th>\n",
       "      <td>a</td>\n",
       "      <td>f</td>\n",
       "      <td>3</td>\n",
       "    </tr>\n",
       "    <tr>\n",
       "      <th>3</th>\n",
       "      <td>b</td>\n",
       "      <td>d</td>\n",
       "      <td>4</td>\n",
       "    </tr>\n",
       "    <tr>\n",
       "      <th>4</th>\n",
       "      <td>b</td>\n",
       "      <td>e</td>\n",
       "      <td>5</td>\n",
       "    </tr>\n",
       "    <tr>\n",
       "      <th>5</th>\n",
       "      <td>b</td>\n",
       "      <td>f</td>\n",
       "      <td>6</td>\n",
       "    </tr>\n",
       "    <tr>\n",
       "      <th>6</th>\n",
       "      <td>c</td>\n",
       "      <td>d</td>\n",
       "      <td>7</td>\n",
       "    </tr>\n",
       "    <tr>\n",
       "      <th>7</th>\n",
       "      <td>c</td>\n",
       "      <td>e</td>\n",
       "      <td>8</td>\n",
       "    </tr>\n",
       "    <tr>\n",
       "      <th>8</th>\n",
       "      <td>c</td>\n",
       "      <td>f</td>\n",
       "      <td>9</td>\n",
       "    </tr>\n",
       "  </tbody>\n",
       "</table>\n",
       "</div>"
      ],
      "text/plain": [
       "  col1 col2  col3\n",
       "0    a    d     1\n",
       "1    a    e     2\n",
       "2    a    f     3\n",
       "3    b    d     4\n",
       "4    b    e     5\n",
       "5    b    f     6\n",
       "6    c    d     7\n",
       "7    c    e     8\n",
       "8    c    f     9"
      ]
     },
     "execution_count": 10,
     "metadata": {},
     "output_type": "execute_result"
    }
   ],
   "source": [
    "# to restore index\n",
    "B.reset_index()"
   ]
  },
  {
   "cell_type": "markdown",
   "metadata": {
    "colab_type": "text",
    "id": "ud24veoXXx7t"
   },
   "source": [
    "# Reshaping and pivot tables"
   ]
  },
  {
   "cell_type": "code",
   "execution_count": 11,
   "metadata": {
    "colab": {},
    "colab_type": "code",
    "id": "sd-fK41JsNhq"
   },
   "outputs": [
    {
     "data": {
      "text/html": [
       "<div>\n",
       "<style scoped>\n",
       "    .dataframe tbody tr th:only-of-type {\n",
       "        vertical-align: middle;\n",
       "    }\n",
       "\n",
       "    .dataframe tbody tr th {\n",
       "        vertical-align: top;\n",
       "    }\n",
       "\n",
       "    .dataframe thead th {\n",
       "        text-align: right;\n",
       "    }\n",
       "</style>\n",
       "<table border=\"1\" class=\"dataframe\">\n",
       "  <thead>\n",
       "    <tr style=\"text-align: right;\">\n",
       "      <th></th>\n",
       "      <th>col1</th>\n",
       "      <th>col2</th>\n",
       "      <th>col3</th>\n",
       "    </tr>\n",
       "  </thead>\n",
       "  <tbody>\n",
       "    <tr>\n",
       "      <th>0</th>\n",
       "      <td>a</td>\n",
       "      <td>d</td>\n",
       "      <td>1</td>\n",
       "    </tr>\n",
       "    <tr>\n",
       "      <th>1</th>\n",
       "      <td>a</td>\n",
       "      <td>e</td>\n",
       "      <td>2</td>\n",
       "    </tr>\n",
       "    <tr>\n",
       "      <th>2</th>\n",
       "      <td>a</td>\n",
       "      <td>f</td>\n",
       "      <td>3</td>\n",
       "    </tr>\n",
       "    <tr>\n",
       "      <th>3</th>\n",
       "      <td>b</td>\n",
       "      <td>d</td>\n",
       "      <td>4</td>\n",
       "    </tr>\n",
       "    <tr>\n",
       "      <th>4</th>\n",
       "      <td>b</td>\n",
       "      <td>e</td>\n",
       "      <td>5</td>\n",
       "    </tr>\n",
       "    <tr>\n",
       "      <th>5</th>\n",
       "      <td>b</td>\n",
       "      <td>f</td>\n",
       "      <td>6</td>\n",
       "    </tr>\n",
       "    <tr>\n",
       "      <th>6</th>\n",
       "      <td>c</td>\n",
       "      <td>d</td>\n",
       "      <td>7</td>\n",
       "    </tr>\n",
       "    <tr>\n",
       "      <th>7</th>\n",
       "      <td>c</td>\n",
       "      <td>e</td>\n",
       "      <td>8</td>\n",
       "    </tr>\n",
       "    <tr>\n",
       "      <th>8</th>\n",
       "      <td>c</td>\n",
       "      <td>f</td>\n",
       "      <td>9</td>\n",
       "    </tr>\n",
       "  </tbody>\n",
       "</table>\n",
       "</div>"
      ],
      "text/plain": [
       "  col1 col2  col3\n",
       "0    a    d     1\n",
       "1    a    e     2\n",
       "2    a    f     3\n",
       "3    b    d     4\n",
       "4    b    e     5\n",
       "5    b    f     6\n",
       "6    c    d     7\n",
       "7    c    e     8\n",
       "8    c    f     9"
      ]
     },
     "execution_count": 11,
     "metadata": {},
     "output_type": "execute_result"
    }
   ],
   "source": [
    "A"
   ]
  },
  {
   "cell_type": "code",
   "execution_count": 12,
   "metadata": {},
   "outputs": [
    {
     "data": {
      "text/html": [
       "<div>\n",
       "<style scoped>\n",
       "    .dataframe tbody tr th:only-of-type {\n",
       "        vertical-align: middle;\n",
       "    }\n",
       "\n",
       "    .dataframe tbody tr th {\n",
       "        vertical-align: top;\n",
       "    }\n",
       "\n",
       "    .dataframe thead tr th {\n",
       "        text-align: left;\n",
       "    }\n",
       "\n",
       "    .dataframe thead tr:last-of-type th {\n",
       "        text-align: right;\n",
       "    }\n",
       "</style>\n",
       "<table border=\"1\" class=\"dataframe\">\n",
       "  <thead>\n",
       "    <tr>\n",
       "      <th></th>\n",
       "      <th colspan=\"3\" halign=\"left\">col3</th>\n",
       "    </tr>\n",
       "    <tr>\n",
       "      <th>col2</th>\n",
       "      <th>d</th>\n",
       "      <th>e</th>\n",
       "      <th>f</th>\n",
       "    </tr>\n",
       "    <tr>\n",
       "      <th>col1</th>\n",
       "      <th></th>\n",
       "      <th></th>\n",
       "      <th></th>\n",
       "    </tr>\n",
       "  </thead>\n",
       "  <tbody>\n",
       "    <tr>\n",
       "      <th>a</th>\n",
       "      <td>1</td>\n",
       "      <td>2</td>\n",
       "      <td>3</td>\n",
       "    </tr>\n",
       "    <tr>\n",
       "      <th>b</th>\n",
       "      <td>4</td>\n",
       "      <td>5</td>\n",
       "      <td>6</td>\n",
       "    </tr>\n",
       "    <tr>\n",
       "      <th>c</th>\n",
       "      <td>7</td>\n",
       "      <td>8</td>\n",
       "      <td>9</td>\n",
       "    </tr>\n",
       "  </tbody>\n",
       "</table>\n",
       "</div>"
      ],
      "text/plain": [
       "     col3      \n",
       "col2    d  e  f\n",
       "col1           \n",
       "a       1  2  3\n",
       "b       4  5  6\n",
       "c       7  8  9"
      ]
     },
     "execution_count": 12,
     "metadata": {},
     "output_type": "execute_result"
    }
   ],
   "source": [
    "B = A.pivot(index='col1', columns='col2')\n",
    "B"
   ]
  },
  {
   "cell_type": "code",
   "execution_count": 13,
   "metadata": {},
   "outputs": [
    {
     "data": {
      "text/html": [
       "<div>\n",
       "<style scoped>\n",
       "    .dataframe tbody tr th:only-of-type {\n",
       "        vertical-align: middle;\n",
       "    }\n",
       "\n",
       "    .dataframe tbody tr th {\n",
       "        vertical-align: top;\n",
       "    }\n",
       "\n",
       "    .dataframe thead th {\n",
       "        text-align: right;\n",
       "    }\n",
       "</style>\n",
       "<table border=\"1\" class=\"dataframe\">\n",
       "  <thead>\n",
       "    <tr style=\"text-align: right;\">\n",
       "      <th></th>\n",
       "      <th></th>\n",
       "      <th>col3</th>\n",
       "    </tr>\n",
       "    <tr>\n",
       "      <th>col1</th>\n",
       "      <th>col2</th>\n",
       "      <th></th>\n",
       "    </tr>\n",
       "  </thead>\n",
       "  <tbody>\n",
       "    <tr>\n",
       "      <th rowspan=\"3\" valign=\"top\">a</th>\n",
       "      <th>d</th>\n",
       "      <td>1</td>\n",
       "    </tr>\n",
       "    <tr>\n",
       "      <th>e</th>\n",
       "      <td>2</td>\n",
       "    </tr>\n",
       "    <tr>\n",
       "      <th>f</th>\n",
       "      <td>3</td>\n",
       "    </tr>\n",
       "    <tr>\n",
       "      <th rowspan=\"3\" valign=\"top\">b</th>\n",
       "      <th>d</th>\n",
       "      <td>4</td>\n",
       "    </tr>\n",
       "    <tr>\n",
       "      <th>e</th>\n",
       "      <td>5</td>\n",
       "    </tr>\n",
       "    <tr>\n",
       "      <th>f</th>\n",
       "      <td>6</td>\n",
       "    </tr>\n",
       "    <tr>\n",
       "      <th rowspan=\"3\" valign=\"top\">c</th>\n",
       "      <th>d</th>\n",
       "      <td>7</td>\n",
       "    </tr>\n",
       "    <tr>\n",
       "      <th>e</th>\n",
       "      <td>8</td>\n",
       "    </tr>\n",
       "    <tr>\n",
       "      <th>f</th>\n",
       "      <td>9</td>\n",
       "    </tr>\n",
       "  </tbody>\n",
       "</table>\n",
       "</div>"
      ],
      "text/plain": [
       "           col3\n",
       "col1 col2      \n",
       "a    d        1\n",
       "     e        2\n",
       "     f        3\n",
       "b    d        4\n",
       "     e        5\n",
       "     f        6\n",
       "c    d        7\n",
       "     e        8\n",
       "     f        9"
      ]
     },
     "execution_count": 13,
     "metadata": {},
     "output_type": "execute_result"
    }
   ],
   "source": [
    "B.stack()"
   ]
  },
  {
   "cell_type": "code",
   "execution_count": 16,
   "metadata": {},
   "outputs": [
    {
     "data": {
      "text/html": [
       "<div>\n",
       "<style scoped>\n",
       "    .dataframe tbody tr th:only-of-type {\n",
       "        vertical-align: middle;\n",
       "    }\n",
       "\n",
       "    .dataframe tbody tr th {\n",
       "        vertical-align: top;\n",
       "    }\n",
       "\n",
       "    .dataframe thead th {\n",
       "        text-align: right;\n",
       "    }\n",
       "</style>\n",
       "<table border=\"1\" class=\"dataframe\">\n",
       "  <thead>\n",
       "    <tr style=\"text-align: right;\">\n",
       "      <th></th>\n",
       "      <th>user_id</th>\n",
       "      <th>age</th>\n",
       "      <th>gender</th>\n",
       "      <th>occupation</th>\n",
       "      <th>zip_code</th>\n",
       "    </tr>\n",
       "  </thead>\n",
       "  <tbody>\n",
       "    <tr>\n",
       "      <th>0</th>\n",
       "      <td>1</td>\n",
       "      <td>24</td>\n",
       "      <td>M</td>\n",
       "      <td>technician</td>\n",
       "      <td>85711</td>\n",
       "    </tr>\n",
       "    <tr>\n",
       "      <th>1</th>\n",
       "      <td>2</td>\n",
       "      <td>53</td>\n",
       "      <td>F</td>\n",
       "      <td>other</td>\n",
       "      <td>94043</td>\n",
       "    </tr>\n",
       "    <tr>\n",
       "      <th>2</th>\n",
       "      <td>3</td>\n",
       "      <td>23</td>\n",
       "      <td>M</td>\n",
       "      <td>writer</td>\n",
       "      <td>32067</td>\n",
       "    </tr>\n",
       "    <tr>\n",
       "      <th>3</th>\n",
       "      <td>4</td>\n",
       "      <td>24</td>\n",
       "      <td>M</td>\n",
       "      <td>technician</td>\n",
       "      <td>43537</td>\n",
       "    </tr>\n",
       "    <tr>\n",
       "      <th>4</th>\n",
       "      <td>5</td>\n",
       "      <td>33</td>\n",
       "      <td>F</td>\n",
       "      <td>other</td>\n",
       "      <td>15213</td>\n",
       "    </tr>\n",
       "    <tr>\n",
       "      <th>...</th>\n",
       "      <td>...</td>\n",
       "      <td>...</td>\n",
       "      <td>...</td>\n",
       "      <td>...</td>\n",
       "      <td>...</td>\n",
       "    </tr>\n",
       "    <tr>\n",
       "      <th>938</th>\n",
       "      <td>939</td>\n",
       "      <td>26</td>\n",
       "      <td>F</td>\n",
       "      <td>student</td>\n",
       "      <td>33319</td>\n",
       "    </tr>\n",
       "    <tr>\n",
       "      <th>939</th>\n",
       "      <td>940</td>\n",
       "      <td>32</td>\n",
       "      <td>M</td>\n",
       "      <td>administrator</td>\n",
       "      <td>02215</td>\n",
       "    </tr>\n",
       "    <tr>\n",
       "      <th>940</th>\n",
       "      <td>941</td>\n",
       "      <td>20</td>\n",
       "      <td>M</td>\n",
       "      <td>student</td>\n",
       "      <td>97229</td>\n",
       "    </tr>\n",
       "    <tr>\n",
       "      <th>941</th>\n",
       "      <td>942</td>\n",
       "      <td>48</td>\n",
       "      <td>F</td>\n",
       "      <td>librarian</td>\n",
       "      <td>78209</td>\n",
       "    </tr>\n",
       "    <tr>\n",
       "      <th>942</th>\n",
       "      <td>943</td>\n",
       "      <td>22</td>\n",
       "      <td>M</td>\n",
       "      <td>student</td>\n",
       "      <td>77841</td>\n",
       "    </tr>\n",
       "  </tbody>\n",
       "</table>\n",
       "<p>943 rows × 5 columns</p>\n",
       "</div>"
      ],
      "text/plain": [
       "     user_id  age gender     occupation zip_code\n",
       "0          1   24      M     technician    85711\n",
       "1          2   53      F          other    94043\n",
       "2          3   23      M         writer    32067\n",
       "3          4   24      M     technician    43537\n",
       "4          5   33      F          other    15213\n",
       "..       ...  ...    ...            ...      ...\n",
       "938      939   26      F        student    33319\n",
       "939      940   32      M  administrator    02215\n",
       "940      941   20      M        student    97229\n",
       "941      942   48      F      librarian    78209\n",
       "942      943   22      M        student    77841\n",
       "\n",
       "[943 rows x 5 columns]"
      ]
     },
     "execution_count": 16,
     "metadata": {},
     "output_type": "execute_result"
    }
   ],
   "source": [
    "users = pd.read_csv('../data/users.zip', sep='|')\n",
    "users"
   ]
  },
  {
   "cell_type": "code",
   "execution_count": 17,
   "metadata": {},
   "outputs": [
    {
     "data": {
      "text/html": [
       "<div>\n",
       "<style scoped>\n",
       "    .dataframe tbody tr th:only-of-type {\n",
       "        vertical-align: middle;\n",
       "    }\n",
       "\n",
       "    .dataframe tbody tr th {\n",
       "        vertical-align: top;\n",
       "    }\n",
       "\n",
       "    .dataframe thead tr th {\n",
       "        text-align: left;\n",
       "    }\n",
       "\n",
       "    .dataframe thead tr:last-of-type th {\n",
       "        text-align: right;\n",
       "    }\n",
       "</style>\n",
       "<table border=\"1\" class=\"dataframe\">\n",
       "  <thead>\n",
       "    <tr>\n",
       "      <th></th>\n",
       "      <th colspan=\"2\" halign=\"left\">min</th>\n",
       "      <th colspan=\"2\" halign=\"left\">max</th>\n",
       "      <th colspan=\"2\" halign=\"left\">mean</th>\n",
       "      <th colspan=\"2\" halign=\"left\">std</th>\n",
       "    </tr>\n",
       "    <tr>\n",
       "      <th>gender</th>\n",
       "      <th>F</th>\n",
       "      <th>M</th>\n",
       "      <th>F</th>\n",
       "      <th>M</th>\n",
       "      <th>F</th>\n",
       "      <th>M</th>\n",
       "      <th>F</th>\n",
       "      <th>M</th>\n",
       "    </tr>\n",
       "    <tr>\n",
       "      <th>occupation</th>\n",
       "      <th></th>\n",
       "      <th></th>\n",
       "      <th></th>\n",
       "      <th></th>\n",
       "      <th></th>\n",
       "      <th></th>\n",
       "      <th></th>\n",
       "      <th></th>\n",
       "    </tr>\n",
       "  </thead>\n",
       "  <tbody>\n",
       "    <tr>\n",
       "      <th>administrator</th>\n",
       "      <td>22.0</td>\n",
       "      <td>21.0</td>\n",
       "      <td>62.0</td>\n",
       "      <td>70.0</td>\n",
       "      <td>40.638889</td>\n",
       "      <td>37.162791</td>\n",
       "      <td>10.602298</td>\n",
       "      <td>11.422472</td>\n",
       "    </tr>\n",
       "    <tr>\n",
       "      <th>artist</th>\n",
       "      <td>19.0</td>\n",
       "      <td>20.0</td>\n",
       "      <td>48.0</td>\n",
       "      <td>45.0</td>\n",
       "      <td>30.307692</td>\n",
       "      <td>32.333333</td>\n",
       "      <td>9.542751</td>\n",
       "      <td>8.050436</td>\n",
       "    </tr>\n",
       "    <tr>\n",
       "      <th>doctor</th>\n",
       "      <td>NaN</td>\n",
       "      <td>28.0</td>\n",
       "      <td>NaN</td>\n",
       "      <td>64.0</td>\n",
       "      <td>NaN</td>\n",
       "      <td>43.571429</td>\n",
       "      <td>NaN</td>\n",
       "      <td>12.501428</td>\n",
       "    </tr>\n",
       "    <tr>\n",
       "      <th>educator</th>\n",
       "      <td>23.0</td>\n",
       "      <td>25.0</td>\n",
       "      <td>51.0</td>\n",
       "      <td>63.0</td>\n",
       "      <td>39.115385</td>\n",
       "      <td>43.101449</td>\n",
       "      <td>9.003674</td>\n",
       "      <td>10.755498</td>\n",
       "    </tr>\n",
       "    <tr>\n",
       "      <th>engineer</th>\n",
       "      <td>23.0</td>\n",
       "      <td>22.0</td>\n",
       "      <td>36.0</td>\n",
       "      <td>70.0</td>\n",
       "      <td>29.500000</td>\n",
       "      <td>36.600000</td>\n",
       "      <td>9.192388</td>\n",
       "      <td>11.246944</td>\n",
       "    </tr>\n",
       "    <tr>\n",
       "      <th>entertainment</th>\n",
       "      <td>24.0</td>\n",
       "      <td>15.0</td>\n",
       "      <td>38.0</td>\n",
       "      <td>50.0</td>\n",
       "      <td>31.000000</td>\n",
       "      <td>29.000000</td>\n",
       "      <td>9.899495</td>\n",
       "      <td>10.373042</td>\n",
       "    </tr>\n",
       "    <tr>\n",
       "      <th>executive</th>\n",
       "      <td>39.0</td>\n",
       "      <td>22.0</td>\n",
       "      <td>49.0</td>\n",
       "      <td>69.0</td>\n",
       "      <td>44.000000</td>\n",
       "      <td>38.172414</td>\n",
       "      <td>5.000000</td>\n",
       "      <td>10.931831</td>\n",
       "    </tr>\n",
       "    <tr>\n",
       "      <th>healthcare</th>\n",
       "      <td>22.0</td>\n",
       "      <td>28.0</td>\n",
       "      <td>53.0</td>\n",
       "      <td>62.0</td>\n",
       "      <td>39.818182</td>\n",
       "      <td>45.400000</td>\n",
       "      <td>10.870310</td>\n",
       "      <td>12.561847</td>\n",
       "    </tr>\n",
       "    <tr>\n",
       "      <th>homemaker</th>\n",
       "      <td>20.0</td>\n",
       "      <td>23.0</td>\n",
       "      <td>50.0</td>\n",
       "      <td>23.0</td>\n",
       "      <td>34.166667</td>\n",
       "      <td>23.000000</td>\n",
       "      <td>10.815113</td>\n",
       "      <td>NaN</td>\n",
       "    </tr>\n",
       "    <tr>\n",
       "      <th>lawyer</th>\n",
       "      <td>28.0</td>\n",
       "      <td>21.0</td>\n",
       "      <td>51.0</td>\n",
       "      <td>53.0</td>\n",
       "      <td>39.500000</td>\n",
       "      <td>36.200000</td>\n",
       "      <td>16.263456</td>\n",
       "      <td>10.580905</td>\n",
       "    </tr>\n",
       "    <tr>\n",
       "      <th>librarian</th>\n",
       "      <td>26.0</td>\n",
       "      <td>23.0</td>\n",
       "      <td>59.0</td>\n",
       "      <td>69.0</td>\n",
       "      <td>40.000000</td>\n",
       "      <td>40.000000</td>\n",
       "      <td>10.776960</td>\n",
       "      <td>11.596387</td>\n",
       "    </tr>\n",
       "    <tr>\n",
       "      <th>marketing</th>\n",
       "      <td>24.0</td>\n",
       "      <td>24.0</td>\n",
       "      <td>50.0</td>\n",
       "      <td>55.0</td>\n",
       "      <td>37.200000</td>\n",
       "      <td>37.875000</td>\n",
       "      <td>7.728734</td>\n",
       "      <td>10.657548</td>\n",
       "    </tr>\n",
       "    <tr>\n",
       "      <th>none</th>\n",
       "      <td>26.0</td>\n",
       "      <td>11.0</td>\n",
       "      <td>55.0</td>\n",
       "      <td>33.0</td>\n",
       "      <td>36.500000</td>\n",
       "      <td>18.600000</td>\n",
       "      <td>12.871156</td>\n",
       "      <td>8.734987</td>\n",
       "    </tr>\n",
       "    <tr>\n",
       "      <th>other</th>\n",
       "      <td>18.0</td>\n",
       "      <td>13.0</td>\n",
       "      <td>55.0</td>\n",
       "      <td>64.0</td>\n",
       "      <td>35.472222</td>\n",
       "      <td>34.028986</td>\n",
       "      <td>10.313614</td>\n",
       "      <td>10.994612</td>\n",
       "    </tr>\n",
       "    <tr>\n",
       "      <th>programmer</th>\n",
       "      <td>26.0</td>\n",
       "      <td>20.0</td>\n",
       "      <td>38.0</td>\n",
       "      <td>63.0</td>\n",
       "      <td>32.166667</td>\n",
       "      <td>33.216667</td>\n",
       "      <td>5.115336</td>\n",
       "      <td>9.986587</td>\n",
       "    </tr>\n",
       "    <tr>\n",
       "      <th>retired</th>\n",
       "      <td>70.0</td>\n",
       "      <td>51.0</td>\n",
       "      <td>70.0</td>\n",
       "      <td>73.0</td>\n",
       "      <td>70.000000</td>\n",
       "      <td>62.538462</td>\n",
       "      <td>NaN</td>\n",
       "      <td>5.621616</td>\n",
       "    </tr>\n",
       "    <tr>\n",
       "      <th>salesman</th>\n",
       "      <td>18.0</td>\n",
       "      <td>21.0</td>\n",
       "      <td>33.0</td>\n",
       "      <td>66.0</td>\n",
       "      <td>27.000000</td>\n",
       "      <td>38.555556</td>\n",
       "      <td>7.937254</td>\n",
       "      <td>14.808031</td>\n",
       "    </tr>\n",
       "    <tr>\n",
       "      <th>scientist</th>\n",
       "      <td>26.0</td>\n",
       "      <td>23.0</td>\n",
       "      <td>31.0</td>\n",
       "      <td>55.0</td>\n",
       "      <td>28.333333</td>\n",
       "      <td>36.321429</td>\n",
       "      <td>2.516611</td>\n",
       "      <td>7.338652</td>\n",
       "    </tr>\n",
       "    <tr>\n",
       "      <th>student</th>\n",
       "      <td>13.0</td>\n",
       "      <td>7.0</td>\n",
       "      <td>38.0</td>\n",
       "      <td>42.0</td>\n",
       "      <td>20.750000</td>\n",
       "      <td>22.669118</td>\n",
       "      <td>5.017343</td>\n",
       "      <td>5.309747</td>\n",
       "    </tr>\n",
       "    <tr>\n",
       "      <th>technician</th>\n",
       "      <td>38.0</td>\n",
       "      <td>21.0</td>\n",
       "      <td>38.0</td>\n",
       "      <td>55.0</td>\n",
       "      <td>38.000000</td>\n",
       "      <td>32.961538</td>\n",
       "      <td>NaN</td>\n",
       "      <td>10.013913</td>\n",
       "    </tr>\n",
       "    <tr>\n",
       "      <th>writer</th>\n",
       "      <td>18.0</td>\n",
       "      <td>21.0</td>\n",
       "      <td>56.0</td>\n",
       "      <td>60.0</td>\n",
       "      <td>37.631579</td>\n",
       "      <td>35.346154</td>\n",
       "      <td>10.409454</td>\n",
       "      <td>12.221104</td>\n",
       "    </tr>\n",
       "  </tbody>\n",
       "</table>\n",
       "</div>"
      ],
      "text/plain": [
       "                min         max             mean                   std  \\\n",
       "gender            F     M     F     M          F          M          F   \n",
       "occupation                                                               \n",
       "administrator  22.0  21.0  62.0  70.0  40.638889  37.162791  10.602298   \n",
       "artist         19.0  20.0  48.0  45.0  30.307692  32.333333   9.542751   \n",
       "doctor          NaN  28.0   NaN  64.0        NaN  43.571429        NaN   \n",
       "educator       23.0  25.0  51.0  63.0  39.115385  43.101449   9.003674   \n",
       "engineer       23.0  22.0  36.0  70.0  29.500000  36.600000   9.192388   \n",
       "entertainment  24.0  15.0  38.0  50.0  31.000000  29.000000   9.899495   \n",
       "executive      39.0  22.0  49.0  69.0  44.000000  38.172414   5.000000   \n",
       "healthcare     22.0  28.0  53.0  62.0  39.818182  45.400000  10.870310   \n",
       "homemaker      20.0  23.0  50.0  23.0  34.166667  23.000000  10.815113   \n",
       "lawyer         28.0  21.0  51.0  53.0  39.500000  36.200000  16.263456   \n",
       "librarian      26.0  23.0  59.0  69.0  40.000000  40.000000  10.776960   \n",
       "marketing      24.0  24.0  50.0  55.0  37.200000  37.875000   7.728734   \n",
       "none           26.0  11.0  55.0  33.0  36.500000  18.600000  12.871156   \n",
       "other          18.0  13.0  55.0  64.0  35.472222  34.028986  10.313614   \n",
       "programmer     26.0  20.0  38.0  63.0  32.166667  33.216667   5.115336   \n",
       "retired        70.0  51.0  70.0  73.0  70.000000  62.538462        NaN   \n",
       "salesman       18.0  21.0  33.0  66.0  27.000000  38.555556   7.937254   \n",
       "scientist      26.0  23.0  31.0  55.0  28.333333  36.321429   2.516611   \n",
       "student        13.0   7.0  38.0  42.0  20.750000  22.669118   5.017343   \n",
       "technician     38.0  21.0  38.0  55.0  38.000000  32.961538        NaN   \n",
       "writer         18.0  21.0  56.0  60.0  37.631579  35.346154  10.409454   \n",
       "\n",
       "                          \n",
       "gender                 M  \n",
       "occupation                \n",
       "administrator  11.422472  \n",
       "artist          8.050436  \n",
       "doctor         12.501428  \n",
       "educator       10.755498  \n",
       "engineer       11.246944  \n",
       "entertainment  10.373042  \n",
       "executive      10.931831  \n",
       "healthcare     12.561847  \n",
       "homemaker            NaN  \n",
       "lawyer         10.580905  \n",
       "librarian      11.596387  \n",
       "marketing      10.657548  \n",
       "none            8.734987  \n",
       "other          10.994612  \n",
       "programmer      9.986587  \n",
       "retired         5.621616  \n",
       "salesman       14.808031  \n",
       "scientist       7.338652  \n",
       "student         5.309747  \n",
       "technician     10.013913  \n",
       "writer         12.221104  "
      ]
     },
     "execution_count": 17,
     "metadata": {},
     "output_type": "execute_result"
    }
   ],
   "source": [
    "users.pivot_table(values='age', index='occupation', columns='gender', aggfunc=['min', 'max', 'mean', 'std'])"
   ]
  },
  {
   "cell_type": "code",
   "execution_count": 18,
   "metadata": {},
   "outputs": [
    {
     "data": {
      "text/plain": [
       "0      (20, 40]\n",
       "1      (40, 60]\n",
       "2      (20, 40]\n",
       "3      (20, 40]\n",
       "4      (20, 40]\n",
       "         ...   \n",
       "938    (20, 40]\n",
       "939    (20, 40]\n",
       "940     (0, 20]\n",
       "941    (40, 60]\n",
       "942    (20, 40]\n",
       "Name: age, Length: 943, dtype: category\n",
       "Categories (4, interval[int64]): [(0, 20] < (20, 40] < (40, 60] < (60, 100]]"
      ]
     },
     "execution_count": 18,
     "metadata": {},
     "output_type": "execute_result"
    }
   ],
   "source": [
    "# a very useful function to categorize numbers\n",
    "pd.cut(users.age, [0, 20, 40, 60, 100])"
   ]
  },
  {
   "cell_type": "code",
   "execution_count": 19,
   "metadata": {},
   "outputs": [
    {
     "data": {
      "text/html": [
       "<div>\n",
       "<style scoped>\n",
       "    .dataframe tbody tr th:only-of-type {\n",
       "        vertical-align: middle;\n",
       "    }\n",
       "\n",
       "    .dataframe tbody tr th {\n",
       "        vertical-align: top;\n",
       "    }\n",
       "\n",
       "    .dataframe thead tr th {\n",
       "        text-align: left;\n",
       "    }\n",
       "\n",
       "    .dataframe thead tr:last-of-type th {\n",
       "        text-align: right;\n",
       "    }\n",
       "</style>\n",
       "<table border=\"1\" class=\"dataframe\">\n",
       "  <thead>\n",
       "    <tr>\n",
       "      <th></th>\n",
       "      <th colspan=\"4\" halign=\"left\">count</th>\n",
       "    </tr>\n",
       "    <tr>\n",
       "      <th>gender</th>\n",
       "      <th colspan=\"2\" halign=\"left\">F</th>\n",
       "      <th colspan=\"2\" halign=\"left\">M</th>\n",
       "    </tr>\n",
       "    <tr>\n",
       "      <th>age_group</th>\n",
       "      <th>(0, 30]</th>\n",
       "      <th>(30, 100]</th>\n",
       "      <th>(0, 30]</th>\n",
       "      <th>(30, 100]</th>\n",
       "    </tr>\n",
       "    <tr>\n",
       "      <th>occupation</th>\n",
       "      <th></th>\n",
       "      <th></th>\n",
       "      <th></th>\n",
       "      <th></th>\n",
       "    </tr>\n",
       "  </thead>\n",
       "  <tbody>\n",
       "    <tr>\n",
       "      <th>administrator</th>\n",
       "      <td>8.0</td>\n",
       "      <td>28.0</td>\n",
       "      <td>16.0</td>\n",
       "      <td>27.0</td>\n",
       "    </tr>\n",
       "    <tr>\n",
       "      <th>artist</th>\n",
       "      <td>9.0</td>\n",
       "      <td>4.0</td>\n",
       "      <td>7.0</td>\n",
       "      <td>8.0</td>\n",
       "    </tr>\n",
       "    <tr>\n",
       "      <th>doctor</th>\n",
       "      <td>NaN</td>\n",
       "      <td>NaN</td>\n",
       "      <td>2.0</td>\n",
       "      <td>5.0</td>\n",
       "    </tr>\n",
       "    <tr>\n",
       "      <th>educator</th>\n",
       "      <td>5.0</td>\n",
       "      <td>21.0</td>\n",
       "      <td>8.0</td>\n",
       "      <td>61.0</td>\n",
       "    </tr>\n",
       "    <tr>\n",
       "      <th>engineer</th>\n",
       "      <td>1.0</td>\n",
       "      <td>1.0</td>\n",
       "      <td>24.0</td>\n",
       "      <td>41.0</td>\n",
       "    </tr>\n",
       "    <tr>\n",
       "      <th>entertainment</th>\n",
       "      <td>1.0</td>\n",
       "      <td>1.0</td>\n",
       "      <td>9.0</td>\n",
       "      <td>7.0</td>\n",
       "    </tr>\n",
       "    <tr>\n",
       "      <th>executive</th>\n",
       "      <td>NaN</td>\n",
       "      <td>3.0</td>\n",
       "      <td>7.0</td>\n",
       "      <td>22.0</td>\n",
       "    </tr>\n",
       "    <tr>\n",
       "      <th>healthcare</th>\n",
       "      <td>3.0</td>\n",
       "      <td>8.0</td>\n",
       "      <td>1.0</td>\n",
       "      <td>4.0</td>\n",
       "    </tr>\n",
       "    <tr>\n",
       "      <th>homemaker</th>\n",
       "      <td>2.0</td>\n",
       "      <td>4.0</td>\n",
       "      <td>1.0</td>\n",
       "      <td>NaN</td>\n",
       "    </tr>\n",
       "    <tr>\n",
       "      <th>lawyer</th>\n",
       "      <td>1.0</td>\n",
       "      <td>1.0</td>\n",
       "      <td>4.0</td>\n",
       "      <td>6.0</td>\n",
       "    </tr>\n",
       "    <tr>\n",
       "      <th>librarian</th>\n",
       "      <td>9.0</td>\n",
       "      <td>20.0</td>\n",
       "      <td>6.0</td>\n",
       "      <td>16.0</td>\n",
       "    </tr>\n",
       "    <tr>\n",
       "      <th>marketing</th>\n",
       "      <td>2.0</td>\n",
       "      <td>8.0</td>\n",
       "      <td>5.0</td>\n",
       "      <td>11.0</td>\n",
       "    </tr>\n",
       "    <tr>\n",
       "      <th>none</th>\n",
       "      <td>2.0</td>\n",
       "      <td>2.0</td>\n",
       "      <td>4.0</td>\n",
       "      <td>1.0</td>\n",
       "    </tr>\n",
       "    <tr>\n",
       "      <th>other</th>\n",
       "      <td>16.0</td>\n",
       "      <td>20.0</td>\n",
       "      <td>32.0</td>\n",
       "      <td>37.0</td>\n",
       "    </tr>\n",
       "    <tr>\n",
       "      <th>programmer</th>\n",
       "      <td>3.0</td>\n",
       "      <td>3.0</td>\n",
       "      <td>32.0</td>\n",
       "      <td>28.0</td>\n",
       "    </tr>\n",
       "    <tr>\n",
       "      <th>retired</th>\n",
       "      <td>NaN</td>\n",
       "      <td>1.0</td>\n",
       "      <td>NaN</td>\n",
       "      <td>13.0</td>\n",
       "    </tr>\n",
       "    <tr>\n",
       "      <th>salesman</th>\n",
       "      <td>2.0</td>\n",
       "      <td>1.0</td>\n",
       "      <td>3.0</td>\n",
       "      <td>6.0</td>\n",
       "    </tr>\n",
       "    <tr>\n",
       "      <th>scientist</th>\n",
       "      <td>2.0</td>\n",
       "      <td>1.0</td>\n",
       "      <td>6.0</td>\n",
       "      <td>22.0</td>\n",
       "    </tr>\n",
       "    <tr>\n",
       "      <th>student</th>\n",
       "      <td>58.0</td>\n",
       "      <td>2.0</td>\n",
       "      <td>125.0</td>\n",
       "      <td>11.0</td>\n",
       "    </tr>\n",
       "    <tr>\n",
       "      <th>technician</th>\n",
       "      <td>NaN</td>\n",
       "      <td>1.0</td>\n",
       "      <td>14.0</td>\n",
       "      <td>12.0</td>\n",
       "    </tr>\n",
       "    <tr>\n",
       "      <th>writer</th>\n",
       "      <td>5.0</td>\n",
       "      <td>14.0</td>\n",
       "      <td>13.0</td>\n",
       "      <td>13.0</td>\n",
       "    </tr>\n",
       "  </tbody>\n",
       "</table>\n",
       "</div>"
      ],
      "text/plain": [
       "                count                            \n",
       "gender              F                 M          \n",
       "age_group     (0, 30] (30, 100] (0, 30] (30, 100]\n",
       "occupation                                       \n",
       "administrator     8.0      28.0    16.0      27.0\n",
       "artist            9.0       4.0     7.0       8.0\n",
       "doctor            NaN       NaN     2.0       5.0\n",
       "educator          5.0      21.0     8.0      61.0\n",
       "engineer          1.0       1.0    24.0      41.0\n",
       "entertainment     1.0       1.0     9.0       7.0\n",
       "executive         NaN       3.0     7.0      22.0\n",
       "healthcare        3.0       8.0     1.0       4.0\n",
       "homemaker         2.0       4.0     1.0       NaN\n",
       "lawyer            1.0       1.0     4.0       6.0\n",
       "librarian         9.0      20.0     6.0      16.0\n",
       "marketing         2.0       8.0     5.0      11.0\n",
       "none              2.0       2.0     4.0       1.0\n",
       "other            16.0      20.0    32.0      37.0\n",
       "programmer        3.0       3.0    32.0      28.0\n",
       "retired           NaN       1.0     NaN      13.0\n",
       "salesman          2.0       1.0     3.0       6.0\n",
       "scientist         2.0       1.0     6.0      22.0\n",
       "student          58.0       2.0   125.0      11.0\n",
       "technician        NaN       1.0    14.0      12.0\n",
       "writer            5.0      14.0    13.0      13.0"
      ]
     },
     "execution_count": 19,
     "metadata": {},
     "output_type": "execute_result"
    }
   ],
   "source": [
    "# it is effortless to calculate the female vs male ratio of different age groups\n",
    "users['age_group'] = pd.cut(users.age, [0, 30, 100])\n",
    "gender_age = users.pivot_table(values='age', index='occupation', columns=['gender', 'age_group'], aggfunc=['count'])\n",
    "gender_age"
   ]
  },
  {
   "cell_type": "code",
   "execution_count": 20,
   "metadata": {},
   "outputs": [
    {
     "data": {
      "text/plain": [
       "<matplotlib.axes._subplots.AxesSubplot at 0x1af66af6688>"
      ]
     },
     "execution_count": 20,
     "metadata": {},
     "output_type": "execute_result"
    },
    {
     "data": {
      "image/png": "[encoded data removed]",
      "text/plain": [
       "<Figure size 936x432 with 1 Axes>"
      ]
     },
     "metadata": {
      "needs_background": "light"
     },
     "output_type": "display_data"
    }
   ],
   "source": [
    "gender_age.plot.bar(figsize=(13, 6), stacked=True)"
   ]
  },
  {
   "cell_type": "markdown",
   "metadata": {},
   "source": [
    "# Groupby"
   ]
  },
  {
   "cell_type": "markdown",
   "metadata": {},
   "source": [
    "## Aggregation"
   ]
  },
  {
   "cell_type": "code",
   "execution_count": 21,
   "metadata": {},
   "outputs": [
    {
     "data": {
      "text/plain": [
       "occupation\n",
       "administrator    62\n",
       "artist           48\n",
       "educator         51\n",
       "engineer         36\n",
       "entertainment    38\n",
       "executive        49\n",
       "healthcare       53\n",
       "homemaker        50\n",
       "lawyer           51\n",
       "librarian        59\n",
       "marketing        50\n",
       "none             55\n",
       "other            55\n",
       "programmer       38\n",
       "retired          70\n",
       "salesman         33\n",
       "scientist        31\n",
       "student          38\n",
       "technician       38\n",
       "writer           56\n",
       "Name: age, dtype: int64"
      ]
     },
     "execution_count": 21,
     "metadata": {},
     "output_type": "execute_result"
    }
   ],
   "source": [
    "# calculate female max age for each occupation\n",
    "users.query('gender == \"F\"').groupby('occupation').age.max()"
   ]
  },
  {
   "cell_type": "code",
   "execution_count": 22,
   "metadata": {},
   "outputs": [
    {
     "data": {
      "text/html": [
       "<div>\n",
       "<style scoped>\n",
       "    .dataframe tbody tr th:only-of-type {\n",
       "        vertical-align: middle;\n",
       "    }\n",
       "\n",
       "    .dataframe tbody tr th {\n",
       "        vertical-align: top;\n",
       "    }\n",
       "\n",
       "    .dataframe thead th {\n",
       "        text-align: right;\n",
       "    }\n",
       "</style>\n",
       "<table border=\"1\" class=\"dataframe\">\n",
       "  <thead>\n",
       "    <tr style=\"text-align: right;\">\n",
       "      <th></th>\n",
       "      <th>age</th>\n",
       "      <th>user_id</th>\n",
       "    </tr>\n",
       "    <tr>\n",
       "      <th>gender</th>\n",
       "      <th></th>\n",
       "      <th></th>\n",
       "    </tr>\n",
       "  </thead>\n",
       "  <tbody>\n",
       "    <tr>\n",
       "      <th>F</th>\n",
       "      <td>33.813187</td>\n",
       "      <td>273</td>\n",
       "    </tr>\n",
       "    <tr>\n",
       "      <th>M</th>\n",
       "      <td>34.149254</td>\n",
       "      <td>670</td>\n",
       "    </tr>\n",
       "  </tbody>\n",
       "</table>\n",
       "</div>"
      ],
      "text/plain": [
       "              age  user_id\n",
       "gender                    \n",
       "F       33.813187      273\n",
       "M       34.149254      670"
      ]
     },
     "execution_count": 22,
     "metadata": {},
     "output_type": "execute_result"
    }
   ],
   "source": [
    "# applying to specific columns\n",
    "users.groupby('gender').agg({'age':np.mean, 'user_id':np.size})"
   ]
  },
  {
   "cell_type": "code",
   "execution_count": 23,
   "metadata": {},
   "outputs": [
    {
     "data": {
      "text/html": [
       "<div>\n",
       "<style scoped>\n",
       "    .dataframe tbody tr th:only-of-type {\n",
       "        vertical-align: middle;\n",
       "    }\n",
       "\n",
       "    .dataframe tbody tr th {\n",
       "        vertical-align: top;\n",
       "    }\n",
       "\n",
       "    .dataframe thead th {\n",
       "        text-align: right;\n",
       "    }\n",
       "</style>\n",
       "<table border=\"1\" class=\"dataframe\">\n",
       "  <thead>\n",
       "    <tr style=\"text-align: right;\">\n",
       "      <th></th>\n",
       "      <th>m</th>\n",
       "      <th>s</th>\n",
       "    </tr>\n",
       "    <tr>\n",
       "      <th>gender</th>\n",
       "      <th></th>\n",
       "      <th></th>\n",
       "    </tr>\n",
       "  </thead>\n",
       "  <tbody>\n",
       "    <tr>\n",
       "      <th>F</th>\n",
       "      <td>33.813187</td>\n",
       "      <td>273</td>\n",
       "    </tr>\n",
       "    <tr>\n",
       "      <th>M</th>\n",
       "      <td>34.149254</td>\n",
       "      <td>670</td>\n",
       "    </tr>\n",
       "  </tbody>\n",
       "</table>\n",
       "</div>"
      ],
      "text/plain": [
       "                m    s\n",
       "gender                \n",
       "F       33.813187  273\n",
       "M       34.149254  670"
      ]
     },
     "execution_count": 23,
     "metadata": {},
     "output_type": "execute_result"
    }
   ],
   "source": [
    "# applying multiple functions\n",
    "users.groupby('gender').age.agg(m=np.mean, s=np.size)"
   ]
  },
  {
   "cell_type": "code",
   "execution_count": 24,
   "metadata": {},
   "outputs": [
    {
     "data": {
      "text/html": [
       "<div>\n",
       "<style scoped>\n",
       "    .dataframe tbody tr th:only-of-type {\n",
       "        vertical-align: middle;\n",
       "    }\n",
       "\n",
       "    .dataframe tbody tr th {\n",
       "        vertical-align: top;\n",
       "    }\n",
       "\n",
       "    .dataframe thead th {\n",
       "        text-align: right;\n",
       "    }\n",
       "</style>\n",
       "<table border=\"1\" class=\"dataframe\">\n",
       "  <thead>\n",
       "    <tr style=\"text-align: right;\">\n",
       "      <th></th>\n",
       "      <th>brand</th>\n",
       "      <th>model</th>\n",
       "      <th>type</th>\n",
       "      <th>accidents</th>\n",
       "    </tr>\n",
       "  </thead>\n",
       "  <tbody>\n",
       "    <tr>\n",
       "      <th>0</th>\n",
       "      <td>Ford</td>\n",
       "      <td>F150</td>\n",
       "      <td>Pickup</td>\n",
       "      <td>25</td>\n",
       "    </tr>\n",
       "    <tr>\n",
       "      <th>1</th>\n",
       "      <td>Ford</td>\n",
       "      <td>Escape</td>\n",
       "      <td>SUV</td>\n",
       "      <td>79</td>\n",
       "    </tr>\n",
       "    <tr>\n",
       "      <th>2</th>\n",
       "      <td>Chevy</td>\n",
       "      <td>Charger</td>\n",
       "      <td>Sedan</td>\n",
       "      <td>46</td>\n",
       "    </tr>\n",
       "    <tr>\n",
       "      <th>3</th>\n",
       "      <td>Chevy</td>\n",
       "      <td>Charger</td>\n",
       "      <td>Sedan</td>\n",
       "      <td>90</td>\n",
       "    </tr>\n",
       "    <tr>\n",
       "      <th>4</th>\n",
       "      <td>Honda</td>\n",
       "      <td>Civic</td>\n",
       "      <td>Sedan</td>\n",
       "      <td>29</td>\n",
       "    </tr>\n",
       "    <tr>\n",
       "      <th>5</th>\n",
       "      <td>Ford</td>\n",
       "      <td>Escape</td>\n",
       "      <td>SUV</td>\n",
       "      <td>88</td>\n",
       "    </tr>\n",
       "    <tr>\n",
       "      <th>6</th>\n",
       "      <td>Honda</td>\n",
       "      <td>CRV</td>\n",
       "      <td>SUV</td>\n",
       "      <td>79</td>\n",
       "    </tr>\n",
       "    <tr>\n",
       "      <th>7</th>\n",
       "      <td>Honda</td>\n",
       "      <td>CRV</td>\n",
       "      <td>SUV</td>\n",
       "      <td>93</td>\n",
       "    </tr>\n",
       "    <tr>\n",
       "      <th>8</th>\n",
       "      <td>Ford</td>\n",
       "      <td>F150</td>\n",
       "      <td>Pickup</td>\n",
       "      <td>20</td>\n",
       "    </tr>\n",
       "    <tr>\n",
       "      <th>9</th>\n",
       "      <td>Chevy</td>\n",
       "      <td>Silverado</td>\n",
       "      <td>Pickup</td>\n",
       "      <td>11</td>\n",
       "    </tr>\n",
       "  </tbody>\n",
       "</table>\n",
       "</div>"
      ],
      "text/plain": [
       "   brand      model    type  accidents\n",
       "0   Ford       F150  Pickup         25\n",
       "1   Ford     Escape     SUV         79\n",
       "2  Chevy    Charger   Sedan         46\n",
       "3  Chevy    Charger   Sedan         90\n",
       "4  Honda      Civic   Sedan         29\n",
       "5   Ford     Escape     SUV         88\n",
       "6  Honda        CRV     SUV         79\n",
       "7  Honda        CRV     SUV         93\n",
       "8   Ford       F150  Pickup         20\n",
       "9  Chevy  Silverado  Pickup         11"
      ]
     },
     "execution_count": 24,
     "metadata": {},
     "output_type": "execute_result"
    }
   ],
   "source": [
    "# Week 4 exercise\n",
    "Brand = ['Ford', 'Ford',   'Chevy',   'Chevy',   'Honda', 'Ford',   'Honda', 'Honda', 'Ford', 'Chevy']\n",
    "Model = ['F150', 'Escape', 'Charger', 'Charger', 'Civic', 'Escape', 'CRV',   'CRV',   'F150', 'Silverado']\n",
    "Type = ['Pickup', 'SUV', 'Sedan', 'Sedan', 'Sedan', 'SUV', 'SUV',   'SUV',   'Pickup', 'Pickup']\n",
    "Accidents = [25, 79, 46, 90, 29, 88, 79, 93, 20, 11]\n",
    "cars = pd.DataFrame(dict(brand=Brand, model=Model, type=Type, accidents=Accidents))\n",
    "cars"
   ]
  },
  {
   "cell_type": "code",
   "execution_count": 25,
   "metadata": {},
   "outputs": [
    {
     "data": {
      "text/plain": [
       "brand  model  \n",
       "Chevy  Charger    68.0\n",
       "Ford   Escape     83.5\n",
       "Honda  CRV        86.0\n",
       "Name: accidents, dtype: float64"
      ]
     },
     "execution_count": 25,
     "metadata": {},
     "output_type": "execute_result"
    }
   ],
   "source": [
    "# Find the brand and model of the safest car\n",
    "cars.groupby(['brand', 'model']).accidents.mean().sort_values().tail(3)"
   ]
  },
  {
   "cell_type": "code",
   "execution_count": 26,
   "metadata": {},
   "outputs": [
    {
     "data": {
      "text/html": [
       "<div>\n",
       "<style scoped>\n",
       "    .dataframe tbody tr th:only-of-type {\n",
       "        vertical-align: middle;\n",
       "    }\n",
       "\n",
       "    .dataframe tbody tr th {\n",
       "        vertical-align: top;\n",
       "    }\n",
       "\n",
       "    .dataframe thead th {\n",
       "        text-align: right;\n",
       "    }\n",
       "</style>\n",
       "<table border=\"1\" class=\"dataframe\">\n",
       "  <thead>\n",
       "    <tr style=\"text-align: right;\">\n",
       "      <th></th>\n",
       "      <th>s</th>\n",
       "      <th>m</th>\n",
       "    </tr>\n",
       "    <tr>\n",
       "      <th>brand</th>\n",
       "      <th></th>\n",
       "      <th></th>\n",
       "    </tr>\n",
       "  </thead>\n",
       "  <tbody>\n",
       "    <tr>\n",
       "      <th>Chevy</th>\n",
       "      <td>147</td>\n",
       "      <td>49</td>\n",
       "    </tr>\n",
       "    <tr>\n",
       "      <th>Ford</th>\n",
       "      <td>212</td>\n",
       "      <td>53</td>\n",
       "    </tr>\n",
       "    <tr>\n",
       "      <th>Honda</th>\n",
       "      <td>201</td>\n",
       "      <td>67</td>\n",
       "    </tr>\n",
       "  </tbody>\n",
       "</table>\n",
       "</div>"
      ],
      "text/plain": [
       "         s   m\n",
       "brand         \n",
       "Chevy  147  49\n",
       "Ford   212  53\n",
       "Honda  201  67"
      ]
     },
     "execution_count": 26,
     "metadata": {},
     "output_type": "execute_result"
    }
   ],
   "source": [
    "# Find the safest brand for each vehicle type (one line)\n",
    "cars.groupby('brand').accidents.agg(s=np.sum, m=np.mean)"
   ]
  },
  {
   "cell_type": "code",
   "execution_count": null,
   "metadata": {},
   "outputs": [],
   "source": [
    "# Calculate the total accidents for each brand and vehicle type, respectively.\n",
    "\n",
    "\n"
   ]
  },
  {
   "cell_type": "markdown",
   "metadata": {
    "colab_type": "text",
    "id": "CQ7CElCbiGEZ"
   },
   "source": [
    "# Time Series"
   ]
  },
  {
   "cell_type": "markdown",
   "metadata": {
    "colab_type": "text",
    "id": "udTfZ_WQjWHI"
   },
   "source": [
    "## Convert to Timestamp"
   ]
  },
  {
   "cell_type": "code",
   "execution_count": 27,
   "metadata": {
    "colab": {
     "base_uri": "https://localhost:8080/",
     "height": 52
    },
    "colab_type": "code",
    "executionInfo": {
     "elapsed": 332,
     "status": "ok",
     "timestamp": 1583677984267,
     "user": {
      "displayName": "Michael Ou",
      "photoUrl": "https://lh3.googleusercontent.com/a-/AOh14GgO-l_Fq06ZN3gFRQv8LHB7ZNu6bvTk2yjjMwA9hw=s64",
      "userId": "02505320695703925391"
     },
     "user_tz": 300
    },
    "id": "luFfkG2gjWZa",
    "outputId": "e2197b30-4823-4fc3-cd7e-7d06312ca0bb"
   },
   "outputs": [
    {
     "name": "stdout",
     "output_type": "stream",
     "text": [
      "2010-11-12 00:00:00\n",
      "2020-11-12 00:00:00\n"
     ]
    }
   ],
   "source": [
    "# You can use either pd.to_datetime or pd.Timestamp\n",
    "print(pd.to_datetime('2010/11/12'))\n",
    "print(pd.Timestamp('2020/11/12'))"
   ]
  },
  {
   "cell_type": "code",
   "execution_count": 28,
   "metadata": {
    "colab": {
     "base_uri": "https://localhost:8080/",
     "height": 52
    },
    "colab_type": "code",
    "executionInfo": {
     "elapsed": 356,
     "status": "ok",
     "timestamp": 1583678124424,
     "user": {
      "displayName": "Michael Ou",
      "photoUrl": "https://lh3.googleusercontent.com/a-/AOh14GgO-l_Fq06ZN3gFRQv8LHB7ZNu6bvTk2yjjMwA9hw=s64",
      "userId": "02505320695703925391"
     },
     "user_tz": 300
    },
    "id": "o-0Mjo1YkSK7",
    "outputId": "4c5db823-0540-4384-c81b-f32871c93d35"
   },
   "outputs": [
    {
     "name": "stdout",
     "output_type": "stream",
     "text": [
      "2010-11-12 00:00:00\n",
      "2020-11-12 00:00:00\n"
     ]
    }
   ],
   "source": [
    "# pandas usually is very intelligent to convert dates in different format but you can also specify the format mannually\n",
    "print(pd.to_datetime('2010/11/12', format='%Y/%m/%d'))\n",
    "print(pd.to_datetime('12-11-2020 00:00', format='%d-%m-%Y %H:%M'))"
   ]
  },
  {
   "cell_type": "markdown",
   "metadata": {
    "colab_type": "text",
    "id": "2iecHP9hh4e6"
   },
   "source": [
    "## Construct DatatimeIndex"
   ]
  },
  {
   "cell_type": "code",
   "execution_count": 29,
   "metadata": {
    "colab": {
     "base_uri": "https://localhost:8080/",
     "height": 35
    },
    "colab_type": "code",
    "executionInfo": {
     "elapsed": 533,
     "status": "ok",
     "timestamp": 1583677559994,
     "user": {
      "displayName": "Michael Ou",
      "photoUrl": "https://lh3.googleusercontent.com/a-/AOh14GgO-l_Fq06ZN3gFRQv8LHB7ZNu6bvTk2yjjMwA9hw=s64",
      "userId": "02505320695703925391"
     },
     "user_tz": 300
    },
    "id": "a8TkZrG_iaHF",
    "outputId": "2c32dafe-0624-4bab-e276-096cfd9c79a7"
   },
   "outputs": [
    {
     "data": {
      "text/plain": [
       "DatetimeIndex(['2005-11-23', '2010-12-31', '2009-07-31', '2012-02-28'], dtype='datetime64[ns]', freq=None)"
      ]
     },
     "execution_count": 29,
     "metadata": {},
     "output_type": "execute_result"
    }
   ],
   "source": [
    "# pd.DatetimeIndex is frequently used to construct datetimeIndex\n",
    "pd.DatetimeIndex(['2005/11/23', '2010.12.31', 'Jul 31, 2009', '2012-2-28'])"
   ]
  },
  {
   "cell_type": "code",
   "execution_count": 30,
   "metadata": {
    "colab": {
     "base_uri": "https://localhost:8080/",
     "height": 35
    },
    "colab_type": "code",
    "executionInfo": {
     "elapsed": 491,
     "status": "ok",
     "timestamp": 1583677547525,
     "user": {
      "displayName": "Michael Ou",
      "photoUrl": "https://lh3.googleusercontent.com/a-/AOh14GgO-l_Fq06ZN3gFRQv8LHB7ZNu6bvTk2yjjMwA9hw=s64",
      "userId": "02505320695703925391"
     },
     "user_tz": 300
    },
    "id": "SHSSmLJuh3fO",
    "outputId": "b351fd9d-a205-49a1-d8b0-08c30a0ceb8f"
   },
   "outputs": [
    {
     "data": {
      "text/plain": [
       "DatetimeIndex(['2005-11-23', '2010-12-31', '2009-07-31', '2012-02-28'], dtype='datetime64[ns]', freq=None)"
      ]
     },
     "execution_count": 30,
     "metadata": {},
     "output_type": "execute_result"
    }
   ],
   "source": [
    "#  to_datetime can also be used\n",
    "pd.to_datetime(['2005/11/23', '2010.12.31', 'Jul 31, 2009', '2012-2-28'])"
   ]
  },
  {
   "cell_type": "code",
   "execution_count": 31,
   "metadata": {
    "colab": {
     "base_uri": "https://localhost:8080/",
     "height": 104
    },
    "colab_type": "code",
    "executionInfo": {
     "elapsed": 339,
     "status": "ok",
     "timestamp": 1583678400938,
     "user": {
      "displayName": "Michael Ou",
      "photoUrl": "https://lh3.googleusercontent.com/a-/AOh14GgO-l_Fq06ZN3gFRQv8LHB7ZNu6bvTk2yjjMwA9hw=s64",
      "userId": "02505320695703925391"
     },
     "user_tz": 300
    },
    "id": "UlHHw8GWidJQ",
    "outputId": "0cf5d18a-e05c-4e9d-99ff-6c90d2822076"
   },
   "outputs": [
    {
     "data": {
      "text/plain": [
       "0   2005-11-23\n",
       "1   2010-12-31\n",
       "2   2009-07-31\n",
       "3   2012-02-28\n",
       "dtype: datetime64[ns]"
      ]
     },
     "execution_count": 31,
     "metadata": {},
     "output_type": "execute_result"
    }
   ],
   "source": [
    "#  to_datetime will retuen series if the input is Series\n",
    "pd.to_datetime(pd.Series(['2005/11/23', '2010.12.31', 'Jul 31, 2009', '2012-2-28']))"
   ]
  },
  {
   "cell_type": "code",
   "execution_count": 32,
   "metadata": {
    "colab": {
     "base_uri": "https://localhost:8080/",
     "height": 35
    },
    "colab_type": "code",
    "executionInfo": {
     "elapsed": 368,
     "status": "ok",
     "timestamp": 1583678526179,
     "user": {
      "displayName": "Michael Ou",
      "photoUrl": "https://lh3.googleusercontent.com/a-/AOh14GgO-l_Fq06ZN3gFRQv8LHB7ZNu6bvTk2yjjMwA9hw=s64",
      "userId": "02505320695703925391"
     },
     "user_tz": 300
    },
    "id": "SM_R0cP9lwIq",
    "outputId": "52fa0550-540a-4819-9ddd-d6522692f1ba"
   },
   "outputs": [
    {
     "data": {
      "text/plain": [
       "DatetimeIndex(['2005-11-23', '2010-12-31', '2009-07-31', '2012-02-28'], dtype='datetime64[ns]', freq=None)"
      ]
     },
     "execution_count": 32,
     "metadata": {},
     "output_type": "execute_result"
    }
   ],
   "source": [
    "# but if you use it as index for Series or DataFrame it will be converted to DatatimeIndex automatically\n",
    "A = pd.Series(range(4), index=pd.to_datetime(pd.Series(['2005/11/23', '2010.12.31', 'Jul 31, 2009', '2012-2-28'])))\n",
    "A.index"
   ]
  },
  {
   "cell_type": "code",
   "execution_count": 33,
   "metadata": {
    "colab": {
     "base_uri": "https://localhost:8080/",
     "height": 156
    },
    "colab_type": "code",
    "executionInfo": {
     "elapsed": 512,
     "status": "ok",
     "timestamp": 1583678648244,
     "user": {
      "displayName": "Michael Ou",
      "photoUrl": "https://lh3.googleusercontent.com/a-/AOh14GgO-l_Fq06ZN3gFRQv8LHB7ZNu6bvTk2yjjMwA9hw=s64",
      "userId": "02505320695703925391"
     },
     "user_tz": 300
    },
    "id": "V8LwWyxxmMv6",
    "outputId": "20578079-4e06-4322-a2b9-67e56dadb64a"
   },
   "outputs": [
    {
     "name": "stdout",
     "output_type": "stream",
     "text": [
      "   year  month  day  hour\n",
      "0  2015      2    4     2\n",
      "1  2016      3    5     3 \n",
      "\n",
      "\n",
      "0   2015-02-04 02:00:00\n",
      "1   2016-03-05 03:00:00\n",
      "dtype: datetime64[ns]\n"
     ]
    }
   ],
   "source": [
    "# if you have a DataFrame with year, month and day columns, you could convert to TimeStamp Series\n",
    "df = pd.DataFrame({'year': [2015, 2016], 'month': [2, 3], 'day': [4, 5], 'hour': [2, 3]})\n",
    "print(df, '\\n\\n')\n",
    "\n",
    "print(pd.to_datetime(df))"
   ]
  },
  {
   "cell_type": "markdown",
   "metadata": {
    "colab_type": "text",
    "id": "YX9_RaUCujyo"
   },
   "source": [
    "## Generating ranges of timestamps"
   ]
  },
  {
   "cell_type": "code",
   "execution_count": 34,
   "metadata": {
    "colab": {
     "base_uri": "https://localhost:8080/",
     "height": 139
    },
    "colab_type": "code",
    "executionInfo": {
     "elapsed": 338,
     "status": "ok",
     "timestamp": 1583680750052,
     "user": {
      "displayName": "Michael Ou",
      "photoUrl": "https://lh3.googleusercontent.com/a-/AOh14GgO-l_Fq06ZN3gFRQv8LHB7ZNu6bvTk2yjjMwA9hw=s64",
      "userId": "02505320695703925391"
     },
     "user_tz": 300
    },
    "id": "e8V5XLuOuilj",
    "outputId": "bbc6bc9b-59e6-4d36-c45c-9d23a8607344"
   },
   "outputs": [
    {
     "name": "stderr",
     "output_type": "stream",
     "text": [
      "C:\\Miniconda3\\lib\\site-packages\\ipykernel_launcher.py:1: FutureWarning: The pandas.datetime class is deprecated and will be removed from pandas in a future version. Import from datetime module instead.\n",
      "  \"\"\"Entry point for launching an IPython kernel.\n",
      "C:\\Miniconda3\\lib\\site-packages\\ipykernel_launcher.py:2: FutureWarning: The pandas.datetime class is deprecated and will be removed from pandas in a future version. Import from datetime module instead.\n",
      "  \n"
     ]
    },
    {
     "data": {
      "text/plain": [
       "DatetimeIndex(['2011-01-31', '2011-02-28', '2011-03-31', '2011-04-30',\n",
       "               '2011-05-31', '2011-06-30', '2011-07-31', '2011-08-31',\n",
       "               '2011-09-30', '2011-10-31', '2011-11-30', '2011-12-31',\n",
       "               '2012-01-31', '2012-02-29', '2012-03-31', '2012-04-30',\n",
       "               '2012-05-31', '2012-06-30', '2012-07-31', '2012-08-31',\n",
       "               '2012-09-30', '2012-10-31', '2012-11-30', '2012-12-31'],\n",
       "              dtype='datetime64[ns]', freq='M')"
      ]
     },
     "execution_count": 34,
     "metadata": {},
     "output_type": "execute_result"
    }
   ],
   "source": [
    "start = pd.datetime(2011, 1, 1)\n",
    "end = pd.datetime(2012, 12, 31)\n",
    "time_idx = pd.date_range(start, end, freq='M')\n",
    "time_idx"
   ]
  },
  {
   "cell_type": "code",
   "execution_count": 35,
   "metadata": {
    "colab": {
     "base_uri": "https://localhost:8080/",
     "height": 139
    },
    "colab_type": "code",
    "executionInfo": {
     "elapsed": 360,
     "status": "ok",
     "timestamp": 1583680835358,
     "user": {
      "displayName": "Michael Ou",
      "photoUrl": "https://lh3.googleusercontent.com/a-/AOh14GgO-l_Fq06ZN3gFRQv8LHB7ZNu6bvTk2yjjMwA9hw=s64",
      "userId": "02505320695703925391"
     },
     "user_tz": 300
    },
    "id": "CvqwcKfGuzzT",
    "outputId": "3558ca0e-8a99-4f90-f9a0-d54573597c2a"
   },
   "outputs": [
    {
     "data": {
      "text/plain": [
       "DatetimeIndex(['2011-01-31', '2011-02-28', '2011-03-31', '2011-04-30',\n",
       "               '2011-05-31', '2011-06-30', '2011-07-31', '2011-08-31',\n",
       "               '2011-09-30', '2011-10-31', '2011-11-30', '2011-12-31',\n",
       "               '2012-01-31', '2012-02-29', '2012-03-31', '2012-04-30',\n",
       "               '2012-05-31', '2012-06-30', '2012-07-31', '2012-08-31',\n",
       "               '2012-09-30', '2012-10-31', '2012-11-30', '2012-12-31'],\n",
       "              dtype='datetime64[ns]', freq='M')"
      ]
     },
     "execution_count": 35,
     "metadata": {},
     "output_type": "execute_result"
    }
   ],
   "source": [
    "# if you just want to see the business days\n",
    "pd.bdate_range(start, end, freq='M')"
   ]
  },
  {
   "cell_type": "markdown",
   "metadata": {
    "colab_type": "text",
    "id": "VoE2OiHi7-Ni"
   },
   "source": [
    "## Indexing Datetime"
   ]
  },
  {
   "cell_type": "code",
   "execution_count": 36,
   "metadata": {
    "colab": {
     "base_uri": "https://localhost:8080/",
     "height": 225
    },
    "colab_type": "code",
    "executionInfo": {
     "elapsed": 435,
     "status": "ok",
     "timestamp": 1583684543081,
     "user": {
      "displayName": "Michael Ou",
      "photoUrl": "https://lh3.googleusercontent.com/a-/AOh14GgO-l_Fq06ZN3gFRQv8LHB7ZNu6bvTk2yjjMwA9hw=s64",
      "userId": "02505320695703925391"
     },
     "user_tz": 300
    },
    "id": "gZ-UdLwh8CNB",
    "outputId": "576c8ff5-9200-4298-9c12-11affd5f85eb"
   },
   "outputs": [
    {
     "data": {
      "text/plain": [
       "2000-01-01    0.791670\n",
       "2000-01-02    0.281178\n",
       "2000-01-03    0.333163\n",
       "2000-01-04    0.915380\n",
       "2000-01-05    0.912683\n",
       "                ...   \n",
       "2008-12-28    0.404024\n",
       "2008-12-29    0.632848\n",
       "2008-12-30    0.876210\n",
       "2008-12-31    0.338594\n",
       "2009-01-01    0.034044\n",
       "Freq: D, Length: 3289, dtype: float64"
      ]
     },
     "execution_count": 36,
     "metadata": {},
     "output_type": "execute_result"
    }
   ],
   "source": [
    "time_idx = pd.date_range('2000', '2009', freq='D')\n",
    "time_ser = pd.Series(np.random.random(time_idx.shape), index=time_idx)\n",
    "time_ser"
   ]
  },
  {
   "cell_type": "code",
   "execution_count": 37,
   "metadata": {
    "colab": {
     "base_uri": "https://localhost:8080/",
     "height": 659
    },
    "colab_type": "code",
    "executionInfo": {
     "elapsed": 350,
     "status": "ok",
     "timestamp": 1583685625762,
     "user": {
      "displayName": "Michael Ou",
      "photoUrl": "https://lh3.googleusercontent.com/a-/AOh14GgO-l_Fq06ZN3gFRQv8LHB7ZNu6bvTk2yjjMwA9hw=s64",
      "userId": "02505320695703925391"
     },
     "user_tz": 300
    },
    "id": "EJC9GVxGAqbU",
    "outputId": "1bd02f53-ccc4-4740-b45d-7a742b5de6d1"
   },
   "outputs": [
    {
     "name": "stdout",
     "output_type": "stream",
     "text": [
      "2005-01-01\n",
      " 0.2845400428175855 \n",
      "\n",
      "\n",
      "2005-01\n",
      " 2005-01-01    0.284540\n",
      "2005-01-02    0.519232\n",
      "2005-01-03    0.322799\n",
      "2005-01-04    0.786453\n",
      "2005-01-05    0.074254\n",
      "2005-01-06    0.253610\n",
      "2005-01-07    0.748339\n",
      "2005-01-08    0.756152\n",
      "2005-01-09    0.959847\n",
      "2005-01-10    0.793885\n",
      "2005-01-11    0.792108\n",
      "2005-01-12    0.503613\n",
      "2005-01-13    0.818998\n",
      "2005-01-14    0.271725\n",
      "2005-01-15    0.582433\n",
      "2005-01-16    0.271910\n",
      "2005-01-17    0.041806\n",
      "2005-01-18    0.671404\n",
      "2005-01-19    0.399806\n",
      "2005-01-20    0.727348\n",
      "2005-01-21    0.235050\n",
      "2005-01-22    0.717815\n",
      "2005-01-23    0.008767\n",
      "2005-01-24    0.552623\n",
      "2005-01-25    0.123794\n",
      "2005-01-26    0.612750\n",
      "2005-01-27    0.001269\n",
      "2005-01-28    0.466367\n",
      "2005-01-29    0.262291\n",
      "2005-01-30    0.079414\n",
      "2005-01-31    0.729052\n",
      "Freq: D, dtype: float64\n"
     ]
    }
   ],
   "source": [
    "#  If the string is less accurate than the index, it will be treated as a slice, otherwise as an exact match.\n",
    "print('2005-01-01\\n', time_ser['2005-01-01'], '\\n\\n')\n",
    "print('2005-01\\n', time_ser['2005-01'])"
   ]
  },
  {
   "cell_type": "code",
   "execution_count": 38,
   "metadata": {
    "colab": {
     "base_uri": "https://localhost:8080/",
     "height": 225
    },
    "colab_type": "code",
    "executionInfo": {
     "elapsed": 352,
     "status": "ok",
     "timestamp": 1583684633811,
     "user": {
      "displayName": "Michael Ou",
      "photoUrl": "https://lh3.googleusercontent.com/a-/AOh14GgO-l_Fq06ZN3gFRQv8LHB7ZNu6bvTk2yjjMwA9hw=s64",
      "userId": "02505320695703925391"
     },
     "user_tz": 300
    },
    "id": "lW0o9Vgg8E80",
    "outputId": "499d5637-377a-4714-ffae-ff60358e8a84"
   },
   "outputs": [
    {
     "name": "stdout",
     "output_type": "stream",
     "text": [
      "2005-01-01    0.284540\n",
      "2005-01-02    0.519232\n",
      "2005-01-03    0.322799\n",
      "2005-01-04    0.786453\n",
      "2005-01-05    0.074254\n",
      "                ...   \n",
      "2007-02-11    0.244617\n",
      "2007-02-12    0.550576\n",
      "2007-02-13    0.336148\n",
      "2007-02-14    0.784739\n",
      "2007-02-15    0.174215\n",
      "Freq: D, Length: 776, dtype: float64\n"
     ]
    }
   ],
   "source": [
    "# time indexing\n",
    "print(time_ser['2005-01-01':'2007-02-15'])\n"
   ]
  },
  {
   "cell_type": "code",
   "execution_count": 39,
   "metadata": {
    "colab": {
     "base_uri": "https://localhost:8080/",
     "height": 225
    },
    "colab_type": "code",
    "executionInfo": {
     "elapsed": 333,
     "status": "ok",
     "timestamp": 1583684619415,
     "user": {
      "displayName": "Michael Ou",
      "photoUrl": "https://lh3.googleusercontent.com/a-/AOh14GgO-l_Fq06ZN3gFRQv8LHB7ZNu6bvTk2yjjMwA9hw=s64",
      "userId": "02505320695703925391"
     },
     "user_tz": 300
    },
    "id": "0QeR75Lv9P9O",
    "outputId": "5a291df6-6cf5-4ffa-f0a2-9364b6bf2111"
   },
   "outputs": [
    {
     "data": {
      "text/plain": [
       "2005-01-01    0.284540\n",
       "2005-01-02    0.519232\n",
       "2005-01-03    0.322799\n",
       "2005-01-04    0.786453\n",
       "2005-01-05    0.074254\n",
       "                ...   \n",
       "2007-02-24    0.706592\n",
       "2007-02-25    0.796378\n",
       "2007-02-26    0.270069\n",
       "2007-02-27    0.139145\n",
       "2007-02-28    0.739827\n",
       "Freq: D, Length: 789, dtype: float64"
      ]
     },
     "execution_count": 39,
     "metadata": {},
     "output_type": "execute_result"
    }
   ],
   "source": [
    "# partial indexing\n",
    "time_ser['2005-01':'2007-02']"
   ]
  },
  {
   "cell_type": "code",
   "execution_count": 40,
   "metadata": {
    "colab": {
     "base_uri": "https://localhost:8080/",
     "height": 225
    },
    "colab_type": "code",
    "executionInfo": {
     "elapsed": 303,
     "status": "ok",
     "timestamp": 1583684660607,
     "user": {
      "displayName": "Michael Ou",
      "photoUrl": "https://lh3.googleusercontent.com/a-/AOh14GgO-l_Fq06ZN3gFRQv8LHB7ZNu6bvTk2yjjMwA9hw=s64",
      "userId": "02505320695703925391"
     },
     "user_tz": 300
    },
    "id": "CM_AKnbg9feV",
    "outputId": "1f9b6faa-2201-428b-d541-beae84252611"
   },
   "outputs": [
    {
     "data": {
      "text/plain": [
       "2005-01-01    0.284540\n",
       "2005-01-02    0.519232\n",
       "2005-01-03    0.322799\n",
       "2005-01-04    0.786453\n",
       "2005-01-05    0.074254\n",
       "                ...   \n",
       "2007-12-27    0.898166\n",
       "2007-12-28    0.667543\n",
       "2007-12-29    0.225955\n",
       "2007-12-30    0.931907\n",
       "2007-12-31    0.791370\n",
       "Freq: D, Length: 1095, dtype: float64"
      ]
     },
     "execution_count": 40,
     "metadata": {},
     "output_type": "execute_result"
    }
   ],
   "source": [
    "# partial indexing, year only\n",
    "time_ser['2005':'2007']"
   ]
  },
  {
   "cell_type": "code",
   "execution_count": 41,
   "metadata": {
    "colab": {
     "base_uri": "https://localhost:8080/",
     "height": 225
    },
    "colab_type": "code",
    "executionInfo": {
     "elapsed": 339,
     "status": "ok",
     "timestamp": 1583686119686,
     "user": {
      "displayName": "Michael Ou",
      "photoUrl": "https://lh3.googleusercontent.com/a-/AOh14GgO-l_Fq06ZN3gFRQv8LHB7ZNu6bvTk2yjjMwA9hw=s64",
      "userId": "02505320695703925391"
     },
     "user_tz": 300
    },
    "id": "UGVY7sk9CUq8",
    "outputId": "d200be1b-51ad-482c-8bc7-4b5baa45340f"
   },
   "outputs": [
    {
     "data": {
      "text/plain": [
       "2000-01-09    0.791670\n",
       "2000-01-16    0.281178\n",
       "2000-01-16    0.333163\n",
       "2000-01-16    0.915380\n",
       "2000-01-16    0.912683\n",
       "                ...   \n",
       "2009-01-11    0.404024\n",
       "2009-01-11    0.632848\n",
       "2009-01-11    0.876210\n",
       "2009-01-11    0.338594\n",
       "2009-01-11    0.034044\n",
       "Length: 3289, dtype: float64"
      ]
     },
     "execution_count": 41,
     "metadata": {},
     "output_type": "execute_result"
    }
   ],
   "source": [
    "# Shifting / lagging\n",
    "time_ser.shift(2, freq='W') # careful this will also change the frequency of the index"
   ]
  },
  {
   "cell_type": "markdown",
   "metadata": {
    "colab_type": "text",
    "id": "HyatCim2DiYU"
   },
   "source": [
    "## Resampling"
   ]
  },
  {
   "cell_type": "code",
   "execution_count": 42,
   "metadata": {
    "colab": {
     "base_uri": "https://localhost:8080/",
     "height": 35
    },
    "colab_type": "code",
    "executionInfo": {
     "elapsed": 236,
     "status": "ok",
     "timestamp": 1583686661217,
     "user": {
      "displayName": "Michael Ou",
      "photoUrl": "https://lh3.googleusercontent.com/a-/AOh14GgO-l_Fq06ZN3gFRQv8LHB7ZNu6bvTk2yjjMwA9hw=s64",
      "userId": "02505320695703925391"
     },
     "user_tz": 300
    },
    "id": "G50bX0vyCebs",
    "outputId": "0b391da8-81f9-427a-b6ff-8e00b9af3592"
   },
   "outputs": [
    {
     "data": {
      "text/plain": [
       "<pandas.core.resample.DatetimeIndexResampler object at 0x000001AF66F19A88>"
      ]
     },
     "execution_count": 42,
     "metadata": {},
     "output_type": "execute_result"
    }
   ],
   "source": [
    "# basic\n",
    "rs = time_ser.resample('M')\n",
    "rs"
   ]
  },
  {
   "cell_type": "code",
   "execution_count": 43,
   "metadata": {
    "colab": {
     "base_uri": "https://localhost:8080/",
     "height": 503
    },
    "colab_type": "code",
    "executionInfo": {
     "elapsed": 387,
     "status": "ok",
     "timestamp": 1583686695902,
     "user": {
      "displayName": "Michael Ou",
      "photoUrl": "https://lh3.googleusercontent.com/a-/AOh14GgO-l_Fq06ZN3gFRQv8LHB7ZNu6bvTk2yjjMwA9hw=s64",
      "userId": "02505320695703925391"
     },
     "user_tz": 300
    },
    "id": "fIPW27_uE3jM",
    "outputId": "13cae94b-0608-4cf2-a62c-d6c4bfee7e47"
   },
   "outputs": [
    {
     "name": "stdout",
     "output_type": "stream",
     "text": [
      "monthly sum:\n",
      " 2000-01-31    16.916376\n",
      "2000-02-29    13.647678\n",
      "2000-03-31    15.570718\n",
      "2000-04-30    19.818709\n",
      "2000-05-31    15.233663\n",
      "                ...    \n",
      "2008-09-30    14.938674\n",
      "2008-10-31    14.896530\n",
      "2008-11-30    15.113581\n",
      "2008-12-31    15.339725\n",
      "2009-01-31     0.034044\n",
      "Freq: M, Length: 109, dtype: float64 \n",
      "\n",
      "\n",
      "monthly mean:\n",
      " 2000-01-01    0.545690\n",
      "2000-02-01    0.470610\n",
      "2000-03-01    0.502281\n",
      "2000-04-01    0.660624\n",
      "2000-05-01    0.491408\n",
      "                ...   \n",
      "2008-09-01    0.497956\n",
      "2008-10-01    0.480533\n",
      "2008-11-01    0.503786\n",
      "2008-12-01    0.494830\n",
      "2009-01-01    0.034044\n",
      "Freq: MS, Length: 109, dtype: float64\n"
     ]
    }
   ],
   "source": [
    "# apply stat functions: sum, mean, std, sem, max, min, median, first, last, ohlc:\n",
    "print('monthly sum:\\n', time_ser.resample('M').sum(), '\\n\\n')\n",
    "print('monthly mean:\\n', time_ser.resample('MS').mean())"
   ]
  },
  {
   "cell_type": "code",
   "execution_count": 44,
   "metadata": {
    "colab": {
     "base_uri": "https://localhost:8080/",
     "height": 225
    },
    "colab_type": "code",
    "executionInfo": {
     "elapsed": 451,
     "status": "ok",
     "timestamp": 1583686953048,
     "user": {
      "displayName": "Michael Ou",
      "photoUrl": "https://lh3.googleusercontent.com/a-/AOh14GgO-l_Fq06ZN3gFRQv8LHB7ZNu6bvTk2yjjMwA9hw=s64",
      "userId": "02505320695703925391"
     },
     "user_tz": 300
    },
    "id": "PjlX1A33FhW0",
    "outputId": "80b6cb36-6465-484c-a7ae-0d730e8f7874"
   },
   "outputs": [
    {
     "data": {
      "text/plain": [
       "2000-01-31    11.375230\n",
       "2000-02-29     8.702828\n",
       "2000-03-31    10.034138\n",
       "2000-04-30    14.336777\n",
       "2000-05-31    10.648622\n",
       "                ...    \n",
       "2008-09-30     9.270637\n",
       "2008-10-31    10.465447\n",
       "2008-11-30     9.931957\n",
       "2008-12-31     9.689083\n",
       "2009-01-31     0.001159\n",
       "Freq: M, Length: 109, dtype: float64"
      ]
     },
     "execution_count": 44,
     "metadata": {},
     "output_type": "execute_result"
    }
   ],
   "source": [
    "# apply general function\n",
    "time_ser.resample('M').apply(lambda x: (x**2).sum())"
   ]
  },
  {
   "cell_type": "markdown",
   "metadata": {},
   "source": [
    "# Visualization"
   ]
  },
  {
   "cell_type": "code",
   "execution_count": 45,
   "metadata": {},
   "outputs": [
    {
     "data": {
      "text/plain": [
       "<matplotlib.axes._subplots.AxesSubplot at 0x1af67109888>"
      ]
     },
     "execution_count": 45,
     "metadata": {},
     "output_type": "execute_result"
    },
    {
     "data": {
      "image/png": "[encoded data removed]",
      "text/plain": [
       "<Figure size 432x288 with 1 Axes>"
      ]
     },
     "metadata": {
      "needs_background": "light"
     },
     "output_type": "display_data"
    }
   ],
   "source": [
    "users.groupby('occupation').age.mean().plot()"
   ]
  },
  {
   "cell_type": "code",
   "execution_count": 46,
   "metadata": {},
   "outputs": [
    {
     "data": {
      "text/plain": [
       "<matplotlib.axes._subplots.AxesSubplot at 0x1af66fa3848>"
      ]
     },
     "execution_count": 46,
     "metadata": {},
     "output_type": "execute_result"
    },
    {
     "data": {
      "image/png": "[encoded data removed]",
      "text/plain": [
       "<Figure size 432x288 with 1 Axes>"
      ]
     },
     "metadata": {
      "needs_background": "light"
     },
     "output_type": "display_data"
    }
   ],
   "source": [
    "users.groupby('occupation').age.mean().plot.bar()"
   ]
  },
  {
   "cell_type": "code",
   "execution_count": null,
   "metadata": {},
   "outputs": [],
   "source": [
    "tractor = pd.read_excel('test.10-24.2-time_RAR.xlsx', 'test.10-24.2-time')\n",
    "tractor"
   ]
  },
  {
   "cell_type": "code",
   "execution_count": null,
   "metadata": {},
   "outputs": [],
   "source": [
    "tractor.plot.scatter('longitude', 'lattitude', s=1, c='eng_torque', cmap='jet', vmin=10, vmax=15)"
   ]
  },
  {
   "cell_type": "code",
   "execution_count": null,
   "metadata": {},
   "outputs": [],
   "source": [
    "# seems there is outlier\n",
    "tractor_clean = tractor.query('lattitude > 40')\n",
    "tractor_clean.plot.scatter('longitude', 'lattitude', s=1, c='eng_torque', cmap='jet', vmin=10, vmax=15)"
   ]
  }
 ],
 "metadata": {
  "colab": {
   "authorship_tag": "ABX9TyPy4LdjkMDgj9MWYp3b6e62",
   "collapsed_sections": [],
   "name": "week8_Pandas_advanced.ipynb",
   "provenance": [],
   "toc_visible": true
  },
  "kernelspec": {
   "display_name": "Python 3",
   "language": "python",
   "name": "python3"
  },
  "language_info": {
   "codemirror_mode": {
    "name": "ipython",
    "version": 3
   },
   "file_extension": ".py",
   "mimetype": "text/x-python",
   "name": "python",
   "nbconvert_exporter": "python",
   "pygments_lexer": "ipython3",
   "version": "3.7.6"
  }
 },
 "nbformat": 4,
 "nbformat_minor": 1
}
