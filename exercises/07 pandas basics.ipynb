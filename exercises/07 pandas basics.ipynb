{
 "cells": [
  {
   "cell_type": "markdown",
   "metadata": {},
   "source": [
    "### 1. Use Pandas to repeat the Exercise 5.7. \n",
    "\n",
    "Hint 1: Use `pd.read_csv(url, ...)` to read the USGS online gauge data.\n",
    "\n",
    "Hint 2: Use `df.set_index()` to set the datetime column and `df.resample()` to calculate the monthly and annual statistics"
   ]
  },
  {
   "cell_type": "markdown",
   "metadata": {},
   "source": [
    "### 2. Use Pandas to \n",
    "\n",
    "1. Read data in `data/users.zip` (using Pandas' the on-the-fly decompression cabability)\n",
    "\n",
    "2. Identify all the occupations and compare the user numbers between STEM-related occupations and non-STEM occupations.\n",
    "\n",
    "3. Identify the locations of the users that are programmers and above 35. How many male and female programmers, respectively? Is this ratio the same for the age under 35?\n",
    "\n",
    "3. Compare the numbers of male and female for each occupations\n",
    "\n",
    "4. Find the occupations with the youngest and oldest **mean** ages, respectively\n",
    "\n",
    "5. Based on the first two digits of the zip codes, find the area with the largest number of users "
   ]
  }
 ],
 "metadata": {
  "kernelspec": {
   "display_name": "Python 3",
   "language": "python",
   "name": "python3"
  },
  "language_info": {
   "codemirror_mode": {
    "name": "ipython",
    "version": 3
   },
   "file_extension": ".py",
   "mimetype": "text/x-python",
   "name": "python",
   "nbconvert_exporter": "python",
   "pygments_lexer": "ipython3",
   "version": "3.7.6"
  }
 },
 "nbformat": 4,
 "nbformat_minor": 4
}
